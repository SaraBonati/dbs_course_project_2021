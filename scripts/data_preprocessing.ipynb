{
 "metadata": {
  "language_info": {
   "codemirror_mode": {
    "name": "ipython",
    "version": 3
   },
   "file_extension": ".py",
   "mimetype": "text/x-python",
   "name": "python",
   "nbconvert_exporter": "python",
   "pygments_lexer": "ipython3",
   "version": "3.8.8"
  },
  "orig_nbformat": 2,
  "kernelspec": {
   "name": "python3",
   "display_name": "Python 3.8.8 64-bit"
  },
  "metadata": {
   "interpreter": {
    "hash": "496b04e30059469958467f0d4db1620d644ed6cb7bd63306bef423de4168438b"
   }
  },
  "interpreter": {
   "hash": "07afcbd8d7776ff52bf9b1fd54bf6198581a67f15b30be370d696be8a443e1a8"
  }
 },
 "nbformat": 4,
 "nbformat_minor": 2,
 "cells": [
  {
   "source": [
    "## DBS course Project (Summer Semester 2021 - FU Berlin)\n",
    "## Data Preprocessing\n",
    "\n",
    "In this script all .csv files containing data for the project are cleaned and put otgether to create final csv files. These final csv files will be ready to be uploaded in PgAdmin4 as a table of the final project assignment database."
   ],
   "cell_type": "markdown",
   "metadata": {}
  },
  {
   "cell_type": "code",
   "execution_count": 1,
   "metadata": {},
   "outputs": [],
   "source": [
    "# general utility import\n",
    "import numpy as np\n",
    "import pandas as pd\n",
    "import matplotlib.pyplot as plt\n",
    "import matplotlib.gridspec as gridspec\n",
    "import seaborn as sns\n",
    "import requests\n",
    "import os"
   ]
  },
  {
   "cell_type": "code",
   "execution_count": 2,
   "metadata": {},
   "outputs": [],
   "source": [
    "# directory management\n",
    "wdir = os.getcwd()\n",
    "ddir = os.path.join(os.path.dirname(wdir),'data')\n",
    "raw_data_dir = os.path.join(ddir,'raw')\n",
    "final_data_dir = os.path.join(ddir,'final')"
   ]
  },
  {
   "source": [
    "## COUNTRY table\n",
    "We use the population growth csv file to extract country names as well as their codes. In addition, we map each country to the part of the world it belongs to and add this information in a column. In the relational model of the project the COUNTRY table is as follows:\n",
    "\n",
    "COUNTRY(Name,Code,PartOfWorld)\n",
    "PRIMARY KEY (Name)\n",
    "\n",
    "### Import csv files"
   ],
   "cell_type": "markdown",
   "metadata": {}
  },
  {
   "cell_type": "code",
   "execution_count": 3,
   "metadata": {},
   "outputs": [],
   "source": [
    "#import population growth\n",
    "pop_growth = pd.read_csv(os.path.join(raw_data_dir,'population_growth.csv'),header=0) "
   ]
  },
  {
   "cell_type": "code",
   "execution_count": 4,
   "metadata": {},
   "outputs": [
    {
     "output_type": "stream",
     "name": "stdout",
     "text": [
      "<class 'pandas.core.frame.DataFrame'>\nRangeIndex: 264 entries, 0 to 263\nData columns (total 65 columns):\n #   Column          Non-Null Count  Dtype  \n---  ------          --------------  -----  \n 0   Country Name    264 non-null    object \n 1   Country Code    264 non-null    object \n 2   Indicator Name  264 non-null    object \n 3   Indicator Code  264 non-null    object \n 4   1960            0 non-null      float64\n 5   1961            260 non-null    float64\n 6   1962            260 non-null    float64\n 7   1963            260 non-null    float64\n 8   1964            260 non-null    float64\n 9   1965            260 non-null    float64\n 10  1966            260 non-null    float64\n 11  1967            260 non-null    float64\n 12  1968            260 non-null    float64\n 13  1969            260 non-null    float64\n 14  1970            260 non-null    float64\n 15  1971            260 non-null    float64\n 16  1972            260 non-null    float64\n 17  1973            260 non-null    float64\n 18  1974            260 non-null    float64\n 19  1975            260 non-null    float64\n 20  1976            260 non-null    float64\n 21  1977            260 non-null    float64\n 22  1978            260 non-null    float64\n 23  1979            260 non-null    float64\n 24  1980            260 non-null    float64\n 25  1981            260 non-null    float64\n 26  1982            260 non-null    float64\n 27  1983            260 non-null    float64\n 28  1984            260 non-null    float64\n 29  1985            260 non-null    float64\n 30  1986            260 non-null    float64\n 31  1987            260 non-null    float64\n 32  1988            260 non-null    float64\n 33  1989            260 non-null    float64\n 34  1990            261 non-null    float64\n 35  1991            261 non-null    float64\n 36  1992            261 non-null    float64\n 37  1993            261 non-null    float64\n 38  1994            261 non-null    float64\n 39  1995            261 non-null    float64\n 40  1996            262 non-null    float64\n 41  1997            262 non-null    float64\n 42  1998            262 non-null    float64\n 43  1999            263 non-null    float64\n 44  2000            263 non-null    float64\n 45  2001            263 non-null    float64\n 46  2002            263 non-null    float64\n 47  2003            263 non-null    float64\n 48  2004            263 non-null    float64\n 49  2005            263 non-null    float64\n 50  2006            263 non-null    float64\n 51  2007            263 non-null    float64\n 52  2008            263 non-null    float64\n 53  2009            263 non-null    float64\n 54  2010            263 non-null    float64\n 55  2011            263 non-null    float64\n 56  2012            262 non-null    float64\n 57  2013            262 non-null    float64\n 58  2014            262 non-null    float64\n 59  2015            262 non-null    float64\n 60  2016            262 non-null    float64\n 61  2017            262 non-null    float64\n 62  2018            262 non-null    float64\n 63  2019            262 non-null    float64\n 64  2020            0 non-null      float64\ndtypes: float64(61), object(4)\nmemory usage: 134.2+ KB\n"
     ]
    }
   ],
   "source": [
    "pop_growth.info()"
   ]
  },
  {
   "cell_type": "code",
   "execution_count": 5,
   "metadata": {},
   "outputs": [
    {
     "output_type": "execute_result",
     "data": {
      "text/plain": [
       "array(['Aruba', 'Afghanistan', 'Angola', 'Albania', 'Andorra',\n",
       "       'Arab World', 'United Arab Emirates', 'Argentina', 'Armenia',\n",
       "       'American Samoa', 'Antigua and Barbuda', 'Australia', 'Austria',\n",
       "       'Azerbaijan', 'Burundi', 'Belgium', 'Benin', 'Burkina Faso',\n",
       "       'Bangladesh', 'Bulgaria', 'Bahrain', 'Bahamas, The',\n",
       "       'Bosnia and Herzegovina', 'Belarus', 'Belize', 'Bermuda',\n",
       "       'Bolivia', 'Brazil', 'Barbados', 'Brunei Darussalam', 'Bhutan',\n",
       "       'Botswana', 'Central African Republic', 'Canada',\n",
       "       'Central Europe and the Baltics', 'Switzerland', 'Channel Islands',\n",
       "       'Chile', 'China', \"Cote d'Ivoire\", 'Cameroon', 'Congo, Dem. Rep.',\n",
       "       'Congo, Rep.', 'Colombia', 'Comoros', 'Cabo Verde', 'Costa Rica',\n",
       "       'Caribbean small states', 'Cuba', 'Curacao', 'Cayman Islands',\n",
       "       'Cyprus', 'Czech Republic', 'Germany', 'Djibouti', 'Dominica',\n",
       "       'Denmark', 'Dominican Republic', 'Algeria',\n",
       "       'East Asia & Pacific (excluding high income)',\n",
       "       'Early-demographic dividend', 'East Asia & Pacific',\n",
       "       'Europe & Central Asia (excluding high income)',\n",
       "       'Europe & Central Asia', 'Ecuador', 'Egypt, Arab Rep.',\n",
       "       'Euro area', 'Eritrea', 'Spain', 'Estonia', 'Ethiopia',\n",
       "       'European Union', 'Fragile and conflict affected situations',\n",
       "       'Finland', 'Fiji', 'France', 'Faroe Islands',\n",
       "       'Micronesia, Fed. Sts.', 'Gabon', 'United Kingdom', 'Georgia',\n",
       "       'Ghana', 'Gibraltar', 'Guinea', 'Gambia, The', 'Guinea-Bissau',\n",
       "       'Equatorial Guinea', 'Greece', 'Grenada', 'Greenland', 'Guatemala',\n",
       "       'Guam', 'Guyana', 'High income', 'Hong Kong SAR, China',\n",
       "       'Honduras', 'Heavily indebted poor countries (HIPC)', 'Croatia',\n",
       "       'Haiti', 'Hungary', 'IBRD only', 'IDA & IBRD total', 'IDA total',\n",
       "       'IDA blend', 'Indonesia', 'IDA only', 'Isle of Man', 'India',\n",
       "       'Not classified', 'Ireland', 'Iran, Islamic Rep.', 'Iraq',\n",
       "       'Iceland', 'Israel', 'Italy', 'Jamaica', 'Jordan', 'Japan',\n",
       "       'Kazakhstan', 'Kenya', 'Kyrgyz Republic', 'Cambodia', 'Kiribati',\n",
       "       'St. Kitts and Nevis', 'Korea, Rep.', 'Kuwait',\n",
       "       'Latin America & Caribbean (excluding high income)', 'Lao PDR',\n",
       "       'Lebanon', 'Liberia', 'Libya', 'St. Lucia',\n",
       "       'Latin America & Caribbean',\n",
       "       'Least developed countries: UN classification', 'Low income',\n",
       "       'Liechtenstein', 'Sri Lanka', 'Lower middle income',\n",
       "       'Low & middle income', 'Lesotho', 'Late-demographic dividend',\n",
       "       'Lithuania', 'Luxembourg', 'Latvia', 'Macao SAR, China',\n",
       "       'St. Martin (French part)', 'Morocco', 'Monaco', 'Moldova',\n",
       "       'Madagascar', 'Maldives', 'Middle East & North Africa', 'Mexico',\n",
       "       'Marshall Islands', 'Middle income', 'North Macedonia', 'Mali',\n",
       "       'Malta', 'Myanmar',\n",
       "       'Middle East & North Africa (excluding high income)', 'Montenegro',\n",
       "       'Mongolia', 'Northern Mariana Islands', 'Mozambique', 'Mauritania',\n",
       "       'Mauritius', 'Malawi', 'Malaysia', 'North America', 'Namibia',\n",
       "       'New Caledonia', 'Niger', 'Nigeria', 'Nicaragua', 'Netherlands',\n",
       "       'Norway', 'Nepal', 'Nauru', 'New Zealand', 'OECD members', 'Oman',\n",
       "       'Other small states', 'Pakistan', 'Panama', 'Peru', 'Philippines',\n",
       "       'Palau', 'Papua New Guinea', 'Poland', 'Pre-demographic dividend',\n",
       "       'Puerto Rico', 'Korea, Dem. People’s Rep.', 'Portugal', 'Paraguay',\n",
       "       'West Bank and Gaza', 'Pacific island small states',\n",
       "       'Post-demographic dividend', 'French Polynesia', 'Qatar',\n",
       "       'Romania', 'Russian Federation', 'Rwanda', 'South Asia',\n",
       "       'Saudi Arabia', 'Sudan', 'Senegal', 'Singapore', 'Solomon Islands',\n",
       "       'Sierra Leone', 'El Salvador', 'San Marino', 'Somalia', 'Serbia',\n",
       "       'Sub-Saharan Africa (excluding high income)', 'South Sudan',\n",
       "       'Sub-Saharan Africa', 'Small states', 'Sao Tome and Principe',\n",
       "       'Suriname', 'Slovak Republic', 'Slovenia', 'Sweden', 'Eswatini',\n",
       "       'Sint Maarten (Dutch part)', 'Seychelles', 'Syrian Arab Republic',\n",
       "       'Turks and Caicos Islands', 'Chad',\n",
       "       'East Asia & Pacific (IDA & IBRD countries)',\n",
       "       'Europe & Central Asia (IDA & IBRD countries)', 'Togo', 'Thailand',\n",
       "       'Tajikistan', 'Turkmenistan',\n",
       "       'Latin America & the Caribbean (IDA & IBRD countries)',\n",
       "       'Timor-Leste', 'Middle East & North Africa (IDA & IBRD countries)',\n",
       "       'Tonga', 'South Asia (IDA & IBRD)',\n",
       "       'Sub-Saharan Africa (IDA & IBRD countries)', 'Trinidad and Tobago',\n",
       "       'Tunisia', 'Turkey', 'Tuvalu', 'Tanzania', 'Uganda', 'Ukraine',\n",
       "       'Upper middle income', 'Uruguay', 'United States', 'Uzbekistan',\n",
       "       'St. Vincent and the Grenadines', 'Venezuela, RB',\n",
       "       'British Virgin Islands', 'Virgin Islands (U.S.)', 'Vietnam',\n",
       "       'Vanuatu', 'World', 'Samoa', 'Kosovo', 'Yemen, Rep.',\n",
       "       'South Africa', 'Zambia', 'Zimbabwe'], dtype=object)"
      ]
     },
     "metadata": {},
     "execution_count": 5
    }
   ],
   "source": [
    "country = pop_growth[['Country Name','Country Code']]\n",
    "# what countries are in the csv file?\n",
    "country['Country Name'].unique()"
   ]
  },
  {
   "source": [
    "We see that some rows in the csv file correspond to \"aggregates of countries\" e.g. 'South Asia (IDA & IBRD)' or 'High income'. For the purposes of this project we remove these rows."
   ],
   "cell_type": "markdown",
   "metadata": {}
  },
  {
   "cell_type": "code",
   "execution_count": 6,
   "metadata": {},
   "outputs": [
    {
     "output_type": "execute_result",
     "data": {
      "text/plain": [
       "array(['Aruba', 'Afghanistan', 'Angola', 'Albania', 'Andorra',\n",
       "       'United Arab Emirates', 'Argentina', 'Armenia', 'American Samoa',\n",
       "       'Antigua and Barbuda', 'Australia', 'Austria', 'Azerbaijan',\n",
       "       'Burundi', 'Belgium', 'Benin', 'Burkina Faso', 'Bangladesh',\n",
       "       'Bulgaria', 'Bahrain', 'Bahamas, The', 'Bosnia and Herzegovina',\n",
       "       'Belarus', 'Belize', 'Bermuda', 'Bolivia', 'Brazil', 'Barbados',\n",
       "       'Brunei Darussalam', 'Bhutan', 'Botswana',\n",
       "       'Central African Republic', 'Canada', 'Switzerland',\n",
       "       'Channel Islands', 'Chile', 'China', \"Cote d'Ivoire\", 'Cameroon',\n",
       "       'Congo, Dem. Rep.', 'Congo, Rep.', 'Colombia', 'Comoros',\n",
       "       'Cabo Verde', 'Costa Rica', 'Cuba', 'Curacao', 'Cayman Islands',\n",
       "       'Cyprus', 'Czech Republic', 'Germany', 'Djibouti', 'Dominica',\n",
       "       'Denmark', 'Dominican Republic', 'Algeria', 'Ecuador',\n",
       "       'Egypt, Arab Rep.', 'Eritrea', 'Spain', 'Estonia', 'Ethiopia',\n",
       "       'Finland', 'Fiji', 'France', 'Faroe Islands',\n",
       "       'Micronesia, Fed. Sts.', 'Gabon', 'United Kingdom', 'Georgia',\n",
       "       'Ghana', 'Gibraltar', 'Guinea', 'Gambia, The', 'Guinea-Bissau',\n",
       "       'Equatorial Guinea', 'Greece', 'Grenada', 'Greenland', 'Guatemala',\n",
       "       'Guam', 'Guyana', 'Hong Kong SAR, China', 'Honduras', 'Croatia',\n",
       "       'Haiti', 'Hungary', 'Indonesia', 'Isle of Man', 'India', 'Ireland',\n",
       "       'Iran, Islamic Rep.', 'Iraq', 'Iceland', 'Israel', 'Italy',\n",
       "       'Jamaica', 'Jordan', 'Japan', 'Kazakhstan', 'Kenya',\n",
       "       'Kyrgyz Republic', 'Cambodia', 'Kiribati', 'St. Kitts and Nevis',\n",
       "       'Korea, Rep.', 'Kuwait', 'Lao PDR', 'Lebanon', 'Liberia', 'Libya',\n",
       "       'St. Lucia', 'Liechtenstein', 'Sri Lanka', 'Lesotho', 'Lithuania',\n",
       "       'Luxembourg', 'Latvia', 'Macao SAR, China',\n",
       "       'St. Martin (French part)', 'Morocco', 'Monaco', 'Moldova',\n",
       "       'Madagascar', 'Maldives', 'Mexico', 'Marshall Islands',\n",
       "       'North Macedonia', 'Mali', 'Malta', 'Myanmar', 'Montenegro',\n",
       "       'Mongolia', 'Northern Mariana Islands', 'Mozambique', 'Mauritania',\n",
       "       'Mauritius', 'Malawi', 'Malaysia', 'Namibia', 'New Caledonia',\n",
       "       'Niger', 'Nigeria', 'Nicaragua', 'Netherlands', 'Norway', 'Nepal',\n",
       "       'Nauru', 'New Zealand', 'Oman', 'Pakistan', 'Panama', 'Peru',\n",
       "       'Philippines', 'Palau', 'Papua New Guinea', 'Poland',\n",
       "       'Puerto Rico', 'Korea, Dem. People’s Rep.', 'Portugal', 'Paraguay',\n",
       "       'West Bank and Gaza', 'French Polynesia', 'Qatar', 'Romania',\n",
       "       'Russian Federation', 'Rwanda', 'Saudi Arabia', 'Sudan', 'Senegal',\n",
       "       'Singapore', 'Solomon Islands', 'Sierra Leone', 'El Salvador',\n",
       "       'San Marino', 'Somalia', 'Serbia', 'South Sudan',\n",
       "       'Sao Tome and Principe', 'Suriname', 'Slovak Republic', 'Slovenia',\n",
       "       'Sweden', 'Eswatini', 'Sint Maarten (Dutch part)', 'Seychelles',\n",
       "       'Syrian Arab Republic', 'Turks and Caicos Islands', 'Chad', 'Togo',\n",
       "       'Thailand', 'Tajikistan', 'Turkmenistan', 'Timor-Leste', 'Tonga',\n",
       "       'Trinidad and Tobago', 'Tunisia', 'Turkey', 'Tuvalu', 'Tanzania',\n",
       "       'Uganda', 'Ukraine', 'Uruguay', 'United States', 'Uzbekistan',\n",
       "       'St. Vincent and the Grenadines', 'Venezuela, RB',\n",
       "       'British Virgin Islands', 'Virgin Islands (U.S.)', 'Vietnam',\n",
       "       'Vanuatu', 'Samoa', 'Kosovo', 'Yemen, Rep.', 'South Africa',\n",
       "       'Zambia', 'Zimbabwe'], dtype=object)"
      ]
     },
     "metadata": {},
     "execution_count": 6
    }
   ],
   "source": [
    "rows_to_exclude = ['East Asia & Pacific (excluding high income)',\n",
    "                   'Early-demographic dividend',\n",
    "                   'Small states',\n",
    "                   'Middle income',\n",
    "                   'Least developed countries: UN classification', \n",
    "                   'Low income',\n",
    "                   'Euro area', \n",
    "                   'European Union', \n",
    "                   'Fragile and conflict affected situations',\n",
    "                   'Early-demographic dividend',\n",
    "                   'East Asia & Pacific',\n",
    "                   'Europe & Central Asia (excluding high income)',\n",
    "                   'Europe & Central Asia',\n",
    "                   'North America',\n",
    "                   'Central Europe and the Baltics',\n",
    "                   'Lower middle income',\n",
    "                   'IBRD only', 'IDA & IBRD total', 'IDA total',\n",
    "                   'IDA blend', 'IDA only',\n",
    "                   'Not classified',\n",
    "                   'Low & middle income',\n",
    "                   'Small states',\n",
    "                   'Late-demographic dividend',\n",
    "                   'Middle East & North Africa',\n",
    "                   'Heavily indebted poor countries (HIPC)',\n",
    "                   'Pre-demographic dividend',\n",
    "                   'Sub-Saharan Africa (excluding high income)',\n",
    "                   'Sub-Saharan Africa',\n",
    "                   'OECD members',\n",
    "                   'High income',\n",
    "                   'Upper middle income',\n",
    "                   'Other small states',\n",
    "                   'Middle East & North Africa (excluding high income)',\n",
    "                   'Latin America & Caribbean',\n",
    "                   'Latin America & the Caribbean (IDA & IBRD countries)',\n",
    "                   'Middle East & North Africa (IDA & IBRD countries)',\n",
    "                   'South Asia (IDA & IBRD)',\n",
    "                   'Post-demographic dividend',\n",
    "                   'East Asia & Pacific (IDA & IBRD countries)',\n",
    "                   'Europe & Central Asia (IDA & IBRD countries)',\n",
    "                   'Latin America & Caribbean (excluding high income)',\n",
    "                   'Sub-Saharan Africa (IDA & IBRD countries)',\n",
    "                   'Arab World',\n",
    "                   'World',\n",
    "                   'South Asia',\n",
    "                   'Pacific island small states',\n",
    "                   'Caribbean small states']\n",
    "country = country[~country['Country Name'].isin(rows_to_exclude)]\n",
    "country['Country Name'].unique()"
   ]
  },
  {
   "cell_type": "code",
   "execution_count": 7,
   "metadata": {},
   "outputs": [
    {
     "output_type": "stream",
     "name": "stdout",
     "text": [
      "<class 'pandas.core.frame.DataFrame'>\nInt64Index: 217 entries, 0 to 263\nData columns (total 2 columns):\n #   Column        Non-Null Count  Dtype \n---  ------        --------------  ----- \n 0   Country Name  217 non-null    object\n 1   Country Code  217 non-null    object\ndtypes: object(2)\nmemory usage: 5.1+ KB\n"
     ]
    }
   ],
   "source": [
    "country.info()"
   ]
  },
  {
   "source": [
    "Now we add a new column with the part of the world a country belongs to (following the classification in https://datahelpdesk.worldbank.org/knowledgebase/articles/906519-world-bank-country-and-lending-groups)"
   ],
   "cell_type": "markdown",
   "metadata": {}
  },
  {
   "cell_type": "code",
   "execution_count": 8,
   "metadata": {},
   "outputs": [
    {
     "output_type": "execute_result",
     "data": {
      "text/plain": [
       "Empty DataFrame\n",
       "Columns: [Country Name, Country Code, Part_of_World]\n",
       "Index: []"
      ],
      "text/html": "<div>\n<style scoped>\n    .dataframe tbody tr th:only-of-type {\n        vertical-align: middle;\n    }\n\n    .dataframe tbody tr th {\n        vertical-align: top;\n    }\n\n    .dataframe thead th {\n        text-align: right;\n    }\n</style>\n<table border=\"1\" class=\"dataframe\">\n  <thead>\n    <tr style=\"text-align: right;\">\n      <th></th>\n      <th>Country Name</th>\n      <th>Country Code</th>\n      <th>Part_of_World</th>\n    </tr>\n  </thead>\n  <tbody>\n  </tbody>\n</table>\n</div>"
     },
     "metadata": {},
     "execution_count": 8
    }
   ],
   "source": [
    "import lxml\n",
    "import itertools\n",
    "\n",
    "url = 'https://datahelpdesk.worldbank.org/knowledgebase/articles/906519-world-bank-country-and-lending-groups'\n",
    "html = requests.get(url).content\n",
    "df_list = pd.read_html(html)\n",
    "\n",
    "parts_of_world = {}\n",
    "# east asia and pacific\n",
    "for c in [x for x in list(itertools.chain.from_iterable(df_list[1].values.tolist())) if x != 'nan']:\n",
    "    parts_of_world[c]='East Asia and Pacific'\n",
    "\n",
    "# europe and central asia\n",
    "for c in [x for x in list(itertools.chain.from_iterable(df_list[2].values.tolist())) if x != 'nan']:\n",
    "    parts_of_world[c]='Europe and Central Asia'\n",
    "\n",
    "# latin america and the caribbean\n",
    "for c in [x for x in list(itertools.chain.from_iterable(df_list[3].values.tolist())) if x != 'nan']:\n",
    "    parts_of_world[c]='Latin America and the Caribbean'\n",
    "\n",
    "# middle east and north africa\n",
    "for c in [x for x in list(itertools.chain.from_iterable(df_list[4].values.tolist())) if x != 'nan']:\n",
    "    parts_of_world[c]='Middle East and North Africa'\n",
    "\n",
    "# north america\n",
    "for c in [x for x in list(itertools.chain.from_iterable(df_list[5].values.tolist())) if x != 'nan']:\n",
    "    parts_of_world[c]='North America'\n",
    "\n",
    "# south asia\n",
    "for c in [x for x in list(itertools.chain.from_iterable(df_list[6].values.tolist())) if x != 'nan']:\n",
    "    parts_of_world[c]='South Asia'\n",
    "\n",
    "# sub-saharan africa\n",
    "for c in [x for x in list(itertools.chain.from_iterable(df_list[7].values.tolist())) if x != 'nan']:\n",
    "    parts_of_world[c]='Sub-saharan Africa'\n",
    "\n",
    "# fixing remaining states individually\n",
    "parts_of_world['Bosnia and Herzegovina']='Europe and Central Asia'\n",
    "parts_of_world['Central African Republic']='Sub-saharan Africa'\n",
    "parts_of_world['Channel Islands']='Europe and Central Asia'\n",
    "parts_of_world[\"Cote d'Ivoire\"]='Sub-saharan Africa'\n",
    "parts_of_world['Congo, Rep.']='Sub-saharan Africa'\n",
    "parts_of_world['Czech Republic']='Europe and Central Asia'\n",
    "parts_of_world['Egypt, Arab Rep.']='Middle East and North Africa'\n",
    "parts_of_world['Faroe Islands']='Europe and Central Asia'\n",
    "parts_of_world['Equatorial Guinea']='Sub-saharan Africa'\t\n",
    "parts_of_world['Iran, Islamic Rep.']='Middle East and North Africa'\n",
    "parts_of_world['Korea, Dem. People’s Rep.']='East Asia and Pacific'\n",
    "parts_of_world['Sao Tome and Principe']='Sub-saharan Africa'\n",
    "\n",
    "country['Part_of_World'] = country['Country Name'].map(parts_of_world)\n",
    "country[country['Part_of_World'].isnull()]"
   ]
  },
  {
   "cell_type": "code",
   "execution_count": 9,
   "metadata": {},
   "outputs": [
    {
     "output_type": "execute_result",
     "data": {
      "text/plain": [
       "                Country Name Country Code                    Part_of_World\n",
       "0                      Aruba          ABW  Latin America and the Caribbean\n",
       "1                Afghanistan          AFG                       South Asia\n",
       "2                     Angola          AGO               Sub-saharan Africa\n",
       "3                    Albania          ALB          Europe and Central Asia\n",
       "4                    Andorra          AND          Europe and Central Asia\n",
       "6       United Arab Emirates          ARE     Middle East and North Africa\n",
       "7                  Argentina          ARG  Latin America and the Caribbean\n",
       "8                    Armenia          ARM          Europe and Central Asia\n",
       "9             American Samoa          ASM            East Asia and Pacific\n",
       "10       Antigua and Barbuda          ATG  Latin America and the Caribbean\n",
       "11                 Australia          AUS            East Asia and Pacific\n",
       "12                   Austria          AUT          Europe and Central Asia\n",
       "13                Azerbaijan          AZE          Europe and Central Asia\n",
       "14                   Burundi          BDI               Sub-saharan Africa\n",
       "15                   Belgium          BEL          Europe and Central Asia\n",
       "16                     Benin          BEN               Sub-saharan Africa\n",
       "17              Burkina Faso          BFA               Sub-saharan Africa\n",
       "18                Bangladesh          BGD                       South Asia\n",
       "19                  Bulgaria          BGR          Europe and Central Asia\n",
       "20                   Bahrain          BHR     Middle East and North Africa\n",
       "21              Bahamas, The          BHS  Latin America and the Caribbean\n",
       "22    Bosnia and Herzegovina          BIH          Europe and Central Asia\n",
       "23                   Belarus          BLR          Europe and Central Asia\n",
       "24                    Belize          BLZ  Latin America and the Caribbean\n",
       "25                   Bermuda          BMU                    North America\n",
       "26                   Bolivia          BOL  Latin America and the Caribbean\n",
       "27                    Brazil          BRA  Latin America and the Caribbean\n",
       "28                  Barbados          BRB  Latin America and the Caribbean\n",
       "29         Brunei Darussalam          BRN            East Asia and Pacific\n",
       "30                    Bhutan          BTN                       South Asia\n",
       "31                  Botswana          BWA               Sub-saharan Africa\n",
       "32  Central African Republic          CAF               Sub-saharan Africa\n",
       "33                    Canada          CAN                    North America\n",
       "35               Switzerland          CHE          Europe and Central Asia\n",
       "36           Channel Islands          CHI          Europe and Central Asia\n",
       "37                     Chile          CHL  Latin America and the Caribbean\n",
       "38                     China          CHN            East Asia and Pacific\n",
       "39             Cote d'Ivoire          CIV               Sub-saharan Africa\n",
       "40                  Cameroon          CMR               Sub-saharan Africa\n",
       "41          Congo, Dem. Rep.          COD               Sub-saharan Africa\n",
       "42               Congo, Rep.          COG               Sub-saharan Africa\n",
       "43                  Colombia          COL  Latin America and the Caribbean\n",
       "44                   Comoros          COM               Sub-saharan Africa\n",
       "45                Cabo Verde          CPV               Sub-saharan Africa\n",
       "46                Costa Rica          CRI  Latin America and the Caribbean\n",
       "48                      Cuba          CUB  Latin America and the Caribbean\n",
       "49                   Curacao          CUW  Latin America and the Caribbean\n",
       "50            Cayman Islands          CYM  Latin America and the Caribbean\n",
       "51                    Cyprus          CYP          Europe and Central Asia\n",
       "52            Czech Republic          CZE          Europe and Central Asia"
      ],
      "text/html": "<div>\n<style scoped>\n    .dataframe tbody tr th:only-of-type {\n        vertical-align: middle;\n    }\n\n    .dataframe tbody tr th {\n        vertical-align: top;\n    }\n\n    .dataframe thead th {\n        text-align: right;\n    }\n</style>\n<table border=\"1\" class=\"dataframe\">\n  <thead>\n    <tr style=\"text-align: right;\">\n      <th></th>\n      <th>Country Name</th>\n      <th>Country Code</th>\n      <th>Part_of_World</th>\n    </tr>\n  </thead>\n  <tbody>\n    <tr>\n      <th>0</th>\n      <td>Aruba</td>\n      <td>ABW</td>\n      <td>Latin America and the Caribbean</td>\n    </tr>\n    <tr>\n      <th>1</th>\n      <td>Afghanistan</td>\n      <td>AFG</td>\n      <td>South Asia</td>\n    </tr>\n    <tr>\n      <th>2</th>\n      <td>Angola</td>\n      <td>AGO</td>\n      <td>Sub-saharan Africa</td>\n    </tr>\n    <tr>\n      <th>3</th>\n      <td>Albania</td>\n      <td>ALB</td>\n      <td>Europe and Central Asia</td>\n    </tr>\n    <tr>\n      <th>4</th>\n      <td>Andorra</td>\n      <td>AND</td>\n      <td>Europe and Central Asia</td>\n    </tr>\n    <tr>\n      <th>6</th>\n      <td>United Arab Emirates</td>\n      <td>ARE</td>\n      <td>Middle East and North Africa</td>\n    </tr>\n    <tr>\n      <th>7</th>\n      <td>Argentina</td>\n      <td>ARG</td>\n      <td>Latin America and the Caribbean</td>\n    </tr>\n    <tr>\n      <th>8</th>\n      <td>Armenia</td>\n      <td>ARM</td>\n      <td>Europe and Central Asia</td>\n    </tr>\n    <tr>\n      <th>9</th>\n      <td>American Samoa</td>\n      <td>ASM</td>\n      <td>East Asia and Pacific</td>\n    </tr>\n    <tr>\n      <th>10</th>\n      <td>Antigua and Barbuda</td>\n      <td>ATG</td>\n      <td>Latin America and the Caribbean</td>\n    </tr>\n    <tr>\n      <th>11</th>\n      <td>Australia</td>\n      <td>AUS</td>\n      <td>East Asia and Pacific</td>\n    </tr>\n    <tr>\n      <th>12</th>\n      <td>Austria</td>\n      <td>AUT</td>\n      <td>Europe and Central Asia</td>\n    </tr>\n    <tr>\n      <th>13</th>\n      <td>Azerbaijan</td>\n      <td>AZE</td>\n      <td>Europe and Central Asia</td>\n    </tr>\n    <tr>\n      <th>14</th>\n      <td>Burundi</td>\n      <td>BDI</td>\n      <td>Sub-saharan Africa</td>\n    </tr>\n    <tr>\n      <th>15</th>\n      <td>Belgium</td>\n      <td>BEL</td>\n      <td>Europe and Central Asia</td>\n    </tr>\n    <tr>\n      <th>16</th>\n      <td>Benin</td>\n      <td>BEN</td>\n      <td>Sub-saharan Africa</td>\n    </tr>\n    <tr>\n      <th>17</th>\n      <td>Burkina Faso</td>\n      <td>BFA</td>\n      <td>Sub-saharan Africa</td>\n    </tr>\n    <tr>\n      <th>18</th>\n      <td>Bangladesh</td>\n      <td>BGD</td>\n      <td>South Asia</td>\n    </tr>\n    <tr>\n      <th>19</th>\n      <td>Bulgaria</td>\n      <td>BGR</td>\n      <td>Europe and Central Asia</td>\n    </tr>\n    <tr>\n      <th>20</th>\n      <td>Bahrain</td>\n      <td>BHR</td>\n      <td>Middle East and North Africa</td>\n    </tr>\n    <tr>\n      <th>21</th>\n      <td>Bahamas, The</td>\n      <td>BHS</td>\n      <td>Latin America and the Caribbean</td>\n    </tr>\n    <tr>\n      <th>22</th>\n      <td>Bosnia and Herzegovina</td>\n      <td>BIH</td>\n      <td>Europe and Central Asia</td>\n    </tr>\n    <tr>\n      <th>23</th>\n      <td>Belarus</td>\n      <td>BLR</td>\n      <td>Europe and Central Asia</td>\n    </tr>\n    <tr>\n      <th>24</th>\n      <td>Belize</td>\n      <td>BLZ</td>\n      <td>Latin America and the Caribbean</td>\n    </tr>\n    <tr>\n      <th>25</th>\n      <td>Bermuda</td>\n      <td>BMU</td>\n      <td>North America</td>\n    </tr>\n    <tr>\n      <th>26</th>\n      <td>Bolivia</td>\n      <td>BOL</td>\n      <td>Latin America and the Caribbean</td>\n    </tr>\n    <tr>\n      <th>27</th>\n      <td>Brazil</td>\n      <td>BRA</td>\n      <td>Latin America and the Caribbean</td>\n    </tr>\n    <tr>\n      <th>28</th>\n      <td>Barbados</td>\n      <td>BRB</td>\n      <td>Latin America and the Caribbean</td>\n    </tr>\n    <tr>\n      <th>29</th>\n      <td>Brunei Darussalam</td>\n      <td>BRN</td>\n      <td>East Asia and Pacific</td>\n    </tr>\n    <tr>\n      <th>30</th>\n      <td>Bhutan</td>\n      <td>BTN</td>\n      <td>South Asia</td>\n    </tr>\n    <tr>\n      <th>31</th>\n      <td>Botswana</td>\n      <td>BWA</td>\n      <td>Sub-saharan Africa</td>\n    </tr>\n    <tr>\n      <th>32</th>\n      <td>Central African Republic</td>\n      <td>CAF</td>\n      <td>Sub-saharan Africa</td>\n    </tr>\n    <tr>\n      <th>33</th>\n      <td>Canada</td>\n      <td>CAN</td>\n      <td>North America</td>\n    </tr>\n    <tr>\n      <th>35</th>\n      <td>Switzerland</td>\n      <td>CHE</td>\n      <td>Europe and Central Asia</td>\n    </tr>\n    <tr>\n      <th>36</th>\n      <td>Channel Islands</td>\n      <td>CHI</td>\n      <td>Europe and Central Asia</td>\n    </tr>\n    <tr>\n      <th>37</th>\n      <td>Chile</td>\n      <td>CHL</td>\n      <td>Latin America and the Caribbean</td>\n    </tr>\n    <tr>\n      <th>38</th>\n      <td>China</td>\n      <td>CHN</td>\n      <td>East Asia and Pacific</td>\n    </tr>\n    <tr>\n      <th>39</th>\n      <td>Cote d'Ivoire</td>\n      <td>CIV</td>\n      <td>Sub-saharan Africa</td>\n    </tr>\n    <tr>\n      <th>40</th>\n      <td>Cameroon</td>\n      <td>CMR</td>\n      <td>Sub-saharan Africa</td>\n    </tr>\n    <tr>\n      <th>41</th>\n      <td>Congo, Dem. Rep.</td>\n      <td>COD</td>\n      <td>Sub-saharan Africa</td>\n    </tr>\n    <tr>\n      <th>42</th>\n      <td>Congo, Rep.</td>\n      <td>COG</td>\n      <td>Sub-saharan Africa</td>\n    </tr>\n    <tr>\n      <th>43</th>\n      <td>Colombia</td>\n      <td>COL</td>\n      <td>Latin America and the Caribbean</td>\n    </tr>\n    <tr>\n      <th>44</th>\n      <td>Comoros</td>\n      <td>COM</td>\n      <td>Sub-saharan Africa</td>\n    </tr>\n    <tr>\n      <th>45</th>\n      <td>Cabo Verde</td>\n      <td>CPV</td>\n      <td>Sub-saharan Africa</td>\n    </tr>\n    <tr>\n      <th>46</th>\n      <td>Costa Rica</td>\n      <td>CRI</td>\n      <td>Latin America and the Caribbean</td>\n    </tr>\n    <tr>\n      <th>48</th>\n      <td>Cuba</td>\n      <td>CUB</td>\n      <td>Latin America and the Caribbean</td>\n    </tr>\n    <tr>\n      <th>49</th>\n      <td>Curacao</td>\n      <td>CUW</td>\n      <td>Latin America and the Caribbean</td>\n    </tr>\n    <tr>\n      <th>50</th>\n      <td>Cayman Islands</td>\n      <td>CYM</td>\n      <td>Latin America and the Caribbean</td>\n    </tr>\n    <tr>\n      <th>51</th>\n      <td>Cyprus</td>\n      <td>CYP</td>\n      <td>Europe and Central Asia</td>\n    </tr>\n    <tr>\n      <th>52</th>\n      <td>Czech Republic</td>\n      <td>CZE</td>\n      <td>Europe and Central Asia</td>\n    </tr>\n  </tbody>\n</table>\n</div>"
     },
     "metadata": {},
     "execution_count": 9
    }
   ],
   "source": [
    "country.head(50)"
   ]
  },
  {
   "cell_type": "code",
   "execution_count": 11,
   "metadata": {},
   "outputs": [],
   "source": [
    "# save final csv file\n",
    "country.to_csv(os.path.join(final_data_dir,'COUNTRY.csv'),index=False)"
   ]
  },
  {
   "source": [
    "## POPULATION TABLE"
   ],
   "cell_type": "markdown",
   "metadata": {}
  },
  {
   "cell_type": "code",
   "execution_count": 20,
   "metadata": {},
   "outputs": [
    {
     "output_type": "stream",
     "name": "stdout",
     "text": [
      "<class 'pandas.core.frame.DataFrame'>\nRangeIndex: 12595 entries, 0 to 12594\nData columns (total 3 columns):\n #   Column        Non-Null Count  Dtype \n---  ------        --------------  ----- \n 0   Country Name  12595 non-null  object\n 1   Year          12595 non-null  int64 \n 2   Count         12595 non-null  int64 \ndtypes: int64(2), object(1)\nmemory usage: 295.3+ KB\n"
     ]
    }
   ],
   "source": [
    "#import population total.csv\n",
    "pop = pd.read_csv(os.path.join(raw_data_dir,'population_total.csv'),header=0) \n",
    "pop.info()"
   ]
  },
  {
   "cell_type": "code",
   "execution_count": 21,
   "metadata": {},
   "outputs": [
    {
     "output_type": "stream",
     "name": "stdout",
     "text": [
      "<class 'pandas.core.frame.DataFrame'>\nRangeIndex: 264 entries, 0 to 263\nData columns (total 65 columns):\n #   Column          Non-Null Count  Dtype  \n---  ------          --------------  -----  \n 0   Country Name    264 non-null    object \n 1   Country Code    264 non-null    object \n 2   Indicator Name  264 non-null    object \n 3   Indicator Code  264 non-null    object \n 4   1960            0 non-null      float64\n 5   1961            260 non-null    float64\n 6   1962            260 non-null    float64\n 7   1963            260 non-null    float64\n 8   1964            260 non-null    float64\n 9   1965            260 non-null    float64\n 10  1966            260 non-null    float64\n 11  1967            260 non-null    float64\n 12  1968            260 non-null    float64\n 13  1969            260 non-null    float64\n 14  1970            260 non-null    float64\n 15  1971            260 non-null    float64\n 16  1972            260 non-null    float64\n 17  1973            260 non-null    float64\n 18  1974            260 non-null    float64\n 19  1975            260 non-null    float64\n 20  1976            260 non-null    float64\n 21  1977            260 non-null    float64\n 22  1978            260 non-null    float64\n 23  1979            260 non-null    float64\n 24  1980            260 non-null    float64\n 25  1981            260 non-null    float64\n 26  1982            260 non-null    float64\n 27  1983            260 non-null    float64\n 28  1984            260 non-null    float64\n 29  1985            260 non-null    float64\n 30  1986            260 non-null    float64\n 31  1987            260 non-null    float64\n 32  1988            260 non-null    float64\n 33  1989            260 non-null    float64\n 34  1990            261 non-null    float64\n 35  1991            261 non-null    float64\n 36  1992            261 non-null    float64\n 37  1993            261 non-null    float64\n 38  1994            261 non-null    float64\n 39  1995            261 non-null    float64\n 40  1996            262 non-null    float64\n 41  1997            262 non-null    float64\n 42  1998            262 non-null    float64\n 43  1999            263 non-null    float64\n 44  2000            263 non-null    float64\n 45  2001            263 non-null    float64\n 46  2002            263 non-null    float64\n 47  2003            263 non-null    float64\n 48  2004            263 non-null    float64\n 49  2005            263 non-null    float64\n 50  2006            263 non-null    float64\n 51  2007            263 non-null    float64\n 52  2008            263 non-null    float64\n 53  2009            263 non-null    float64\n 54  2010            263 non-null    float64\n 55  2011            263 non-null    float64\n 56  2012            262 non-null    float64\n 57  2013            262 non-null    float64\n 58  2014            262 non-null    float64\n 59  2015            262 non-null    float64\n 60  2016            262 non-null    float64\n 61  2017            262 non-null    float64\n 62  2018            262 non-null    float64\n 63  2019            262 non-null    float64\n 64  2020            0 non-null      float64\ndtypes: float64(61), object(4)\nmemory usage: 134.2+ KB\n"
     ]
    }
   ],
   "source": [
    "pop = pop[pop['Country Name'].isin(country['Country Name'].unique().tolist())]\n",
    "# now population growth\n",
    "pop_growth = pd.read_csv(os.path.join(raw_data_dir,'population_growth.csv'),header=0) \n",
    "pop_growth.info()"
   ]
  },
  {
   "cell_type": "code",
   "execution_count": 22,
   "metadata": {},
   "outputs": [
    {
     "output_type": "execute_result",
     "data": {
      "text/plain": [
       "   Country Name Country Code  Year  Growth\n",
       "0         Aruba          ABW  1960     NaN\n",
       "1   Afghanistan          AFG  1960     NaN\n",
       "2        Angola          AGO  1960     NaN\n",
       "3       Albania          ALB  1960     NaN\n",
       "4       Andorra          AND  1960     NaN\n",
       "..          ...          ...   ...     ...\n",
       "95        Italy          ITA  1960     NaN\n",
       "96      Jamaica          JAM  1960     NaN\n",
       "97       Jordan          JOR  1960     NaN\n",
       "98        Japan          JPN  1960     NaN\n",
       "99   Kazakhstan          KAZ  1960     NaN\n",
       "\n",
       "[100 rows x 4 columns]"
      ],
      "text/html": "<div>\n<style scoped>\n    .dataframe tbody tr th:only-of-type {\n        vertical-align: middle;\n    }\n\n    .dataframe tbody tr th {\n        vertical-align: top;\n    }\n\n    .dataframe thead th {\n        text-align: right;\n    }\n</style>\n<table border=\"1\" class=\"dataframe\">\n  <thead>\n    <tr style=\"text-align: right;\">\n      <th></th>\n      <th>Country Name</th>\n      <th>Country Code</th>\n      <th>Year</th>\n      <th>Growth</th>\n    </tr>\n  </thead>\n  <tbody>\n    <tr>\n      <th>0</th>\n      <td>Aruba</td>\n      <td>ABW</td>\n      <td>1960</td>\n      <td>NaN</td>\n    </tr>\n    <tr>\n      <th>1</th>\n      <td>Afghanistan</td>\n      <td>AFG</td>\n      <td>1960</td>\n      <td>NaN</td>\n    </tr>\n    <tr>\n      <th>2</th>\n      <td>Angola</td>\n      <td>AGO</td>\n      <td>1960</td>\n      <td>NaN</td>\n    </tr>\n    <tr>\n      <th>3</th>\n      <td>Albania</td>\n      <td>ALB</td>\n      <td>1960</td>\n      <td>NaN</td>\n    </tr>\n    <tr>\n      <th>4</th>\n      <td>Andorra</td>\n      <td>AND</td>\n      <td>1960</td>\n      <td>NaN</td>\n    </tr>\n    <tr>\n      <th>...</th>\n      <td>...</td>\n      <td>...</td>\n      <td>...</td>\n      <td>...</td>\n    </tr>\n    <tr>\n      <th>95</th>\n      <td>Italy</td>\n      <td>ITA</td>\n      <td>1960</td>\n      <td>NaN</td>\n    </tr>\n    <tr>\n      <th>96</th>\n      <td>Jamaica</td>\n      <td>JAM</td>\n      <td>1960</td>\n      <td>NaN</td>\n    </tr>\n    <tr>\n      <th>97</th>\n      <td>Jordan</td>\n      <td>JOR</td>\n      <td>1960</td>\n      <td>NaN</td>\n    </tr>\n    <tr>\n      <th>98</th>\n      <td>Japan</td>\n      <td>JPN</td>\n      <td>1960</td>\n      <td>NaN</td>\n    </tr>\n    <tr>\n      <th>99</th>\n      <td>Kazakhstan</td>\n      <td>KAZ</td>\n      <td>1960</td>\n      <td>NaN</td>\n    </tr>\n  </tbody>\n</table>\n<p>100 rows × 4 columns</p>\n</div>"
     },
     "metadata": {},
     "execution_count": 22
    }
   ],
   "source": [
    "pop_growth.drop(columns=['Indicator Name','Indicator Code'],inplace=True)\n",
    "pop_growth =pop_growth[pop_growth['Country Name'].isin(country['Country Name'].unique().tolist())]\n",
    "# use melt method to bring table from wide to long format\n",
    "pop_growth_new = pd.melt(pop_growth, id_vars=['Country Name','Country Code'],value_vars=[str(i) for i in range(1960,2021)],var_name='Year',value_name='Growth')\n",
    "pop_growth_new.head(100)"
   ]
  },
  {
   "cell_type": "code",
   "execution_count": 23,
   "metadata": {},
   "outputs": [
    {
     "output_type": "stream",
     "name": "stdout",
     "text": [
      "<class 'pandas.core.frame.DataFrame'>\nRangeIndex: 13237 entries, 0 to 13236\nData columns (total 4 columns):\n #   Column        Non-Null Count  Dtype  \n---  ------        --------------  -----  \n 0   Country Name  13237 non-null  object \n 1   Country Code  13237 non-null  object \n 2   Year          13237 non-null  object \n 3   Growth        12693 non-null  float64\ndtypes: float64(1), object(3)\nmemory usage: 413.8+ KB\n"
     ]
    }
   ],
   "source": [
    "pop_growth_new.info()"
   ]
  },
  {
   "cell_type": "code",
   "execution_count": 24,
   "metadata": {},
   "outputs": [],
   "source": [
    "pop_growth_new['Year']=pop_growth_new['Year'].astype(str).astype(int)"
   ]
  },
  {
   "cell_type": "code",
   "execution_count": 25,
   "metadata": {},
   "outputs": [
    {
     "output_type": "execute_result",
     "data": {
      "text/plain": [
       "                Country Name  Year      Count Country Code  Growth _merge\n",
       "0                      Aruba  1960      54211          ABW     NaN   both\n",
       "1                Afghanistan  1960    8996973          AFG     NaN   both\n",
       "2                     Angola  1960    5454933          AGO     NaN   both\n",
       "3                    Albania  1960    1608800          ALB     NaN   both\n",
       "4                    Andorra  1960      13411          AND     NaN   both\n",
       "5       United Arab Emirates  1960      92418          ARE     NaN   both\n",
       "6                  Argentina  1960   20481779          ARG     NaN   both\n",
       "7                    Armenia  1960    1874121          ARM     NaN   both\n",
       "8             American Samoa  1960      20123          ASM     NaN   both\n",
       "9        Antigua and Barbuda  1960      54131          ATG     NaN   both\n",
       "10                 Australia  1960   10276477          AUS     NaN   both\n",
       "11                   Austria  1960    7047539          AUT     NaN   both\n",
       "12                Azerbaijan  1960    3895397          AZE     NaN   both\n",
       "13                   Burundi  1960    2797932          BDI     NaN   both\n",
       "14                   Belgium  1960    9153489          BEL     NaN   both\n",
       "15                     Benin  1960    2431622          BEN     NaN   both\n",
       "16              Burkina Faso  1960    4829288          BFA     NaN   both\n",
       "17                Bangladesh  1960   48013504          BGD     NaN   both\n",
       "18                  Bulgaria  1960    7867374          BGR     NaN   both\n",
       "19                   Bahrain  1960     162427          BHR     NaN   both\n",
       "20              Bahamas, The  1960     109534          BHS     NaN   both\n",
       "21    Bosnia and Herzegovina  1960    3225668          BIH     NaN   both\n",
       "22                   Belarus  1960    8198000          BLR     NaN   both\n",
       "23                    Belize  1960      92064          BLZ     NaN   both\n",
       "24                   Bermuda  1960      44400          BMU     NaN   both\n",
       "25                   Bolivia  1960    3656955          BOL     NaN   both\n",
       "26                    Brazil  1960   72179226          BRA     NaN   both\n",
       "27                  Barbados  1960     230980          BRB     NaN   both\n",
       "28         Brunei Darussalam  1960      81702          BRN     NaN   both\n",
       "29                    Bhutan  1960     223288          BTN     NaN   both\n",
       "30                  Botswana  1960     502745          BWA     NaN   both\n",
       "31  Central African Republic  1960    1501668          CAF     NaN   both\n",
       "32                    Canada  1960   17909009          CAN     NaN   both\n",
       "33               Switzerland  1960    5327827          CHE     NaN   both\n",
       "34           Channel Islands  1960     109420          CHI     NaN   both\n",
       "35                     Chile  1960    8132990          CHL     NaN   both\n",
       "36                     China  1960  667070000          CHN     NaN   both\n",
       "37             Cote d'Ivoire  1960    3503553          CIV     NaN   both\n",
       "38                  Cameroon  1960    5176918          CMR     NaN   both\n",
       "39          Congo, Dem. Rep.  1960   15248251          COD     NaN   both\n",
       "40               Congo, Rep.  1960    1018253          COG     NaN   both\n",
       "41                  Colombia  1960   16057724          COL     NaN   both\n",
       "42                   Comoros  1960     191121          COM     NaN   both\n",
       "43                Cabo Verde  1960     201765          CPV     NaN   both\n",
       "44                Costa Rica  1960    1330782          CRI     NaN   both\n",
       "45                      Cuba  1960    7141250          CUB     NaN   both\n",
       "46                   Curacao  1960     124826          CUW     NaN   both\n",
       "47            Cayman Islands  1960       7865          CYM     NaN   both\n",
       "48                    Cyprus  1960     572930          CYP     NaN   both\n",
       "49            Czech Republic  1960    9602006          CZE     NaN   both"
      ],
      "text/html": "<div>\n<style scoped>\n    .dataframe tbody tr th:only-of-type {\n        vertical-align: middle;\n    }\n\n    .dataframe tbody tr th {\n        vertical-align: top;\n    }\n\n    .dataframe thead th {\n        text-align: right;\n    }\n</style>\n<table border=\"1\" class=\"dataframe\">\n  <thead>\n    <tr style=\"text-align: right;\">\n      <th></th>\n      <th>Country Name</th>\n      <th>Year</th>\n      <th>Count</th>\n      <th>Country Code</th>\n      <th>Growth</th>\n      <th>_merge</th>\n    </tr>\n  </thead>\n  <tbody>\n    <tr>\n      <th>0</th>\n      <td>Aruba</td>\n      <td>1960</td>\n      <td>54211</td>\n      <td>ABW</td>\n      <td>NaN</td>\n      <td>both</td>\n    </tr>\n    <tr>\n      <th>1</th>\n      <td>Afghanistan</td>\n      <td>1960</td>\n      <td>8996973</td>\n      <td>AFG</td>\n      <td>NaN</td>\n      <td>both</td>\n    </tr>\n    <tr>\n      <th>2</th>\n      <td>Angola</td>\n      <td>1960</td>\n      <td>5454933</td>\n      <td>AGO</td>\n      <td>NaN</td>\n      <td>both</td>\n    </tr>\n    <tr>\n      <th>3</th>\n      <td>Albania</td>\n      <td>1960</td>\n      <td>1608800</td>\n      <td>ALB</td>\n      <td>NaN</td>\n      <td>both</td>\n    </tr>\n    <tr>\n      <th>4</th>\n      <td>Andorra</td>\n      <td>1960</td>\n      <td>13411</td>\n      <td>AND</td>\n      <td>NaN</td>\n      <td>both</td>\n    </tr>\n    <tr>\n      <th>5</th>\n      <td>United Arab Emirates</td>\n      <td>1960</td>\n      <td>92418</td>\n      <td>ARE</td>\n      <td>NaN</td>\n      <td>both</td>\n    </tr>\n    <tr>\n      <th>6</th>\n      <td>Argentina</td>\n      <td>1960</td>\n      <td>20481779</td>\n      <td>ARG</td>\n      <td>NaN</td>\n      <td>both</td>\n    </tr>\n    <tr>\n      <th>7</th>\n      <td>Armenia</td>\n      <td>1960</td>\n      <td>1874121</td>\n      <td>ARM</td>\n      <td>NaN</td>\n      <td>both</td>\n    </tr>\n    <tr>\n      <th>8</th>\n      <td>American Samoa</td>\n      <td>1960</td>\n      <td>20123</td>\n      <td>ASM</td>\n      <td>NaN</td>\n      <td>both</td>\n    </tr>\n    <tr>\n      <th>9</th>\n      <td>Antigua and Barbuda</td>\n      <td>1960</td>\n      <td>54131</td>\n      <td>ATG</td>\n      <td>NaN</td>\n      <td>both</td>\n    </tr>\n    <tr>\n      <th>10</th>\n      <td>Australia</td>\n      <td>1960</td>\n      <td>10276477</td>\n      <td>AUS</td>\n      <td>NaN</td>\n      <td>both</td>\n    </tr>\n    <tr>\n      <th>11</th>\n      <td>Austria</td>\n      <td>1960</td>\n      <td>7047539</td>\n      <td>AUT</td>\n      <td>NaN</td>\n      <td>both</td>\n    </tr>\n    <tr>\n      <th>12</th>\n      <td>Azerbaijan</td>\n      <td>1960</td>\n      <td>3895397</td>\n      <td>AZE</td>\n      <td>NaN</td>\n      <td>both</td>\n    </tr>\n    <tr>\n      <th>13</th>\n      <td>Burundi</td>\n      <td>1960</td>\n      <td>2797932</td>\n      <td>BDI</td>\n      <td>NaN</td>\n      <td>both</td>\n    </tr>\n    <tr>\n      <th>14</th>\n      <td>Belgium</td>\n      <td>1960</td>\n      <td>9153489</td>\n      <td>BEL</td>\n      <td>NaN</td>\n      <td>both</td>\n    </tr>\n    <tr>\n      <th>15</th>\n      <td>Benin</td>\n      <td>1960</td>\n      <td>2431622</td>\n      <td>BEN</td>\n      <td>NaN</td>\n      <td>both</td>\n    </tr>\n    <tr>\n      <th>16</th>\n      <td>Burkina Faso</td>\n      <td>1960</td>\n      <td>4829288</td>\n      <td>BFA</td>\n      <td>NaN</td>\n      <td>both</td>\n    </tr>\n    <tr>\n      <th>17</th>\n      <td>Bangladesh</td>\n      <td>1960</td>\n      <td>48013504</td>\n      <td>BGD</td>\n      <td>NaN</td>\n      <td>both</td>\n    </tr>\n    <tr>\n      <th>18</th>\n      <td>Bulgaria</td>\n      <td>1960</td>\n      <td>7867374</td>\n      <td>BGR</td>\n      <td>NaN</td>\n      <td>both</td>\n    </tr>\n    <tr>\n      <th>19</th>\n      <td>Bahrain</td>\n      <td>1960</td>\n      <td>162427</td>\n      <td>BHR</td>\n      <td>NaN</td>\n      <td>both</td>\n    </tr>\n    <tr>\n      <th>20</th>\n      <td>Bahamas, The</td>\n      <td>1960</td>\n      <td>109534</td>\n      <td>BHS</td>\n      <td>NaN</td>\n      <td>both</td>\n    </tr>\n    <tr>\n      <th>21</th>\n      <td>Bosnia and Herzegovina</td>\n      <td>1960</td>\n      <td>3225668</td>\n      <td>BIH</td>\n      <td>NaN</td>\n      <td>both</td>\n    </tr>\n    <tr>\n      <th>22</th>\n      <td>Belarus</td>\n      <td>1960</td>\n      <td>8198000</td>\n      <td>BLR</td>\n      <td>NaN</td>\n      <td>both</td>\n    </tr>\n    <tr>\n      <th>23</th>\n      <td>Belize</td>\n      <td>1960</td>\n      <td>92064</td>\n      <td>BLZ</td>\n      <td>NaN</td>\n      <td>both</td>\n    </tr>\n    <tr>\n      <th>24</th>\n      <td>Bermuda</td>\n      <td>1960</td>\n      <td>44400</td>\n      <td>BMU</td>\n      <td>NaN</td>\n      <td>both</td>\n    </tr>\n    <tr>\n      <th>25</th>\n      <td>Bolivia</td>\n      <td>1960</td>\n      <td>3656955</td>\n      <td>BOL</td>\n      <td>NaN</td>\n      <td>both</td>\n    </tr>\n    <tr>\n      <th>26</th>\n      <td>Brazil</td>\n      <td>1960</td>\n      <td>72179226</td>\n      <td>BRA</td>\n      <td>NaN</td>\n      <td>both</td>\n    </tr>\n    <tr>\n      <th>27</th>\n      <td>Barbados</td>\n      <td>1960</td>\n      <td>230980</td>\n      <td>BRB</td>\n      <td>NaN</td>\n      <td>both</td>\n    </tr>\n    <tr>\n      <th>28</th>\n      <td>Brunei Darussalam</td>\n      <td>1960</td>\n      <td>81702</td>\n      <td>BRN</td>\n      <td>NaN</td>\n      <td>both</td>\n    </tr>\n    <tr>\n      <th>29</th>\n      <td>Bhutan</td>\n      <td>1960</td>\n      <td>223288</td>\n      <td>BTN</td>\n      <td>NaN</td>\n      <td>both</td>\n    </tr>\n    <tr>\n      <th>30</th>\n      <td>Botswana</td>\n      <td>1960</td>\n      <td>502745</td>\n      <td>BWA</td>\n      <td>NaN</td>\n      <td>both</td>\n    </tr>\n    <tr>\n      <th>31</th>\n      <td>Central African Republic</td>\n      <td>1960</td>\n      <td>1501668</td>\n      <td>CAF</td>\n      <td>NaN</td>\n      <td>both</td>\n    </tr>\n    <tr>\n      <th>32</th>\n      <td>Canada</td>\n      <td>1960</td>\n      <td>17909009</td>\n      <td>CAN</td>\n      <td>NaN</td>\n      <td>both</td>\n    </tr>\n    <tr>\n      <th>33</th>\n      <td>Switzerland</td>\n      <td>1960</td>\n      <td>5327827</td>\n      <td>CHE</td>\n      <td>NaN</td>\n      <td>both</td>\n    </tr>\n    <tr>\n      <th>34</th>\n      <td>Channel Islands</td>\n      <td>1960</td>\n      <td>109420</td>\n      <td>CHI</td>\n      <td>NaN</td>\n      <td>both</td>\n    </tr>\n    <tr>\n      <th>35</th>\n      <td>Chile</td>\n      <td>1960</td>\n      <td>8132990</td>\n      <td>CHL</td>\n      <td>NaN</td>\n      <td>both</td>\n    </tr>\n    <tr>\n      <th>36</th>\n      <td>China</td>\n      <td>1960</td>\n      <td>667070000</td>\n      <td>CHN</td>\n      <td>NaN</td>\n      <td>both</td>\n    </tr>\n    <tr>\n      <th>37</th>\n      <td>Cote d'Ivoire</td>\n      <td>1960</td>\n      <td>3503553</td>\n      <td>CIV</td>\n      <td>NaN</td>\n      <td>both</td>\n    </tr>\n    <tr>\n      <th>38</th>\n      <td>Cameroon</td>\n      <td>1960</td>\n      <td>5176918</td>\n      <td>CMR</td>\n      <td>NaN</td>\n      <td>both</td>\n    </tr>\n    <tr>\n      <th>39</th>\n      <td>Congo, Dem. Rep.</td>\n      <td>1960</td>\n      <td>15248251</td>\n      <td>COD</td>\n      <td>NaN</td>\n      <td>both</td>\n    </tr>\n    <tr>\n      <th>40</th>\n      <td>Congo, Rep.</td>\n      <td>1960</td>\n      <td>1018253</td>\n      <td>COG</td>\n      <td>NaN</td>\n      <td>both</td>\n    </tr>\n    <tr>\n      <th>41</th>\n      <td>Colombia</td>\n      <td>1960</td>\n      <td>16057724</td>\n      <td>COL</td>\n      <td>NaN</td>\n      <td>both</td>\n    </tr>\n    <tr>\n      <th>42</th>\n      <td>Comoros</td>\n      <td>1960</td>\n      <td>191121</td>\n      <td>COM</td>\n      <td>NaN</td>\n      <td>both</td>\n    </tr>\n    <tr>\n      <th>43</th>\n      <td>Cabo Verde</td>\n      <td>1960</td>\n      <td>201765</td>\n      <td>CPV</td>\n      <td>NaN</td>\n      <td>both</td>\n    </tr>\n    <tr>\n      <th>44</th>\n      <td>Costa Rica</td>\n      <td>1960</td>\n      <td>1330782</td>\n      <td>CRI</td>\n      <td>NaN</td>\n      <td>both</td>\n    </tr>\n    <tr>\n      <th>45</th>\n      <td>Cuba</td>\n      <td>1960</td>\n      <td>7141250</td>\n      <td>CUB</td>\n      <td>NaN</td>\n      <td>both</td>\n    </tr>\n    <tr>\n      <th>46</th>\n      <td>Curacao</td>\n      <td>1960</td>\n      <td>124826</td>\n      <td>CUW</td>\n      <td>NaN</td>\n      <td>both</td>\n    </tr>\n    <tr>\n      <th>47</th>\n      <td>Cayman Islands</td>\n      <td>1960</td>\n      <td>7865</td>\n      <td>CYM</td>\n      <td>NaN</td>\n      <td>both</td>\n    </tr>\n    <tr>\n      <th>48</th>\n      <td>Cyprus</td>\n      <td>1960</td>\n      <td>572930</td>\n      <td>CYP</td>\n      <td>NaN</td>\n      <td>both</td>\n    </tr>\n    <tr>\n      <th>49</th>\n      <td>Czech Republic</td>\n      <td>1960</td>\n      <td>9602006</td>\n      <td>CZE</td>\n      <td>NaN</td>\n      <td>both</td>\n    </tr>\n  </tbody>\n</table>\n</div>"
     },
     "metadata": {},
     "execution_count": 25
    }
   ],
   "source": [
    "merge1 = pd.merge(pop,\n",
    "                  pop_growth_new,\n",
    "                  how='left',\n",
    "                  left_on=['Country Name','Year'],\n",
    "                  right_on=['Country Name','Year'],\n",
    "                  suffixes=('', '_y'),\n",
    "                  indicator=True).fillna(np.nan)"
   ]
  },
  {
   "cell_type": "code",
   "execution_count": 27,
   "metadata": {},
   "outputs": [
    {
     "output_type": "execute_result",
     "data": {
      "text/plain": [
       "       Country Name  Year     Count Country Code    Growth _merge\n",
       "0             Aruba  1960     54211          ABW       NaN   both\n",
       "1       Afghanistan  1960   8996973          AFG       NaN   both\n",
       "2            Angola  1960   5454933          AGO       NaN   both\n",
       "3           Albania  1960   1608800          ALB       NaN   both\n",
       "4           Andorra  1960     13411          AND       NaN   both\n",
       "..              ...   ...       ...          ...       ...    ...\n",
       "495           Gabon  1962    511287          GAB  1.079172   both\n",
       "496  United Kingdom  1962  53250000          GBR  0.848661   both\n",
       "497         Georgia  1962   3760300          GEO  1.519342   both\n",
       "498           Ghana  1962   7071971          GHA  3.213951   both\n",
       "499       Gibraltar  1962     24313          GIB  2.077954   both\n",
       "\n",
       "[500 rows x 6 columns]"
      ],
      "text/html": "<div>\n<style scoped>\n    .dataframe tbody tr th:only-of-type {\n        vertical-align: middle;\n    }\n\n    .dataframe tbody tr th {\n        vertical-align: top;\n    }\n\n    .dataframe thead th {\n        text-align: right;\n    }\n</style>\n<table border=\"1\" class=\"dataframe\">\n  <thead>\n    <tr style=\"text-align: right;\">\n      <th></th>\n      <th>Country Name</th>\n      <th>Year</th>\n      <th>Count</th>\n      <th>Country Code</th>\n      <th>Growth</th>\n      <th>_merge</th>\n    </tr>\n  </thead>\n  <tbody>\n    <tr>\n      <th>0</th>\n      <td>Aruba</td>\n      <td>1960</td>\n      <td>54211</td>\n      <td>ABW</td>\n      <td>NaN</td>\n      <td>both</td>\n    </tr>\n    <tr>\n      <th>1</th>\n      <td>Afghanistan</td>\n      <td>1960</td>\n      <td>8996973</td>\n      <td>AFG</td>\n      <td>NaN</td>\n      <td>both</td>\n    </tr>\n    <tr>\n      <th>2</th>\n      <td>Angola</td>\n      <td>1960</td>\n      <td>5454933</td>\n      <td>AGO</td>\n      <td>NaN</td>\n      <td>both</td>\n    </tr>\n    <tr>\n      <th>3</th>\n      <td>Albania</td>\n      <td>1960</td>\n      <td>1608800</td>\n      <td>ALB</td>\n      <td>NaN</td>\n      <td>both</td>\n    </tr>\n    <tr>\n      <th>4</th>\n      <td>Andorra</td>\n      <td>1960</td>\n      <td>13411</td>\n      <td>AND</td>\n      <td>NaN</td>\n      <td>both</td>\n    </tr>\n    <tr>\n      <th>...</th>\n      <td>...</td>\n      <td>...</td>\n      <td>...</td>\n      <td>...</td>\n      <td>...</td>\n      <td>...</td>\n    </tr>\n    <tr>\n      <th>495</th>\n      <td>Gabon</td>\n      <td>1962</td>\n      <td>511287</td>\n      <td>GAB</td>\n      <td>1.079172</td>\n      <td>both</td>\n    </tr>\n    <tr>\n      <th>496</th>\n      <td>United Kingdom</td>\n      <td>1962</td>\n      <td>53250000</td>\n      <td>GBR</td>\n      <td>0.848661</td>\n      <td>both</td>\n    </tr>\n    <tr>\n      <th>497</th>\n      <td>Georgia</td>\n      <td>1962</td>\n      <td>3760300</td>\n      <td>GEO</td>\n      <td>1.519342</td>\n      <td>both</td>\n    </tr>\n    <tr>\n      <th>498</th>\n      <td>Ghana</td>\n      <td>1962</td>\n      <td>7071971</td>\n      <td>GHA</td>\n      <td>3.213951</td>\n      <td>both</td>\n    </tr>\n    <tr>\n      <th>499</th>\n      <td>Gibraltar</td>\n      <td>1962</td>\n      <td>24313</td>\n      <td>GIB</td>\n      <td>2.077954</td>\n      <td>both</td>\n    </tr>\n  </tbody>\n</table>\n<p>500 rows × 6 columns</p>\n</div>"
     },
     "metadata": {},
     "execution_count": 27
    }
   ],
   "source": [
    "merge1.head(500)"
   ]
  },
  {
   "cell_type": "code",
   "execution_count": 28,
   "metadata": {},
   "outputs": [],
   "source": [
    "merge1.drop(columns=['_merge'],inplace=True)\n",
    "# save final csv file\n",
    "merge1.to_csv(os.path.join(final_data_dir,'POPULATION.csv'),index=False)"
   ]
  },
  {
   "source": [
    "## CO2 TABLE\n",
    "\n",
    "CO2(Cname,Year,Emission,IndoorPollution,OutdoorPollution)"
   ],
   "cell_type": "markdown",
   "metadata": {}
  },
  {
   "cell_type": "code",
   "execution_count": 15,
   "metadata": {},
   "outputs": [],
   "source": [
    "#import co2_emission.csv\n",
    "emissions = pd.read_csv(os.path.join(raw_data_dir,'co2_emission.csv'),header=0) \n",
    "#import indoor pollution\n",
    "indoorp = pd.read_csv(os.path.join(raw_data_dir,'death-rate-by-source-from-indoor-air-pollution.csv'),header=0) \n",
    "#import outdoor pollution\n",
    "outdoorp = pd.read_csv(os.path.join(raw_data_dir,'outdoor-pollution-death-rate.csv'),header=0) "
   ]
  },
  {
   "cell_type": "code",
   "execution_count": 16,
   "metadata": {},
   "outputs": [
    {
     "output_type": "execute_result",
     "data": {
      "text/plain": [
       "         Entity  Year  co2emissions  indoor_death_rate     _merge\n",
       "0   Afghanistan  1949      14656.00                NaN  left_only\n",
       "1   Afghanistan  1950      84272.00                NaN  left_only\n",
       "2   Afghanistan  1951      91600.00                NaN  left_only\n",
       "3   Afghanistan  1952      91600.00                NaN  left_only\n",
       "4   Afghanistan  1953     106256.00                NaN  left_only\n",
       "5   Afghanistan  1954     106256.00                NaN  left_only\n",
       "6   Afghanistan  1955     153888.00                NaN  left_only\n",
       "7   Afghanistan  1956     183200.00                NaN  left_only\n",
       "8   Afghanistan  1957     293120.00                NaN  left_only\n",
       "9   Afghanistan  1958     329760.00                NaN  left_only\n",
       "10  Afghanistan  1959     384571.42                NaN  left_only\n",
       "11  Afghanistan  1960     413883.42                NaN  left_only\n",
       "12  Afghanistan  1961     490797.70                NaN  left_only\n",
       "13  Afghanistan  1962     688594.27                NaN  left_only\n",
       "14  Afghanistan  1963     706735.98                NaN  left_only\n",
       "15  Afghanistan  1964     838550.83                NaN  left_only\n",
       "16  Afghanistan  1965    1006916.53                NaN  left_only\n",
       "17  Afghanistan  1966    1091158.82                NaN  left_only\n",
       "18  Afghanistan  1967    1281865.11                NaN  left_only\n",
       "19  Afghanistan  1968    1223389.69                NaN  left_only\n",
       "20  Afghanistan  1969     941231.98                NaN  left_only\n",
       "21  Afghanistan  1970    1670397.69                NaN  left_only\n",
       "22  Afghanistan  1971    1893931.41                NaN  left_only\n",
       "23  Afghanistan  1972    1531165.69                NaN  left_only\n",
       "24  Afghanistan  1973    1637243.40                NaN  left_only\n",
       "25  Afghanistan  1974    1915677.68                NaN  left_only\n",
       "26  Afghanistan  1975    2124525.68                NaN  left_only\n",
       "27  Afghanistan  1976    1984225.38                NaN  left_only\n",
       "28  Afghanistan  1977    2386745.67                NaN  left_only\n",
       "29  Afghanistan  1978    2155419.66                NaN  left_only\n",
       "30  Afghanistan  1979    2234903.94                NaN  left_only\n",
       "31  Afghanistan  1980    1757021.97                NaN  left_only\n",
       "32  Afghanistan  1981    1979372.53                NaN  left_only\n",
       "33  Afghanistan  1982    2095539.37                NaN  left_only\n",
       "34  Afghanistan  1983    2520091.42                NaN  left_only\n",
       "35  Afghanistan  1984    2822415.06                NaN  left_only\n",
       "36  Afghanistan  1985    3501893.65                NaN  left_only\n",
       "37  Afghanistan  1986    3134071.92                NaN  left_only\n",
       "38  Afghanistan  1987    3114159.90                NaN  left_only\n",
       "39  Afghanistan  1988    2857083.90                NaN  left_only\n",
       "40  Afghanistan  1989    2764887.89                NaN  left_only\n",
       "41  Afghanistan  1990    2602407.59         250.362910       both\n",
       "42  Afghanistan  1991    2426486.16         242.575125       both\n",
       "43  Afghanistan  1992    1381521.84         232.043878       both\n",
       "44  Afghanistan  1993    1333837.11         231.648134       both\n",
       "45  Afghanistan  1994    1282488.38         238.837177       both\n",
       "46  Afghanistan  1995    1231139.65         239.906599       both\n",
       "47  Afghanistan  1996    1165134.92         238.512050       both\n",
       "48  Afghanistan  1997    1084474.19         238.113520       both\n",
       "49  Afghanistan  1998    1029461.47         238.680150       both"
      ],
      "text/html": "<div>\n<style scoped>\n    .dataframe tbody tr th:only-of-type {\n        vertical-align: middle;\n    }\n\n    .dataframe tbody tr th {\n        vertical-align: top;\n    }\n\n    .dataframe thead th {\n        text-align: right;\n    }\n</style>\n<table border=\"1\" class=\"dataframe\">\n  <thead>\n    <tr style=\"text-align: right;\">\n      <th></th>\n      <th>Entity</th>\n      <th>Year</th>\n      <th>co2emissions</th>\n      <th>indoor_death_rate</th>\n      <th>_merge</th>\n    </tr>\n  </thead>\n  <tbody>\n    <tr>\n      <th>0</th>\n      <td>Afghanistan</td>\n      <td>1949</td>\n      <td>14656.00</td>\n      <td>NaN</td>\n      <td>left_only</td>\n    </tr>\n    <tr>\n      <th>1</th>\n      <td>Afghanistan</td>\n      <td>1950</td>\n      <td>84272.00</td>\n      <td>NaN</td>\n      <td>left_only</td>\n    </tr>\n    <tr>\n      <th>2</th>\n      <td>Afghanistan</td>\n      <td>1951</td>\n      <td>91600.00</td>\n      <td>NaN</td>\n      <td>left_only</td>\n    </tr>\n    <tr>\n      <th>3</th>\n      <td>Afghanistan</td>\n      <td>1952</td>\n      <td>91600.00</td>\n      <td>NaN</td>\n      <td>left_only</td>\n    </tr>\n    <tr>\n      <th>4</th>\n      <td>Afghanistan</td>\n      <td>1953</td>\n      <td>106256.00</td>\n      <td>NaN</td>\n      <td>left_only</td>\n    </tr>\n    <tr>\n      <th>5</th>\n      <td>Afghanistan</td>\n      <td>1954</td>\n      <td>106256.00</td>\n      <td>NaN</td>\n      <td>left_only</td>\n    </tr>\n    <tr>\n      <th>6</th>\n      <td>Afghanistan</td>\n      <td>1955</td>\n      <td>153888.00</td>\n      <td>NaN</td>\n      <td>left_only</td>\n    </tr>\n    <tr>\n      <th>7</th>\n      <td>Afghanistan</td>\n      <td>1956</td>\n      <td>183200.00</td>\n      <td>NaN</td>\n      <td>left_only</td>\n    </tr>\n    <tr>\n      <th>8</th>\n      <td>Afghanistan</td>\n      <td>1957</td>\n      <td>293120.00</td>\n      <td>NaN</td>\n      <td>left_only</td>\n    </tr>\n    <tr>\n      <th>9</th>\n      <td>Afghanistan</td>\n      <td>1958</td>\n      <td>329760.00</td>\n      <td>NaN</td>\n      <td>left_only</td>\n    </tr>\n    <tr>\n      <th>10</th>\n      <td>Afghanistan</td>\n      <td>1959</td>\n      <td>384571.42</td>\n      <td>NaN</td>\n      <td>left_only</td>\n    </tr>\n    <tr>\n      <th>11</th>\n      <td>Afghanistan</td>\n      <td>1960</td>\n      <td>413883.42</td>\n      <td>NaN</td>\n      <td>left_only</td>\n    </tr>\n    <tr>\n      <th>12</th>\n      <td>Afghanistan</td>\n      <td>1961</td>\n      <td>490797.70</td>\n      <td>NaN</td>\n      <td>left_only</td>\n    </tr>\n    <tr>\n      <th>13</th>\n      <td>Afghanistan</td>\n      <td>1962</td>\n      <td>688594.27</td>\n      <td>NaN</td>\n      <td>left_only</td>\n    </tr>\n    <tr>\n      <th>14</th>\n      <td>Afghanistan</td>\n      <td>1963</td>\n      <td>706735.98</td>\n      <td>NaN</td>\n      <td>left_only</td>\n    </tr>\n    <tr>\n      <th>15</th>\n      <td>Afghanistan</td>\n      <td>1964</td>\n      <td>838550.83</td>\n      <td>NaN</td>\n      <td>left_only</td>\n    </tr>\n    <tr>\n      <th>16</th>\n      <td>Afghanistan</td>\n      <td>1965</td>\n      <td>1006916.53</td>\n      <td>NaN</td>\n      <td>left_only</td>\n    </tr>\n    <tr>\n      <th>17</th>\n      <td>Afghanistan</td>\n      <td>1966</td>\n      <td>1091158.82</td>\n      <td>NaN</td>\n      <td>left_only</td>\n    </tr>\n    <tr>\n      <th>18</th>\n      <td>Afghanistan</td>\n      <td>1967</td>\n      <td>1281865.11</td>\n      <td>NaN</td>\n      <td>left_only</td>\n    </tr>\n    <tr>\n      <th>19</th>\n      <td>Afghanistan</td>\n      <td>1968</td>\n      <td>1223389.69</td>\n      <td>NaN</td>\n      <td>left_only</td>\n    </tr>\n    <tr>\n      <th>20</th>\n      <td>Afghanistan</td>\n      <td>1969</td>\n      <td>941231.98</td>\n      <td>NaN</td>\n      <td>left_only</td>\n    </tr>\n    <tr>\n      <th>21</th>\n      <td>Afghanistan</td>\n      <td>1970</td>\n      <td>1670397.69</td>\n      <td>NaN</td>\n      <td>left_only</td>\n    </tr>\n    <tr>\n      <th>22</th>\n      <td>Afghanistan</td>\n      <td>1971</td>\n      <td>1893931.41</td>\n      <td>NaN</td>\n      <td>left_only</td>\n    </tr>\n    <tr>\n      <th>23</th>\n      <td>Afghanistan</td>\n      <td>1972</td>\n      <td>1531165.69</td>\n      <td>NaN</td>\n      <td>left_only</td>\n    </tr>\n    <tr>\n      <th>24</th>\n      <td>Afghanistan</td>\n      <td>1973</td>\n      <td>1637243.40</td>\n      <td>NaN</td>\n      <td>left_only</td>\n    </tr>\n    <tr>\n      <th>25</th>\n      <td>Afghanistan</td>\n      <td>1974</td>\n      <td>1915677.68</td>\n      <td>NaN</td>\n      <td>left_only</td>\n    </tr>\n    <tr>\n      <th>26</th>\n      <td>Afghanistan</td>\n      <td>1975</td>\n      <td>2124525.68</td>\n      <td>NaN</td>\n      <td>left_only</td>\n    </tr>\n    <tr>\n      <th>27</th>\n      <td>Afghanistan</td>\n      <td>1976</td>\n      <td>1984225.38</td>\n      <td>NaN</td>\n      <td>left_only</td>\n    </tr>\n    <tr>\n      <th>28</th>\n      <td>Afghanistan</td>\n      <td>1977</td>\n      <td>2386745.67</td>\n      <td>NaN</td>\n      <td>left_only</td>\n    </tr>\n    <tr>\n      <th>29</th>\n      <td>Afghanistan</td>\n      <td>1978</td>\n      <td>2155419.66</td>\n      <td>NaN</td>\n      <td>left_only</td>\n    </tr>\n    <tr>\n      <th>30</th>\n      <td>Afghanistan</td>\n      <td>1979</td>\n      <td>2234903.94</td>\n      <td>NaN</td>\n      <td>left_only</td>\n    </tr>\n    <tr>\n      <th>31</th>\n      <td>Afghanistan</td>\n      <td>1980</td>\n      <td>1757021.97</td>\n      <td>NaN</td>\n      <td>left_only</td>\n    </tr>\n    <tr>\n      <th>32</th>\n      <td>Afghanistan</td>\n      <td>1981</td>\n      <td>1979372.53</td>\n      <td>NaN</td>\n      <td>left_only</td>\n    </tr>\n    <tr>\n      <th>33</th>\n      <td>Afghanistan</td>\n      <td>1982</td>\n      <td>2095539.37</td>\n      <td>NaN</td>\n      <td>left_only</td>\n    </tr>\n    <tr>\n      <th>34</th>\n      <td>Afghanistan</td>\n      <td>1983</td>\n      <td>2520091.42</td>\n      <td>NaN</td>\n      <td>left_only</td>\n    </tr>\n    <tr>\n      <th>35</th>\n      <td>Afghanistan</td>\n      <td>1984</td>\n      <td>2822415.06</td>\n      <td>NaN</td>\n      <td>left_only</td>\n    </tr>\n    <tr>\n      <th>36</th>\n      <td>Afghanistan</td>\n      <td>1985</td>\n      <td>3501893.65</td>\n      <td>NaN</td>\n      <td>left_only</td>\n    </tr>\n    <tr>\n      <th>37</th>\n      <td>Afghanistan</td>\n      <td>1986</td>\n      <td>3134071.92</td>\n      <td>NaN</td>\n      <td>left_only</td>\n    </tr>\n    <tr>\n      <th>38</th>\n      <td>Afghanistan</td>\n      <td>1987</td>\n      <td>3114159.90</td>\n      <td>NaN</td>\n      <td>left_only</td>\n    </tr>\n    <tr>\n      <th>39</th>\n      <td>Afghanistan</td>\n      <td>1988</td>\n      <td>2857083.90</td>\n      <td>NaN</td>\n      <td>left_only</td>\n    </tr>\n    <tr>\n      <th>40</th>\n      <td>Afghanistan</td>\n      <td>1989</td>\n      <td>2764887.89</td>\n      <td>NaN</td>\n      <td>left_only</td>\n    </tr>\n    <tr>\n      <th>41</th>\n      <td>Afghanistan</td>\n      <td>1990</td>\n      <td>2602407.59</td>\n      <td>250.362910</td>\n      <td>both</td>\n    </tr>\n    <tr>\n      <th>42</th>\n      <td>Afghanistan</td>\n      <td>1991</td>\n      <td>2426486.16</td>\n      <td>242.575125</td>\n      <td>both</td>\n    </tr>\n    <tr>\n      <th>43</th>\n      <td>Afghanistan</td>\n      <td>1992</td>\n      <td>1381521.84</td>\n      <td>232.043878</td>\n      <td>both</td>\n    </tr>\n    <tr>\n      <th>44</th>\n      <td>Afghanistan</td>\n      <td>1993</td>\n      <td>1333837.11</td>\n      <td>231.648134</td>\n      <td>both</td>\n    </tr>\n    <tr>\n      <th>45</th>\n      <td>Afghanistan</td>\n      <td>1994</td>\n      <td>1282488.38</td>\n      <td>238.837177</td>\n      <td>both</td>\n    </tr>\n    <tr>\n      <th>46</th>\n      <td>Afghanistan</td>\n      <td>1995</td>\n      <td>1231139.65</td>\n      <td>239.906599</td>\n      <td>both</td>\n    </tr>\n    <tr>\n      <th>47</th>\n      <td>Afghanistan</td>\n      <td>1996</td>\n      <td>1165134.92</td>\n      <td>238.512050</td>\n      <td>both</td>\n    </tr>\n    <tr>\n      <th>48</th>\n      <td>Afghanistan</td>\n      <td>1997</td>\n      <td>1084474.19</td>\n      <td>238.113520</td>\n      <td>both</td>\n    </tr>\n    <tr>\n      <th>49</th>\n      <td>Afghanistan</td>\n      <td>1998</td>\n      <td>1029461.47</td>\n      <td>238.680150</td>\n      <td>both</td>\n    </tr>\n  </tbody>\n</table>\n</div>"
     },
     "metadata": {},
     "execution_count": 16
    }
   ],
   "source": [
    "# merging emissions indoor (keep only rows whose country names are in COUNTRY table)\n",
    "emissions = emissions[emissions['Entity'].isin(country['Country Name'].unique().tolist())]\n",
    "emissions.drop(columns=['Code'],inplace=True)\n",
    "emissions.rename(columns={\"Annual CO₂ emissions (tonnes )\": \"co2emissions\"},inplace=True)\n",
    "indoorp.drop(columns=['Code'],inplace=True)\n",
    "indoorp.rename(columns={'Deaths - Household air pollution from solid fuels - Sex: Both - Age: Age-standardized (Rate)':'indoor_death_rate'},inplace=True)\n",
    "outdoorp.drop(columns=['Code'],inplace=True)\n",
    "outdoorp.rename(columns={'Death rate – Outdoor air pollution (age-standardized) (IHME)':'outdoor_death_rate'},inplace=True)\n",
    "\n",
    "merge1 = pd.merge(emissions,\n",
    "                  indoorp,\n",
    "                  how='left',\n",
    "                  left_on=['Entity','Year'],\n",
    "                  right_on=['Entity','Year'],\n",
    "                  suffixes=('', '_y'),\n",
    "                  indicator=True).fillna(np.nan)\n",
    "\n",
    "merge1.head(50)"
   ]
  },
  {
   "cell_type": "code",
   "execution_count": 17,
   "metadata": {},
   "outputs": [
    {
     "output_type": "execute_result",
     "data": {
      "text/plain": [
       "         Entity  Year  co2emissions  indoor_death_rate  outdoor_death_rate  \\\n",
       "0   Afghanistan  1949      14656.00                NaN                 NaN   \n",
       "1   Afghanistan  1950      84272.00                NaN                 NaN   \n",
       "2   Afghanistan  1951      91600.00                NaN                 NaN   \n",
       "3   Afghanistan  1952      91600.00                NaN                 NaN   \n",
       "4   Afghanistan  1953     106256.00                NaN                 NaN   \n",
       "5   Afghanistan  1954     106256.00                NaN                 NaN   \n",
       "6   Afghanistan  1955     153888.00                NaN                 NaN   \n",
       "7   Afghanistan  1956     183200.00                NaN                 NaN   \n",
       "8   Afghanistan  1957     293120.00                NaN                 NaN   \n",
       "9   Afghanistan  1958     329760.00                NaN                 NaN   \n",
       "10  Afghanistan  1959     384571.42                NaN                 NaN   \n",
       "11  Afghanistan  1960     413883.42                NaN                 NaN   \n",
       "12  Afghanistan  1961     490797.70                NaN                 NaN   \n",
       "13  Afghanistan  1962     688594.27                NaN                 NaN   \n",
       "14  Afghanistan  1963     706735.98                NaN                 NaN   \n",
       "15  Afghanistan  1964     838550.83                NaN                 NaN   \n",
       "16  Afghanistan  1965    1006916.53                NaN                 NaN   \n",
       "17  Afghanistan  1966    1091158.82                NaN                 NaN   \n",
       "18  Afghanistan  1967    1281865.11                NaN                 NaN   \n",
       "19  Afghanistan  1968    1223389.69                NaN                 NaN   \n",
       "20  Afghanistan  1969     941231.98                NaN                 NaN   \n",
       "21  Afghanistan  1970    1670397.69                NaN                 NaN   \n",
       "22  Afghanistan  1971    1893931.41                NaN                 NaN   \n",
       "23  Afghanistan  1972    1531165.69                NaN                 NaN   \n",
       "24  Afghanistan  1973    1637243.40                NaN                 NaN   \n",
       "25  Afghanistan  1974    1915677.68                NaN                 NaN   \n",
       "26  Afghanistan  1975    2124525.68                NaN                 NaN   \n",
       "27  Afghanistan  1976    1984225.38                NaN                 NaN   \n",
       "28  Afghanistan  1977    2386745.67                NaN                 NaN   \n",
       "29  Afghanistan  1978    2155419.66                NaN                 NaN   \n",
       "30  Afghanistan  1979    2234903.94                NaN                 NaN   \n",
       "31  Afghanistan  1980    1757021.97                NaN                 NaN   \n",
       "32  Afghanistan  1981    1979372.53                NaN                 NaN   \n",
       "33  Afghanistan  1982    2095539.37                NaN                 NaN   \n",
       "34  Afghanistan  1983    2520091.42                NaN                 NaN   \n",
       "35  Afghanistan  1984    2822415.06                NaN                 NaN   \n",
       "36  Afghanistan  1985    3501893.65                NaN                 NaN   \n",
       "37  Afghanistan  1986    3134071.92                NaN                 NaN   \n",
       "38  Afghanistan  1987    3114159.90                NaN                 NaN   \n",
       "39  Afghanistan  1988    2857083.90                NaN                 NaN   \n",
       "40  Afghanistan  1989    2764887.89                NaN                 NaN   \n",
       "41  Afghanistan  1990    2602407.59         250.362910               52.06   \n",
       "42  Afghanistan  1991    2426486.16         242.575125               51.64   \n",
       "43  Afghanistan  1992    1381521.84         232.043878               49.86   \n",
       "44  Afghanistan  1993    1333837.11         231.648134               50.10   \n",
       "45  Afghanistan  1994    1282488.38         238.837177               51.31   \n",
       "46  Afghanistan  1995    1231139.65         239.906599               51.11   \n",
       "47  Afghanistan  1996    1165134.92         238.512050               51.13   \n",
       "48  Afghanistan  1997    1084474.19         238.113520               51.34   \n",
       "49  Afghanistan  1998    1029461.47         238.680150               50.60   \n",
       "\n",
       "       _merge  \n",
       "0   left_only  \n",
       "1   left_only  \n",
       "2   left_only  \n",
       "3   left_only  \n",
       "4   left_only  \n",
       "5   left_only  \n",
       "6   left_only  \n",
       "7   left_only  \n",
       "8   left_only  \n",
       "9   left_only  \n",
       "10  left_only  \n",
       "11  left_only  \n",
       "12  left_only  \n",
       "13  left_only  \n",
       "14  left_only  \n",
       "15  left_only  \n",
       "16  left_only  \n",
       "17  left_only  \n",
       "18  left_only  \n",
       "19  left_only  \n",
       "20  left_only  \n",
       "21  left_only  \n",
       "22  left_only  \n",
       "23  left_only  \n",
       "24  left_only  \n",
       "25  left_only  \n",
       "26  left_only  \n",
       "27  left_only  \n",
       "28  left_only  \n",
       "29  left_only  \n",
       "30  left_only  \n",
       "31  left_only  \n",
       "32  left_only  \n",
       "33  left_only  \n",
       "34  left_only  \n",
       "35  left_only  \n",
       "36  left_only  \n",
       "37  left_only  \n",
       "38  left_only  \n",
       "39  left_only  \n",
       "40  left_only  \n",
       "41       both  \n",
       "42       both  \n",
       "43       both  \n",
       "44       both  \n",
       "45       both  \n",
       "46       both  \n",
       "47       both  \n",
       "48       both  \n",
       "49       both  "
      ],
      "text/html": "<div>\n<style scoped>\n    .dataframe tbody tr th:only-of-type {\n        vertical-align: middle;\n    }\n\n    .dataframe tbody tr th {\n        vertical-align: top;\n    }\n\n    .dataframe thead th {\n        text-align: right;\n    }\n</style>\n<table border=\"1\" class=\"dataframe\">\n  <thead>\n    <tr style=\"text-align: right;\">\n      <th></th>\n      <th>Entity</th>\n      <th>Year</th>\n      <th>co2emissions</th>\n      <th>indoor_death_rate</th>\n      <th>outdoor_death_rate</th>\n      <th>_merge</th>\n    </tr>\n  </thead>\n  <tbody>\n    <tr>\n      <th>0</th>\n      <td>Afghanistan</td>\n      <td>1949</td>\n      <td>14656.00</td>\n      <td>NaN</td>\n      <td>NaN</td>\n      <td>left_only</td>\n    </tr>\n    <tr>\n      <th>1</th>\n      <td>Afghanistan</td>\n      <td>1950</td>\n      <td>84272.00</td>\n      <td>NaN</td>\n      <td>NaN</td>\n      <td>left_only</td>\n    </tr>\n    <tr>\n      <th>2</th>\n      <td>Afghanistan</td>\n      <td>1951</td>\n      <td>91600.00</td>\n      <td>NaN</td>\n      <td>NaN</td>\n      <td>left_only</td>\n    </tr>\n    <tr>\n      <th>3</th>\n      <td>Afghanistan</td>\n      <td>1952</td>\n      <td>91600.00</td>\n      <td>NaN</td>\n      <td>NaN</td>\n      <td>left_only</td>\n    </tr>\n    <tr>\n      <th>4</th>\n      <td>Afghanistan</td>\n      <td>1953</td>\n      <td>106256.00</td>\n      <td>NaN</td>\n      <td>NaN</td>\n      <td>left_only</td>\n    </tr>\n    <tr>\n      <th>5</th>\n      <td>Afghanistan</td>\n      <td>1954</td>\n      <td>106256.00</td>\n      <td>NaN</td>\n      <td>NaN</td>\n      <td>left_only</td>\n    </tr>\n    <tr>\n      <th>6</th>\n      <td>Afghanistan</td>\n      <td>1955</td>\n      <td>153888.00</td>\n      <td>NaN</td>\n      <td>NaN</td>\n      <td>left_only</td>\n    </tr>\n    <tr>\n      <th>7</th>\n      <td>Afghanistan</td>\n      <td>1956</td>\n      <td>183200.00</td>\n      <td>NaN</td>\n      <td>NaN</td>\n      <td>left_only</td>\n    </tr>\n    <tr>\n      <th>8</th>\n      <td>Afghanistan</td>\n      <td>1957</td>\n      <td>293120.00</td>\n      <td>NaN</td>\n      <td>NaN</td>\n      <td>left_only</td>\n    </tr>\n    <tr>\n      <th>9</th>\n      <td>Afghanistan</td>\n      <td>1958</td>\n      <td>329760.00</td>\n      <td>NaN</td>\n      <td>NaN</td>\n      <td>left_only</td>\n    </tr>\n    <tr>\n      <th>10</th>\n      <td>Afghanistan</td>\n      <td>1959</td>\n      <td>384571.42</td>\n      <td>NaN</td>\n      <td>NaN</td>\n      <td>left_only</td>\n    </tr>\n    <tr>\n      <th>11</th>\n      <td>Afghanistan</td>\n      <td>1960</td>\n      <td>413883.42</td>\n      <td>NaN</td>\n      <td>NaN</td>\n      <td>left_only</td>\n    </tr>\n    <tr>\n      <th>12</th>\n      <td>Afghanistan</td>\n      <td>1961</td>\n      <td>490797.70</td>\n      <td>NaN</td>\n      <td>NaN</td>\n      <td>left_only</td>\n    </tr>\n    <tr>\n      <th>13</th>\n      <td>Afghanistan</td>\n      <td>1962</td>\n      <td>688594.27</td>\n      <td>NaN</td>\n      <td>NaN</td>\n      <td>left_only</td>\n    </tr>\n    <tr>\n      <th>14</th>\n      <td>Afghanistan</td>\n      <td>1963</td>\n      <td>706735.98</td>\n      <td>NaN</td>\n      <td>NaN</td>\n      <td>left_only</td>\n    </tr>\n    <tr>\n      <th>15</th>\n      <td>Afghanistan</td>\n      <td>1964</td>\n      <td>838550.83</td>\n      <td>NaN</td>\n      <td>NaN</td>\n      <td>left_only</td>\n    </tr>\n    <tr>\n      <th>16</th>\n      <td>Afghanistan</td>\n      <td>1965</td>\n      <td>1006916.53</td>\n      <td>NaN</td>\n      <td>NaN</td>\n      <td>left_only</td>\n    </tr>\n    <tr>\n      <th>17</th>\n      <td>Afghanistan</td>\n      <td>1966</td>\n      <td>1091158.82</td>\n      <td>NaN</td>\n      <td>NaN</td>\n      <td>left_only</td>\n    </tr>\n    <tr>\n      <th>18</th>\n      <td>Afghanistan</td>\n      <td>1967</td>\n      <td>1281865.11</td>\n      <td>NaN</td>\n      <td>NaN</td>\n      <td>left_only</td>\n    </tr>\n    <tr>\n      <th>19</th>\n      <td>Afghanistan</td>\n      <td>1968</td>\n      <td>1223389.69</td>\n      <td>NaN</td>\n      <td>NaN</td>\n      <td>left_only</td>\n    </tr>\n    <tr>\n      <th>20</th>\n      <td>Afghanistan</td>\n      <td>1969</td>\n      <td>941231.98</td>\n      <td>NaN</td>\n      <td>NaN</td>\n      <td>left_only</td>\n    </tr>\n    <tr>\n      <th>21</th>\n      <td>Afghanistan</td>\n      <td>1970</td>\n      <td>1670397.69</td>\n      <td>NaN</td>\n      <td>NaN</td>\n      <td>left_only</td>\n    </tr>\n    <tr>\n      <th>22</th>\n      <td>Afghanistan</td>\n      <td>1971</td>\n      <td>1893931.41</td>\n      <td>NaN</td>\n      <td>NaN</td>\n      <td>left_only</td>\n    </tr>\n    <tr>\n      <th>23</th>\n      <td>Afghanistan</td>\n      <td>1972</td>\n      <td>1531165.69</td>\n      <td>NaN</td>\n      <td>NaN</td>\n      <td>left_only</td>\n    </tr>\n    <tr>\n      <th>24</th>\n      <td>Afghanistan</td>\n      <td>1973</td>\n      <td>1637243.40</td>\n      <td>NaN</td>\n      <td>NaN</td>\n      <td>left_only</td>\n    </tr>\n    <tr>\n      <th>25</th>\n      <td>Afghanistan</td>\n      <td>1974</td>\n      <td>1915677.68</td>\n      <td>NaN</td>\n      <td>NaN</td>\n      <td>left_only</td>\n    </tr>\n    <tr>\n      <th>26</th>\n      <td>Afghanistan</td>\n      <td>1975</td>\n      <td>2124525.68</td>\n      <td>NaN</td>\n      <td>NaN</td>\n      <td>left_only</td>\n    </tr>\n    <tr>\n      <th>27</th>\n      <td>Afghanistan</td>\n      <td>1976</td>\n      <td>1984225.38</td>\n      <td>NaN</td>\n      <td>NaN</td>\n      <td>left_only</td>\n    </tr>\n    <tr>\n      <th>28</th>\n      <td>Afghanistan</td>\n      <td>1977</td>\n      <td>2386745.67</td>\n      <td>NaN</td>\n      <td>NaN</td>\n      <td>left_only</td>\n    </tr>\n    <tr>\n      <th>29</th>\n      <td>Afghanistan</td>\n      <td>1978</td>\n      <td>2155419.66</td>\n      <td>NaN</td>\n      <td>NaN</td>\n      <td>left_only</td>\n    </tr>\n    <tr>\n      <th>30</th>\n      <td>Afghanistan</td>\n      <td>1979</td>\n      <td>2234903.94</td>\n      <td>NaN</td>\n      <td>NaN</td>\n      <td>left_only</td>\n    </tr>\n    <tr>\n      <th>31</th>\n      <td>Afghanistan</td>\n      <td>1980</td>\n      <td>1757021.97</td>\n      <td>NaN</td>\n      <td>NaN</td>\n      <td>left_only</td>\n    </tr>\n    <tr>\n      <th>32</th>\n      <td>Afghanistan</td>\n      <td>1981</td>\n      <td>1979372.53</td>\n      <td>NaN</td>\n      <td>NaN</td>\n      <td>left_only</td>\n    </tr>\n    <tr>\n      <th>33</th>\n      <td>Afghanistan</td>\n      <td>1982</td>\n      <td>2095539.37</td>\n      <td>NaN</td>\n      <td>NaN</td>\n      <td>left_only</td>\n    </tr>\n    <tr>\n      <th>34</th>\n      <td>Afghanistan</td>\n      <td>1983</td>\n      <td>2520091.42</td>\n      <td>NaN</td>\n      <td>NaN</td>\n      <td>left_only</td>\n    </tr>\n    <tr>\n      <th>35</th>\n      <td>Afghanistan</td>\n      <td>1984</td>\n      <td>2822415.06</td>\n      <td>NaN</td>\n      <td>NaN</td>\n      <td>left_only</td>\n    </tr>\n    <tr>\n      <th>36</th>\n      <td>Afghanistan</td>\n      <td>1985</td>\n      <td>3501893.65</td>\n      <td>NaN</td>\n      <td>NaN</td>\n      <td>left_only</td>\n    </tr>\n    <tr>\n      <th>37</th>\n      <td>Afghanistan</td>\n      <td>1986</td>\n      <td>3134071.92</td>\n      <td>NaN</td>\n      <td>NaN</td>\n      <td>left_only</td>\n    </tr>\n    <tr>\n      <th>38</th>\n      <td>Afghanistan</td>\n      <td>1987</td>\n      <td>3114159.90</td>\n      <td>NaN</td>\n      <td>NaN</td>\n      <td>left_only</td>\n    </tr>\n    <tr>\n      <th>39</th>\n      <td>Afghanistan</td>\n      <td>1988</td>\n      <td>2857083.90</td>\n      <td>NaN</td>\n      <td>NaN</td>\n      <td>left_only</td>\n    </tr>\n    <tr>\n      <th>40</th>\n      <td>Afghanistan</td>\n      <td>1989</td>\n      <td>2764887.89</td>\n      <td>NaN</td>\n      <td>NaN</td>\n      <td>left_only</td>\n    </tr>\n    <tr>\n      <th>41</th>\n      <td>Afghanistan</td>\n      <td>1990</td>\n      <td>2602407.59</td>\n      <td>250.362910</td>\n      <td>52.06</td>\n      <td>both</td>\n    </tr>\n    <tr>\n      <th>42</th>\n      <td>Afghanistan</td>\n      <td>1991</td>\n      <td>2426486.16</td>\n      <td>242.575125</td>\n      <td>51.64</td>\n      <td>both</td>\n    </tr>\n    <tr>\n      <th>43</th>\n      <td>Afghanistan</td>\n      <td>1992</td>\n      <td>1381521.84</td>\n      <td>232.043878</td>\n      <td>49.86</td>\n      <td>both</td>\n    </tr>\n    <tr>\n      <th>44</th>\n      <td>Afghanistan</td>\n      <td>1993</td>\n      <td>1333837.11</td>\n      <td>231.648134</td>\n      <td>50.10</td>\n      <td>both</td>\n    </tr>\n    <tr>\n      <th>45</th>\n      <td>Afghanistan</td>\n      <td>1994</td>\n      <td>1282488.38</td>\n      <td>238.837177</td>\n      <td>51.31</td>\n      <td>both</td>\n    </tr>\n    <tr>\n      <th>46</th>\n      <td>Afghanistan</td>\n      <td>1995</td>\n      <td>1231139.65</td>\n      <td>239.906599</td>\n      <td>51.11</td>\n      <td>both</td>\n    </tr>\n    <tr>\n      <th>47</th>\n      <td>Afghanistan</td>\n      <td>1996</td>\n      <td>1165134.92</td>\n      <td>238.512050</td>\n      <td>51.13</td>\n      <td>both</td>\n    </tr>\n    <tr>\n      <th>48</th>\n      <td>Afghanistan</td>\n      <td>1997</td>\n      <td>1084474.19</td>\n      <td>238.113520</td>\n      <td>51.34</td>\n      <td>both</td>\n    </tr>\n    <tr>\n      <th>49</th>\n      <td>Afghanistan</td>\n      <td>1998</td>\n      <td>1029461.47</td>\n      <td>238.680150</td>\n      <td>50.60</td>\n      <td>both</td>\n    </tr>\n  </tbody>\n</table>\n</div>"
     },
     "metadata": {},
     "execution_count": 17
    }
   ],
   "source": [
    "merge1.drop(columns=['_merge'],inplace=True)\n",
    "# repeat for outdoor pollution\n",
    "co = pd.merge(merge1,\n",
    "              outdoorp,\n",
    "              how='left',\n",
    "              left_on=['Entity','Year'],\n",
    "              right_on=['Entity','Year'],\n",
    "              suffixes=('', '_y'),\n",
    "              indicator=True).fillna(np.nan)\n",
    "\n",
    "co.head(50)"
   ]
  },
  {
   "cell_type": "code",
   "execution_count": 18,
   "metadata": {},
   "outputs": [
    {
     "output_type": "execute_result",
     "data": {
      "text/plain": [
       "         Entity  Year  co2emissions  indoor_death_rate  outdoor_death_rate\n",
       "0   Afghanistan  1949      14656.00                NaN                 NaN\n",
       "1   Afghanistan  1950      84272.00                NaN                 NaN\n",
       "2   Afghanistan  1951      91600.00                NaN                 NaN\n",
       "3   Afghanistan  1952      91600.00                NaN                 NaN\n",
       "4   Afghanistan  1953     106256.00                NaN                 NaN\n",
       "5   Afghanistan  1954     106256.00                NaN                 NaN\n",
       "6   Afghanistan  1955     153888.00                NaN                 NaN\n",
       "7   Afghanistan  1956     183200.00                NaN                 NaN\n",
       "8   Afghanistan  1957     293120.00                NaN                 NaN\n",
       "9   Afghanistan  1958     329760.00                NaN                 NaN\n",
       "10  Afghanistan  1959     384571.42                NaN                 NaN\n",
       "11  Afghanistan  1960     413883.42                NaN                 NaN\n",
       "12  Afghanistan  1961     490797.70                NaN                 NaN\n",
       "13  Afghanistan  1962     688594.27                NaN                 NaN\n",
       "14  Afghanistan  1963     706735.98                NaN                 NaN\n",
       "15  Afghanistan  1964     838550.83                NaN                 NaN\n",
       "16  Afghanistan  1965    1006916.53                NaN                 NaN\n",
       "17  Afghanistan  1966    1091158.82                NaN                 NaN\n",
       "18  Afghanistan  1967    1281865.11                NaN                 NaN\n",
       "19  Afghanistan  1968    1223389.69                NaN                 NaN\n",
       "20  Afghanistan  1969     941231.98                NaN                 NaN\n",
       "21  Afghanistan  1970    1670397.69                NaN                 NaN\n",
       "22  Afghanistan  1971    1893931.41                NaN                 NaN\n",
       "23  Afghanistan  1972    1531165.69                NaN                 NaN\n",
       "24  Afghanistan  1973    1637243.40                NaN                 NaN\n",
       "25  Afghanistan  1974    1915677.68                NaN                 NaN\n",
       "26  Afghanistan  1975    2124525.68                NaN                 NaN\n",
       "27  Afghanistan  1976    1984225.38                NaN                 NaN\n",
       "28  Afghanistan  1977    2386745.67                NaN                 NaN\n",
       "29  Afghanistan  1978    2155419.66                NaN                 NaN\n",
       "30  Afghanistan  1979    2234903.94                NaN                 NaN\n",
       "31  Afghanistan  1980    1757021.97                NaN                 NaN\n",
       "32  Afghanistan  1981    1979372.53                NaN                 NaN\n",
       "33  Afghanistan  1982    2095539.37                NaN                 NaN\n",
       "34  Afghanistan  1983    2520091.42                NaN                 NaN\n",
       "35  Afghanistan  1984    2822415.06                NaN                 NaN\n",
       "36  Afghanistan  1985    3501893.65                NaN                 NaN\n",
       "37  Afghanistan  1986    3134071.92                NaN                 NaN\n",
       "38  Afghanistan  1987    3114159.90                NaN                 NaN\n",
       "39  Afghanistan  1988    2857083.90                NaN                 NaN\n",
       "40  Afghanistan  1989    2764887.89                NaN                 NaN\n",
       "41  Afghanistan  1990    2602407.59         250.362910               52.06\n",
       "42  Afghanistan  1991    2426486.16         242.575125               51.64\n",
       "43  Afghanistan  1992    1381521.84         232.043878               49.86\n",
       "44  Afghanistan  1993    1333837.11         231.648134               50.10\n",
       "45  Afghanistan  1994    1282488.38         238.837177               51.31\n",
       "46  Afghanistan  1995    1231139.65         239.906599               51.11\n",
       "47  Afghanistan  1996    1165134.92         238.512050               51.13\n",
       "48  Afghanistan  1997    1084474.19         238.113520               51.34\n",
       "49  Afghanistan  1998    1029461.47         238.680150               50.60"
      ],
      "text/html": "<div>\n<style scoped>\n    .dataframe tbody tr th:only-of-type {\n        vertical-align: middle;\n    }\n\n    .dataframe tbody tr th {\n        vertical-align: top;\n    }\n\n    .dataframe thead th {\n        text-align: right;\n    }\n</style>\n<table border=\"1\" class=\"dataframe\">\n  <thead>\n    <tr style=\"text-align: right;\">\n      <th></th>\n      <th>Entity</th>\n      <th>Year</th>\n      <th>co2emissions</th>\n      <th>indoor_death_rate</th>\n      <th>outdoor_death_rate</th>\n    </tr>\n  </thead>\n  <tbody>\n    <tr>\n      <th>0</th>\n      <td>Afghanistan</td>\n      <td>1949</td>\n      <td>14656.00</td>\n      <td>NaN</td>\n      <td>NaN</td>\n    </tr>\n    <tr>\n      <th>1</th>\n      <td>Afghanistan</td>\n      <td>1950</td>\n      <td>84272.00</td>\n      <td>NaN</td>\n      <td>NaN</td>\n    </tr>\n    <tr>\n      <th>2</th>\n      <td>Afghanistan</td>\n      <td>1951</td>\n      <td>91600.00</td>\n      <td>NaN</td>\n      <td>NaN</td>\n    </tr>\n    <tr>\n      <th>3</th>\n      <td>Afghanistan</td>\n      <td>1952</td>\n      <td>91600.00</td>\n      <td>NaN</td>\n      <td>NaN</td>\n    </tr>\n    <tr>\n      <th>4</th>\n      <td>Afghanistan</td>\n      <td>1953</td>\n      <td>106256.00</td>\n      <td>NaN</td>\n      <td>NaN</td>\n    </tr>\n    <tr>\n      <th>5</th>\n      <td>Afghanistan</td>\n      <td>1954</td>\n      <td>106256.00</td>\n      <td>NaN</td>\n      <td>NaN</td>\n    </tr>\n    <tr>\n      <th>6</th>\n      <td>Afghanistan</td>\n      <td>1955</td>\n      <td>153888.00</td>\n      <td>NaN</td>\n      <td>NaN</td>\n    </tr>\n    <tr>\n      <th>7</th>\n      <td>Afghanistan</td>\n      <td>1956</td>\n      <td>183200.00</td>\n      <td>NaN</td>\n      <td>NaN</td>\n    </tr>\n    <tr>\n      <th>8</th>\n      <td>Afghanistan</td>\n      <td>1957</td>\n      <td>293120.00</td>\n      <td>NaN</td>\n      <td>NaN</td>\n    </tr>\n    <tr>\n      <th>9</th>\n      <td>Afghanistan</td>\n      <td>1958</td>\n      <td>329760.00</td>\n      <td>NaN</td>\n      <td>NaN</td>\n    </tr>\n    <tr>\n      <th>10</th>\n      <td>Afghanistan</td>\n      <td>1959</td>\n      <td>384571.42</td>\n      <td>NaN</td>\n      <td>NaN</td>\n    </tr>\n    <tr>\n      <th>11</th>\n      <td>Afghanistan</td>\n      <td>1960</td>\n      <td>413883.42</td>\n      <td>NaN</td>\n      <td>NaN</td>\n    </tr>\n    <tr>\n      <th>12</th>\n      <td>Afghanistan</td>\n      <td>1961</td>\n      <td>490797.70</td>\n      <td>NaN</td>\n      <td>NaN</td>\n    </tr>\n    <tr>\n      <th>13</th>\n      <td>Afghanistan</td>\n      <td>1962</td>\n      <td>688594.27</td>\n      <td>NaN</td>\n      <td>NaN</td>\n    </tr>\n    <tr>\n      <th>14</th>\n      <td>Afghanistan</td>\n      <td>1963</td>\n      <td>706735.98</td>\n      <td>NaN</td>\n      <td>NaN</td>\n    </tr>\n    <tr>\n      <th>15</th>\n      <td>Afghanistan</td>\n      <td>1964</td>\n      <td>838550.83</td>\n      <td>NaN</td>\n      <td>NaN</td>\n    </tr>\n    <tr>\n      <th>16</th>\n      <td>Afghanistan</td>\n      <td>1965</td>\n      <td>1006916.53</td>\n      <td>NaN</td>\n      <td>NaN</td>\n    </tr>\n    <tr>\n      <th>17</th>\n      <td>Afghanistan</td>\n      <td>1966</td>\n      <td>1091158.82</td>\n      <td>NaN</td>\n      <td>NaN</td>\n    </tr>\n    <tr>\n      <th>18</th>\n      <td>Afghanistan</td>\n      <td>1967</td>\n      <td>1281865.11</td>\n      <td>NaN</td>\n      <td>NaN</td>\n    </tr>\n    <tr>\n      <th>19</th>\n      <td>Afghanistan</td>\n      <td>1968</td>\n      <td>1223389.69</td>\n      <td>NaN</td>\n      <td>NaN</td>\n    </tr>\n    <tr>\n      <th>20</th>\n      <td>Afghanistan</td>\n      <td>1969</td>\n      <td>941231.98</td>\n      <td>NaN</td>\n      <td>NaN</td>\n    </tr>\n    <tr>\n      <th>21</th>\n      <td>Afghanistan</td>\n      <td>1970</td>\n      <td>1670397.69</td>\n      <td>NaN</td>\n      <td>NaN</td>\n    </tr>\n    <tr>\n      <th>22</th>\n      <td>Afghanistan</td>\n      <td>1971</td>\n      <td>1893931.41</td>\n      <td>NaN</td>\n      <td>NaN</td>\n    </tr>\n    <tr>\n      <th>23</th>\n      <td>Afghanistan</td>\n      <td>1972</td>\n      <td>1531165.69</td>\n      <td>NaN</td>\n      <td>NaN</td>\n    </tr>\n    <tr>\n      <th>24</th>\n      <td>Afghanistan</td>\n      <td>1973</td>\n      <td>1637243.40</td>\n      <td>NaN</td>\n      <td>NaN</td>\n    </tr>\n    <tr>\n      <th>25</th>\n      <td>Afghanistan</td>\n      <td>1974</td>\n      <td>1915677.68</td>\n      <td>NaN</td>\n      <td>NaN</td>\n    </tr>\n    <tr>\n      <th>26</th>\n      <td>Afghanistan</td>\n      <td>1975</td>\n      <td>2124525.68</td>\n      <td>NaN</td>\n      <td>NaN</td>\n    </tr>\n    <tr>\n      <th>27</th>\n      <td>Afghanistan</td>\n      <td>1976</td>\n      <td>1984225.38</td>\n      <td>NaN</td>\n      <td>NaN</td>\n    </tr>\n    <tr>\n      <th>28</th>\n      <td>Afghanistan</td>\n      <td>1977</td>\n      <td>2386745.67</td>\n      <td>NaN</td>\n      <td>NaN</td>\n    </tr>\n    <tr>\n      <th>29</th>\n      <td>Afghanistan</td>\n      <td>1978</td>\n      <td>2155419.66</td>\n      <td>NaN</td>\n      <td>NaN</td>\n    </tr>\n    <tr>\n      <th>30</th>\n      <td>Afghanistan</td>\n      <td>1979</td>\n      <td>2234903.94</td>\n      <td>NaN</td>\n      <td>NaN</td>\n    </tr>\n    <tr>\n      <th>31</th>\n      <td>Afghanistan</td>\n      <td>1980</td>\n      <td>1757021.97</td>\n      <td>NaN</td>\n      <td>NaN</td>\n    </tr>\n    <tr>\n      <th>32</th>\n      <td>Afghanistan</td>\n      <td>1981</td>\n      <td>1979372.53</td>\n      <td>NaN</td>\n      <td>NaN</td>\n    </tr>\n    <tr>\n      <th>33</th>\n      <td>Afghanistan</td>\n      <td>1982</td>\n      <td>2095539.37</td>\n      <td>NaN</td>\n      <td>NaN</td>\n    </tr>\n    <tr>\n      <th>34</th>\n      <td>Afghanistan</td>\n      <td>1983</td>\n      <td>2520091.42</td>\n      <td>NaN</td>\n      <td>NaN</td>\n    </tr>\n    <tr>\n      <th>35</th>\n      <td>Afghanistan</td>\n      <td>1984</td>\n      <td>2822415.06</td>\n      <td>NaN</td>\n      <td>NaN</td>\n    </tr>\n    <tr>\n      <th>36</th>\n      <td>Afghanistan</td>\n      <td>1985</td>\n      <td>3501893.65</td>\n      <td>NaN</td>\n      <td>NaN</td>\n    </tr>\n    <tr>\n      <th>37</th>\n      <td>Afghanistan</td>\n      <td>1986</td>\n      <td>3134071.92</td>\n      <td>NaN</td>\n      <td>NaN</td>\n    </tr>\n    <tr>\n      <th>38</th>\n      <td>Afghanistan</td>\n      <td>1987</td>\n      <td>3114159.90</td>\n      <td>NaN</td>\n      <td>NaN</td>\n    </tr>\n    <tr>\n      <th>39</th>\n      <td>Afghanistan</td>\n      <td>1988</td>\n      <td>2857083.90</td>\n      <td>NaN</td>\n      <td>NaN</td>\n    </tr>\n    <tr>\n      <th>40</th>\n      <td>Afghanistan</td>\n      <td>1989</td>\n      <td>2764887.89</td>\n      <td>NaN</td>\n      <td>NaN</td>\n    </tr>\n    <tr>\n      <th>41</th>\n      <td>Afghanistan</td>\n      <td>1990</td>\n      <td>2602407.59</td>\n      <td>250.362910</td>\n      <td>52.06</td>\n    </tr>\n    <tr>\n      <th>42</th>\n      <td>Afghanistan</td>\n      <td>1991</td>\n      <td>2426486.16</td>\n      <td>242.575125</td>\n      <td>51.64</td>\n    </tr>\n    <tr>\n      <th>43</th>\n      <td>Afghanistan</td>\n      <td>1992</td>\n      <td>1381521.84</td>\n      <td>232.043878</td>\n      <td>49.86</td>\n    </tr>\n    <tr>\n      <th>44</th>\n      <td>Afghanistan</td>\n      <td>1993</td>\n      <td>1333837.11</td>\n      <td>231.648134</td>\n      <td>50.10</td>\n    </tr>\n    <tr>\n      <th>45</th>\n      <td>Afghanistan</td>\n      <td>1994</td>\n      <td>1282488.38</td>\n      <td>238.837177</td>\n      <td>51.31</td>\n    </tr>\n    <tr>\n      <th>46</th>\n      <td>Afghanistan</td>\n      <td>1995</td>\n      <td>1231139.65</td>\n      <td>239.906599</td>\n      <td>51.11</td>\n    </tr>\n    <tr>\n      <th>47</th>\n      <td>Afghanistan</td>\n      <td>1996</td>\n      <td>1165134.92</td>\n      <td>238.512050</td>\n      <td>51.13</td>\n    </tr>\n    <tr>\n      <th>48</th>\n      <td>Afghanistan</td>\n      <td>1997</td>\n      <td>1084474.19</td>\n      <td>238.113520</td>\n      <td>51.34</td>\n    </tr>\n    <tr>\n      <th>49</th>\n      <td>Afghanistan</td>\n      <td>1998</td>\n      <td>1029461.47</td>\n      <td>238.680150</td>\n      <td>50.60</td>\n    </tr>\n  </tbody>\n</table>\n</div>"
     },
     "metadata": {},
     "execution_count": 18
    }
   ],
   "source": [
    "co.drop(columns=['_merge'],inplace=True)\n",
    "co.head(50)"
   ]
  },
  {
   "cell_type": "code",
   "execution_count": 19,
   "metadata": {},
   "outputs": [],
   "source": [
    "# save final csv file\n",
    "co.to_csv(os.path.join(final_data_dir,'POLLUTION.csv'),index=False)"
   ]
  },
  {
   "source": [
    "## GDP TABLE"
   ],
   "cell_type": "markdown",
   "metadata": {}
  },
  {
   "cell_type": "code",
   "execution_count": 24,
   "metadata": {},
   "outputs": [
    {
     "output_type": "stream",
     "name": "stdout",
     "text": [
      "<class 'pandas.core.frame.DataFrame'>\nRangeIndex: 264 entries, 0 to 263\nData columns (total 66 columns):\n #   Column          Non-Null Count  Dtype  \n---  ------          --------------  -----  \n 0   Country Name    264 non-null    object \n 1   Country Code    264 non-null    object \n 2   Indicator Name  264 non-null    object \n 3   Indicator Code  264 non-null    object \n 4   1960            131 non-null    float64\n 5   1961            132 non-null    float64\n 6   1962            135 non-null    float64\n 7   1963            135 non-null    float64\n 8   1964            135 non-null    float64\n 9   1965            144 non-null    float64\n 10  1966            148 non-null    float64\n 11  1967            152 non-null    float64\n 12  1968            156 non-null    float64\n 13  1969            156 non-null    float64\n 14  1970            167 non-null    float64\n 15  1971            168 non-null    float64\n 16  1972            168 non-null    float64\n 17  1973            168 non-null    float64\n 18  1974            169 non-null    float64\n 19  1975            172 non-null    float64\n 20  1976            173 non-null    float64\n 21  1977            176 non-null    float64\n 22  1978            175 non-null    float64\n 23  1979            176 non-null    float64\n 24  1980            187 non-null    float64\n 25  1981            190 non-null    float64\n 26  1982            191 non-null    float64\n 27  1983            192 non-null    float64\n 28  1984            193 non-null    float64\n 29  1985            195 non-null    float64\n 30  1986            197 non-null    float64\n 31  1987            201 non-null    float64\n 32  1988            206 non-null    float64\n 33  1989            206 non-null    float64\n 34  1990            223 non-null    float64\n 35  1991            222 non-null    float64\n 36  1992            223 non-null    float64\n 37  1993            228 non-null    float64\n 38  1994            230 non-null    float64\n 39  1995            236 non-null    float64\n 40  1996            236 non-null    float64\n 41  1997            236 non-null    float64\n 42  1998            238 non-null    float64\n 43  1999            239 non-null    float64\n 44  2000            245 non-null    float64\n 45  2001            245 non-null    float64\n 46  2002            250 non-null    float64\n 47  2003            250 non-null    float64\n 48  2004            251 non-null    float64\n 49  2005            251 non-null    float64\n 50  2006            252 non-null    float64\n 51  2007            252 non-null    float64\n 52  2008            251 non-null    float64\n 53  2009            251 non-null    float64\n 54  2010            252 non-null    float64\n 55  2011            254 non-null    float64\n 56  2012            253 non-null    float64\n 57  2013            253 non-null    float64\n 58  2014            253 non-null    float64\n 59  2015            252 non-null    float64\n 60  2016            251 non-null    float64\n 61  2017            251 non-null    float64\n 62  2018            249 non-null    float64\n 63  2019            230 non-null    float64\n 64  2020            0 non-null      float64\n 65  Unnamed: 65     0 non-null      float64\ndtypes: float64(62), object(4)\nmemory usage: 136.2+ KB\n"
     ]
    }
   ],
   "source": [
    "gdp = pd.read_csv(os.path.join(raw_data_dir,'gdp.csv'),header=0)\n",
    "gdp.info()"
   ]
  },
  {
   "cell_type": "code",
   "execution_count": 25,
   "metadata": {},
   "outputs": [
    {
     "output_type": "execute_result",
     "data": {
      "text/plain": [
       "   Country Name Country Code  Year           Gdp\n",
       "0         Aruba          ABW  1960           NaN\n",
       "1   Afghanistan          AFG  1960  5.377778e+08\n",
       "2        Angola          AGO  1960           NaN\n",
       "3       Albania          ALB  1960           NaN\n",
       "4       Andorra          AND  1960           NaN\n",
       "..          ...          ...   ...           ...\n",
       "95        Italy          ITA  1960  4.038529e+10\n",
       "96      Jamaica          JAM  1960  6.990507e+08\n",
       "97       Jordan          JOR  1960           NaN\n",
       "98        Japan          JPN  1960  4.430734e+10\n",
       "99   Kazakhstan          KAZ  1960           NaN\n",
       "\n",
       "[100 rows x 4 columns]"
      ],
      "text/html": "<div>\n<style scoped>\n    .dataframe tbody tr th:only-of-type {\n        vertical-align: middle;\n    }\n\n    .dataframe tbody tr th {\n        vertical-align: top;\n    }\n\n    .dataframe thead th {\n        text-align: right;\n    }\n</style>\n<table border=\"1\" class=\"dataframe\">\n  <thead>\n    <tr style=\"text-align: right;\">\n      <th></th>\n      <th>Country Name</th>\n      <th>Country Code</th>\n      <th>Year</th>\n      <th>Gdp</th>\n    </tr>\n  </thead>\n  <tbody>\n    <tr>\n      <th>0</th>\n      <td>Aruba</td>\n      <td>ABW</td>\n      <td>1960</td>\n      <td>NaN</td>\n    </tr>\n    <tr>\n      <th>1</th>\n      <td>Afghanistan</td>\n      <td>AFG</td>\n      <td>1960</td>\n      <td>5.377778e+08</td>\n    </tr>\n    <tr>\n      <th>2</th>\n      <td>Angola</td>\n      <td>AGO</td>\n      <td>1960</td>\n      <td>NaN</td>\n    </tr>\n    <tr>\n      <th>3</th>\n      <td>Albania</td>\n      <td>ALB</td>\n      <td>1960</td>\n      <td>NaN</td>\n    </tr>\n    <tr>\n      <th>4</th>\n      <td>Andorra</td>\n      <td>AND</td>\n      <td>1960</td>\n      <td>NaN</td>\n    </tr>\n    <tr>\n      <th>...</th>\n      <td>...</td>\n      <td>...</td>\n      <td>...</td>\n      <td>...</td>\n    </tr>\n    <tr>\n      <th>95</th>\n      <td>Italy</td>\n      <td>ITA</td>\n      <td>1960</td>\n      <td>4.038529e+10</td>\n    </tr>\n    <tr>\n      <th>96</th>\n      <td>Jamaica</td>\n      <td>JAM</td>\n      <td>1960</td>\n      <td>6.990507e+08</td>\n    </tr>\n    <tr>\n      <th>97</th>\n      <td>Jordan</td>\n      <td>JOR</td>\n      <td>1960</td>\n      <td>NaN</td>\n    </tr>\n    <tr>\n      <th>98</th>\n      <td>Japan</td>\n      <td>JPN</td>\n      <td>1960</td>\n      <td>4.430734e+10</td>\n    </tr>\n    <tr>\n      <th>99</th>\n      <td>Kazakhstan</td>\n      <td>KAZ</td>\n      <td>1960</td>\n      <td>NaN</td>\n    </tr>\n  </tbody>\n</table>\n<p>100 rows × 4 columns</p>\n</div>"
     },
     "metadata": {},
     "execution_count": 25
    }
   ],
   "source": [
    "# drop indicator name and indicator code since for all rows it's the same value ('GDP (current US$)' with indicator code 'NY.GDP.MKTP.CD')\n",
    "gdp.drop(columns=['Indicator Name','Indicator Code'],inplace=True)\n",
    "gdp =gdp[gdp['Country Name'].isin(country['Country Name'].unique().tolist())]\n",
    "# use melt method to bring table from wide to long format\n",
    "gdp_new = pd.melt(gdp, id_vars=['Country Name','Country Code'],value_vars=[str(i) for i in range(1960,2021)],var_name='Year',value_name='Gdp')\n",
    "gdp_new.head(100)"
   ]
  },
  {
   "cell_type": "code",
   "execution_count": 27,
   "metadata": {},
   "outputs": [],
   "source": [
    "gdp_new.drop(columns=['Country Code'],inplace=True)"
   ]
  },
  {
   "cell_type": "code",
   "execution_count": 29,
   "metadata": {},
   "outputs": [],
   "source": [
    "# save final csv file\n",
    "gdp_new.to_csv(os.path.join(final_data_dir,'GDP.csv'),index=False)"
   ]
  },
  {
   "source": [
    "## EDUCATION table"
   ],
   "cell_type": "markdown",
   "metadata": {}
  },
  {
   "cell_type": "code",
   "execution_count": 45,
   "metadata": {},
   "outputs": [],
   "source": [
    "#import %gdp spent on primary edu\n",
    "sharegdp_primary = pd.read_csv(os.path.join(raw_data_dir,'government-expenditure-on-primary-education-as-share-of-gdp.csv'),header=0) \n",
    "#import %gdp spent on secondary edu\n",
    "sharegdp_secondary = pd.read_csv(os.path.join(raw_data_dir,'government-expenditure-on-secondary-education-as-share-of-gdp.csv'),header=0) \n",
    "#import %gdp spent on tertiary edu\n",
    "sharegdp_tertiary = pd.read_csv(os.path.join(raw_data_dir,'government-expenditure-on-tertiary-education-as-share-of-gdp.csv'),header=0) \n",
    "#import shar epop with tertiary education\n",
    "sharepop_tertiary = pd.read_csv(os.path.join(raw_data_dir,'share-of-the-population-with-completed-tertiary-education.csv'),header=0) \n",
    "#import primary completion rate\n",
    "primary_rate = pd.read_csv(os.path.join(raw_data_dir,'primary-completion-rate.csv'),header=0) \n",
    "#import lower secondary completion rate\n",
    "secondary_rate = pd.read_csv(os.path.join(raw_data_dir,'completion-rate-of-lower-secondary-education.csv'),header=0) "
   ]
  },
  {
   "cell_type": "code",
   "execution_count": 46,
   "metadata": {},
   "outputs": [
    {
     "output_type": "execute_result",
     "data": {
      "text/plain": [
       "                 Entity  Year  share_gdp_primary  share_gdp_secondary _merge\n",
       "0               Albania  2013            2.01439              0.70164   both\n",
       "1               Algeria  1999            1.90130              2.05297   both\n",
       "2               Algeria  2000            1.54447              1.67496   both\n",
       "3               Algeria  2002            1.61838              1.87599   both\n",
       "4               Algeria  2003            1.64054              1.91257   both\n",
       "5               Andorra  2002            0.46050              0.27419   both\n",
       "6               Andorra  2004            0.44866              0.28753   both\n",
       "7               Andorra  2005            0.38623              0.32995   both\n",
       "8               Andorra  2006            0.52133              0.47156   both\n",
       "9               Andorra  2007            0.53180              0.51119   both\n",
       "10              Andorra  2009            0.83439              0.82665   both\n",
       "11              Andorra  2010            0.88587              0.64181   both\n",
       "12              Andorra  2011            0.91004              0.67473   both\n",
       "13              Andorra  2013            0.79157              0.86799   both\n",
       "14              Andorra  2014            0.68306              0.62840   both\n",
       "15               Angola  2005            0.77381              1.17068   both\n",
       "16               Angola  2006            0.71714              0.96789   both\n",
       "17  Antigua and Barbuda  1999            1.07176              1.20681   both\n",
       "18  Antigua and Barbuda  2002            0.98372              1.21113   both\n",
       "19  Antigua and Barbuda  2009            1.06300              1.23617   both\n",
       "20            Argentina  1998            1.41680              1.34174   both\n",
       "21            Argentina  1999            1.64341              1.66881   both\n",
       "22            Argentina  2000            1.63477              1.63532   both\n",
       "23            Argentina  2001            1.83290              1.77037   both\n",
       "24            Argentina  2002            1.42350              1.57648   both\n",
       "25            Argentina  2003            1.34384              1.31715   both\n",
       "26            Argentina  2004            1.15831              1.19314   both\n",
       "27            Argentina  2005            1.18798              1.44823   both\n",
       "28            Argentina  2006            1.28080              1.46277   both\n",
       "29            Argentina  2007            1.38224              1.52914   both\n",
       "30            Argentina  2008            1.52314              1.70014   both\n",
       "31            Argentina  2009            1.60404              1.99380   both\n",
       "32            Argentina  2010            1.52263              1.82643   both\n",
       "33            Argentina  2011            1.59406              2.01806   both\n",
       "34            Argentina  2012            1.62144              2.06197   both\n",
       "35            Argentina  2013            1.60496              2.21926   both\n",
       "36              Armenia  2012            0.70850              1.50941   both\n",
       "37              Armenia  2013            0.53297              1.29543   both\n",
       "38                Aruba  1998            1.09873              1.19068   both\n",
       "39                Aruba  1999            1.18456              1.28447   both\n",
       "40                Aruba  2000            1.33183              1.30588   both\n",
       "41                Aruba  2001            1.23860              1.40056   both\n",
       "42                Aruba  2002            1.42795              1.37938   both\n",
       "43                Aruba  2004            1.17736              1.25303   both\n",
       "44                Aruba  2005            1.25127              1.25296   both\n",
       "45            Australia  2000            1.66751              1.88884   both\n",
       "46            Australia  2005            1.70099              1.95092   both\n",
       "47            Australia  2006            1.65922              1.87900   both\n",
       "48            Australia  2007            1.63799              1.81488   both\n",
       "49            Australia  2008            1.64197              1.78998   both"
      ],
      "text/html": "<div>\n<style scoped>\n    .dataframe tbody tr th:only-of-type {\n        vertical-align: middle;\n    }\n\n    .dataframe tbody tr th {\n        vertical-align: top;\n    }\n\n    .dataframe thead th {\n        text-align: right;\n    }\n</style>\n<table border=\"1\" class=\"dataframe\">\n  <thead>\n    <tr style=\"text-align: right;\">\n      <th></th>\n      <th>Entity</th>\n      <th>Year</th>\n      <th>share_gdp_primary</th>\n      <th>share_gdp_secondary</th>\n      <th>_merge</th>\n    </tr>\n  </thead>\n  <tbody>\n    <tr>\n      <th>0</th>\n      <td>Albania</td>\n      <td>2013</td>\n      <td>2.01439</td>\n      <td>0.70164</td>\n      <td>both</td>\n    </tr>\n    <tr>\n      <th>1</th>\n      <td>Algeria</td>\n      <td>1999</td>\n      <td>1.90130</td>\n      <td>2.05297</td>\n      <td>both</td>\n    </tr>\n    <tr>\n      <th>2</th>\n      <td>Algeria</td>\n      <td>2000</td>\n      <td>1.54447</td>\n      <td>1.67496</td>\n      <td>both</td>\n    </tr>\n    <tr>\n      <th>3</th>\n      <td>Algeria</td>\n      <td>2002</td>\n      <td>1.61838</td>\n      <td>1.87599</td>\n      <td>both</td>\n    </tr>\n    <tr>\n      <th>4</th>\n      <td>Algeria</td>\n      <td>2003</td>\n      <td>1.64054</td>\n      <td>1.91257</td>\n      <td>both</td>\n    </tr>\n    <tr>\n      <th>5</th>\n      <td>Andorra</td>\n      <td>2002</td>\n      <td>0.46050</td>\n      <td>0.27419</td>\n      <td>both</td>\n    </tr>\n    <tr>\n      <th>6</th>\n      <td>Andorra</td>\n      <td>2004</td>\n      <td>0.44866</td>\n      <td>0.28753</td>\n      <td>both</td>\n    </tr>\n    <tr>\n      <th>7</th>\n      <td>Andorra</td>\n      <td>2005</td>\n      <td>0.38623</td>\n      <td>0.32995</td>\n      <td>both</td>\n    </tr>\n    <tr>\n      <th>8</th>\n      <td>Andorra</td>\n      <td>2006</td>\n      <td>0.52133</td>\n      <td>0.47156</td>\n      <td>both</td>\n    </tr>\n    <tr>\n      <th>9</th>\n      <td>Andorra</td>\n      <td>2007</td>\n      <td>0.53180</td>\n      <td>0.51119</td>\n      <td>both</td>\n    </tr>\n    <tr>\n      <th>10</th>\n      <td>Andorra</td>\n      <td>2009</td>\n      <td>0.83439</td>\n      <td>0.82665</td>\n      <td>both</td>\n    </tr>\n    <tr>\n      <th>11</th>\n      <td>Andorra</td>\n      <td>2010</td>\n      <td>0.88587</td>\n      <td>0.64181</td>\n      <td>both</td>\n    </tr>\n    <tr>\n      <th>12</th>\n      <td>Andorra</td>\n      <td>2011</td>\n      <td>0.91004</td>\n      <td>0.67473</td>\n      <td>both</td>\n    </tr>\n    <tr>\n      <th>13</th>\n      <td>Andorra</td>\n      <td>2013</td>\n      <td>0.79157</td>\n      <td>0.86799</td>\n      <td>both</td>\n    </tr>\n    <tr>\n      <th>14</th>\n      <td>Andorra</td>\n      <td>2014</td>\n      <td>0.68306</td>\n      <td>0.62840</td>\n      <td>both</td>\n    </tr>\n    <tr>\n      <th>15</th>\n      <td>Angola</td>\n      <td>2005</td>\n      <td>0.77381</td>\n      <td>1.17068</td>\n      <td>both</td>\n    </tr>\n    <tr>\n      <th>16</th>\n      <td>Angola</td>\n      <td>2006</td>\n      <td>0.71714</td>\n      <td>0.96789</td>\n      <td>both</td>\n    </tr>\n    <tr>\n      <th>17</th>\n      <td>Antigua and Barbuda</td>\n      <td>1999</td>\n      <td>1.07176</td>\n      <td>1.20681</td>\n      <td>both</td>\n    </tr>\n    <tr>\n      <th>18</th>\n      <td>Antigua and Barbuda</td>\n      <td>2002</td>\n      <td>0.98372</td>\n      <td>1.21113</td>\n      <td>both</td>\n    </tr>\n    <tr>\n      <th>19</th>\n      <td>Antigua and Barbuda</td>\n      <td>2009</td>\n      <td>1.06300</td>\n      <td>1.23617</td>\n      <td>both</td>\n    </tr>\n    <tr>\n      <th>20</th>\n      <td>Argentina</td>\n      <td>1998</td>\n      <td>1.41680</td>\n      <td>1.34174</td>\n      <td>both</td>\n    </tr>\n    <tr>\n      <th>21</th>\n      <td>Argentina</td>\n      <td>1999</td>\n      <td>1.64341</td>\n      <td>1.66881</td>\n      <td>both</td>\n    </tr>\n    <tr>\n      <th>22</th>\n      <td>Argentina</td>\n      <td>2000</td>\n      <td>1.63477</td>\n      <td>1.63532</td>\n      <td>both</td>\n    </tr>\n    <tr>\n      <th>23</th>\n      <td>Argentina</td>\n      <td>2001</td>\n      <td>1.83290</td>\n      <td>1.77037</td>\n      <td>both</td>\n    </tr>\n    <tr>\n      <th>24</th>\n      <td>Argentina</td>\n      <td>2002</td>\n      <td>1.42350</td>\n      <td>1.57648</td>\n      <td>both</td>\n    </tr>\n    <tr>\n      <th>25</th>\n      <td>Argentina</td>\n      <td>2003</td>\n      <td>1.34384</td>\n      <td>1.31715</td>\n      <td>both</td>\n    </tr>\n    <tr>\n      <th>26</th>\n      <td>Argentina</td>\n      <td>2004</td>\n      <td>1.15831</td>\n      <td>1.19314</td>\n      <td>both</td>\n    </tr>\n    <tr>\n      <th>27</th>\n      <td>Argentina</td>\n      <td>2005</td>\n      <td>1.18798</td>\n      <td>1.44823</td>\n      <td>both</td>\n    </tr>\n    <tr>\n      <th>28</th>\n      <td>Argentina</td>\n      <td>2006</td>\n      <td>1.28080</td>\n      <td>1.46277</td>\n      <td>both</td>\n    </tr>\n    <tr>\n      <th>29</th>\n      <td>Argentina</td>\n      <td>2007</td>\n      <td>1.38224</td>\n      <td>1.52914</td>\n      <td>both</td>\n    </tr>\n    <tr>\n      <th>30</th>\n      <td>Argentina</td>\n      <td>2008</td>\n      <td>1.52314</td>\n      <td>1.70014</td>\n      <td>both</td>\n    </tr>\n    <tr>\n      <th>31</th>\n      <td>Argentina</td>\n      <td>2009</td>\n      <td>1.60404</td>\n      <td>1.99380</td>\n      <td>both</td>\n    </tr>\n    <tr>\n      <th>32</th>\n      <td>Argentina</td>\n      <td>2010</td>\n      <td>1.52263</td>\n      <td>1.82643</td>\n      <td>both</td>\n    </tr>\n    <tr>\n      <th>33</th>\n      <td>Argentina</td>\n      <td>2011</td>\n      <td>1.59406</td>\n      <td>2.01806</td>\n      <td>both</td>\n    </tr>\n    <tr>\n      <th>34</th>\n      <td>Argentina</td>\n      <td>2012</td>\n      <td>1.62144</td>\n      <td>2.06197</td>\n      <td>both</td>\n    </tr>\n    <tr>\n      <th>35</th>\n      <td>Argentina</td>\n      <td>2013</td>\n      <td>1.60496</td>\n      <td>2.21926</td>\n      <td>both</td>\n    </tr>\n    <tr>\n      <th>36</th>\n      <td>Armenia</td>\n      <td>2012</td>\n      <td>0.70850</td>\n      <td>1.50941</td>\n      <td>both</td>\n    </tr>\n    <tr>\n      <th>37</th>\n      <td>Armenia</td>\n      <td>2013</td>\n      <td>0.53297</td>\n      <td>1.29543</td>\n      <td>both</td>\n    </tr>\n    <tr>\n      <th>38</th>\n      <td>Aruba</td>\n      <td>1998</td>\n      <td>1.09873</td>\n      <td>1.19068</td>\n      <td>both</td>\n    </tr>\n    <tr>\n      <th>39</th>\n      <td>Aruba</td>\n      <td>1999</td>\n      <td>1.18456</td>\n      <td>1.28447</td>\n      <td>both</td>\n    </tr>\n    <tr>\n      <th>40</th>\n      <td>Aruba</td>\n      <td>2000</td>\n      <td>1.33183</td>\n      <td>1.30588</td>\n      <td>both</td>\n    </tr>\n    <tr>\n      <th>41</th>\n      <td>Aruba</td>\n      <td>2001</td>\n      <td>1.23860</td>\n      <td>1.40056</td>\n      <td>both</td>\n    </tr>\n    <tr>\n      <th>42</th>\n      <td>Aruba</td>\n      <td>2002</td>\n      <td>1.42795</td>\n      <td>1.37938</td>\n      <td>both</td>\n    </tr>\n    <tr>\n      <th>43</th>\n      <td>Aruba</td>\n      <td>2004</td>\n      <td>1.17736</td>\n      <td>1.25303</td>\n      <td>both</td>\n    </tr>\n    <tr>\n      <th>44</th>\n      <td>Aruba</td>\n      <td>2005</td>\n      <td>1.25127</td>\n      <td>1.25296</td>\n      <td>both</td>\n    </tr>\n    <tr>\n      <th>45</th>\n      <td>Australia</td>\n      <td>2000</td>\n      <td>1.66751</td>\n      <td>1.88884</td>\n      <td>both</td>\n    </tr>\n    <tr>\n      <th>46</th>\n      <td>Australia</td>\n      <td>2005</td>\n      <td>1.70099</td>\n      <td>1.95092</td>\n      <td>both</td>\n    </tr>\n    <tr>\n      <th>47</th>\n      <td>Australia</td>\n      <td>2006</td>\n      <td>1.65922</td>\n      <td>1.87900</td>\n      <td>both</td>\n    </tr>\n    <tr>\n      <th>48</th>\n      <td>Australia</td>\n      <td>2007</td>\n      <td>1.63799</td>\n      <td>1.81488</td>\n      <td>both</td>\n    </tr>\n    <tr>\n      <th>49</th>\n      <td>Australia</td>\n      <td>2008</td>\n      <td>1.64197</td>\n      <td>1.78998</td>\n      <td>both</td>\n    </tr>\n  </tbody>\n</table>\n</div>"
     },
     "metadata": {},
     "execution_count": 46
    }
   ],
   "source": [
    "# merging emissions indoor (keep only rows whose country names are in COUNTRY table)\n",
    "sharegdp_primary =sharegdp_primary[sharegdp_primary['Entity'].isin(country['Country Name'].unique().tolist())]\n",
    "sharegdp_primary.drop(columns=['Code'],inplace=True)\n",
    "sharegdp_primary.rename(columns={\"Government expenditure on primary education as % of GDP (%)\": \"share_gdp_primary\"},inplace=True)\n",
    "sharegdp_secondary.drop(columns=['Code'],inplace=True)\n",
    "sharegdp_secondary.rename(columns={\"Government expenditure on secondary education as % of GDP (%)\": \"share_gdp_secondary\"},inplace=True)\n",
    "sharegdp_tertiary.drop(columns=['Code'],inplace=True)\n",
    "sharegdp_tertiary.rename(columns={\"Government expenditure on tertiary education as % of GDP (%)\": \"share_gdp_tertiary\"},inplace=True)\n",
    "sharepop_tertiary.drop(columns=['Code'],inplace=True)\n",
    "sharepop_tertiary.rename(columns={\"Barro-Lee: Percentage of population age 15+ with tertiary schooling. Completed Tertiary\": \"share_pop_tertiary\"},inplace=True)\n",
    "primary_rate.drop(columns=['Code'],inplace=True)\n",
    "primary_rate.rename(columns={\"Primary completion rate, both sexes (%)\": \"primary_rate\"},inplace=True)\n",
    "secondary_rate.drop(columns=['Code'],inplace=True)\n",
    "secondary_rate.rename(columns={\"Lower secondary completion rate, both sexes (%)\": \"secondary_rate\"},inplace=True)\n",
    "\n",
    "merge1 = pd.merge(sharegdp_primary,\n",
    "                  sharegdp_secondary,\n",
    "                  how='left',\n",
    "                  left_on=['Entity','Year'],\n",
    "                  right_on=['Entity','Year'],\n",
    "                  suffixes=('', '_y'),\n",
    "                  indicator=True).fillna(np.nan)\n",
    "\n",
    "merge1.head(50)"
   ]
  },
  {
   "cell_type": "code",
   "execution_count": 47,
   "metadata": {},
   "outputs": [
    {
     "output_type": "execute_result",
     "data": {
      "text/plain": [
       "    Entity  Year  share_gdp_primary  share_gdp_secondary  share_gdp_tertiary  \\\n",
       "0  Albania  2013            2.01439              0.70164             0.77585   \n",
       "1  Algeria  1999            1.90130              2.05297                 NaN   \n",
       "2  Algeria  2000            1.54447              1.67496                 NaN   \n",
       "3  Algeria  2002            1.61838              1.87599                 NaN   \n",
       "4  Algeria  2003            1.64054              1.91257                 NaN   \n",
       "5  Andorra  2002            0.46050              0.27419             0.11678   \n",
       "6  Andorra  2004            0.44866              0.28753             0.07608   \n",
       "7  Andorra  2005            0.38623              0.32995             0.06213   \n",
       "8  Andorra  2006            0.52133              0.47156             0.14541   \n",
       "9  Andorra  2007            0.53180              0.51119             0.09400   \n",
       "\n",
       "      _merge  \n",
       "0       both  \n",
       "1  left_only  \n",
       "2  left_only  \n",
       "3  left_only  \n",
       "4  left_only  \n",
       "5       both  \n",
       "6       both  \n",
       "7       both  \n",
       "8       both  \n",
       "9       both  "
      ],
      "text/html": "<div>\n<style scoped>\n    .dataframe tbody tr th:only-of-type {\n        vertical-align: middle;\n    }\n\n    .dataframe tbody tr th {\n        vertical-align: top;\n    }\n\n    .dataframe thead th {\n        text-align: right;\n    }\n</style>\n<table border=\"1\" class=\"dataframe\">\n  <thead>\n    <tr style=\"text-align: right;\">\n      <th></th>\n      <th>Entity</th>\n      <th>Year</th>\n      <th>share_gdp_primary</th>\n      <th>share_gdp_secondary</th>\n      <th>share_gdp_tertiary</th>\n      <th>_merge</th>\n    </tr>\n  </thead>\n  <tbody>\n    <tr>\n      <th>0</th>\n      <td>Albania</td>\n      <td>2013</td>\n      <td>2.01439</td>\n      <td>0.70164</td>\n      <td>0.77585</td>\n      <td>both</td>\n    </tr>\n    <tr>\n      <th>1</th>\n      <td>Algeria</td>\n      <td>1999</td>\n      <td>1.90130</td>\n      <td>2.05297</td>\n      <td>NaN</td>\n      <td>left_only</td>\n    </tr>\n    <tr>\n      <th>2</th>\n      <td>Algeria</td>\n      <td>2000</td>\n      <td>1.54447</td>\n      <td>1.67496</td>\n      <td>NaN</td>\n      <td>left_only</td>\n    </tr>\n    <tr>\n      <th>3</th>\n      <td>Algeria</td>\n      <td>2002</td>\n      <td>1.61838</td>\n      <td>1.87599</td>\n      <td>NaN</td>\n      <td>left_only</td>\n    </tr>\n    <tr>\n      <th>4</th>\n      <td>Algeria</td>\n      <td>2003</td>\n      <td>1.64054</td>\n      <td>1.91257</td>\n      <td>NaN</td>\n      <td>left_only</td>\n    </tr>\n    <tr>\n      <th>5</th>\n      <td>Andorra</td>\n      <td>2002</td>\n      <td>0.46050</td>\n      <td>0.27419</td>\n      <td>0.11678</td>\n      <td>both</td>\n    </tr>\n    <tr>\n      <th>6</th>\n      <td>Andorra</td>\n      <td>2004</td>\n      <td>0.44866</td>\n      <td>0.28753</td>\n      <td>0.07608</td>\n      <td>both</td>\n    </tr>\n    <tr>\n      <th>7</th>\n      <td>Andorra</td>\n      <td>2005</td>\n      <td>0.38623</td>\n      <td>0.32995</td>\n      <td>0.06213</td>\n      <td>both</td>\n    </tr>\n    <tr>\n      <th>8</th>\n      <td>Andorra</td>\n      <td>2006</td>\n      <td>0.52133</td>\n      <td>0.47156</td>\n      <td>0.14541</td>\n      <td>both</td>\n    </tr>\n    <tr>\n      <th>9</th>\n      <td>Andorra</td>\n      <td>2007</td>\n      <td>0.53180</td>\n      <td>0.51119</td>\n      <td>0.09400</td>\n      <td>both</td>\n    </tr>\n  </tbody>\n</table>\n</div>"
     },
     "metadata": {},
     "execution_count": 47
    }
   ],
   "source": [
    "merge1.drop(columns=['_merge'],inplace=True)\n",
    "merge2 = pd.merge(merge1,\n",
    "                  sharegdp_tertiary,\n",
    "                  how='left',\n",
    "                  left_on=['Entity','Year'],\n",
    "                  right_on=['Entity','Year'],\n",
    "                  suffixes=('', '_y'),\n",
    "                  indicator=True).fillna(np.nan)\n",
    "\n",
    "merge2.head(10)"
   ]
  },
  {
   "cell_type": "code",
   "execution_count": 48,
   "metadata": {},
   "outputs": [
    {
     "output_type": "execute_result",
     "data": {
      "text/plain": [
       "    Entity  Year  share_gdp_primary  share_gdp_secondary  share_gdp_tertiary  \\\n",
       "0  Albania  2013            2.01439              0.70164             0.77585   \n",
       "1  Algeria  1999            1.90130              2.05297                 NaN   \n",
       "2  Algeria  2000            1.54447              1.67496                 NaN   \n",
       "3  Algeria  2002            1.61838              1.87599                 NaN   \n",
       "4  Algeria  2003            1.64054              1.91257                 NaN   \n",
       "5  Andorra  2002            0.46050              0.27419             0.11678   \n",
       "6  Andorra  2004            0.44866              0.28753             0.07608   \n",
       "7  Andorra  2005            0.38623              0.32995             0.06213   \n",
       "8  Andorra  2006            0.52133              0.47156             0.14541   \n",
       "9  Andorra  2007            0.53180              0.51119             0.09400   \n",
       "\n",
       "   share_pop_tertiary     _merge  \n",
       "0                 NaN  left_only  \n",
       "1                 NaN  left_only  \n",
       "2                 3.4       both  \n",
       "3                 NaN  left_only  \n",
       "4                 NaN  left_only  \n",
       "5                 NaN  left_only  \n",
       "6                 NaN  left_only  \n",
       "7                 NaN  left_only  \n",
       "8                 NaN  left_only  \n",
       "9                 NaN  left_only  "
      ],
      "text/html": "<div>\n<style scoped>\n    .dataframe tbody tr th:only-of-type {\n        vertical-align: middle;\n    }\n\n    .dataframe tbody tr th {\n        vertical-align: top;\n    }\n\n    .dataframe thead th {\n        text-align: right;\n    }\n</style>\n<table border=\"1\" class=\"dataframe\">\n  <thead>\n    <tr style=\"text-align: right;\">\n      <th></th>\n      <th>Entity</th>\n      <th>Year</th>\n      <th>share_gdp_primary</th>\n      <th>share_gdp_secondary</th>\n      <th>share_gdp_tertiary</th>\n      <th>share_pop_tertiary</th>\n      <th>_merge</th>\n    </tr>\n  </thead>\n  <tbody>\n    <tr>\n      <th>0</th>\n      <td>Albania</td>\n      <td>2013</td>\n      <td>2.01439</td>\n      <td>0.70164</td>\n      <td>0.77585</td>\n      <td>NaN</td>\n      <td>left_only</td>\n    </tr>\n    <tr>\n      <th>1</th>\n      <td>Algeria</td>\n      <td>1999</td>\n      <td>1.90130</td>\n      <td>2.05297</td>\n      <td>NaN</td>\n      <td>NaN</td>\n      <td>left_only</td>\n    </tr>\n    <tr>\n      <th>2</th>\n      <td>Algeria</td>\n      <td>2000</td>\n      <td>1.54447</td>\n      <td>1.67496</td>\n      <td>NaN</td>\n      <td>3.4</td>\n      <td>both</td>\n    </tr>\n    <tr>\n      <th>3</th>\n      <td>Algeria</td>\n      <td>2002</td>\n      <td>1.61838</td>\n      <td>1.87599</td>\n      <td>NaN</td>\n      <td>NaN</td>\n      <td>left_only</td>\n    </tr>\n    <tr>\n      <th>4</th>\n      <td>Algeria</td>\n      <td>2003</td>\n      <td>1.64054</td>\n      <td>1.91257</td>\n      <td>NaN</td>\n      <td>NaN</td>\n      <td>left_only</td>\n    </tr>\n    <tr>\n      <th>5</th>\n      <td>Andorra</td>\n      <td>2002</td>\n      <td>0.46050</td>\n      <td>0.27419</td>\n      <td>0.11678</td>\n      <td>NaN</td>\n      <td>left_only</td>\n    </tr>\n    <tr>\n      <th>6</th>\n      <td>Andorra</td>\n      <td>2004</td>\n      <td>0.44866</td>\n      <td>0.28753</td>\n      <td>0.07608</td>\n      <td>NaN</td>\n      <td>left_only</td>\n    </tr>\n    <tr>\n      <th>7</th>\n      <td>Andorra</td>\n      <td>2005</td>\n      <td>0.38623</td>\n      <td>0.32995</td>\n      <td>0.06213</td>\n      <td>NaN</td>\n      <td>left_only</td>\n    </tr>\n    <tr>\n      <th>8</th>\n      <td>Andorra</td>\n      <td>2006</td>\n      <td>0.52133</td>\n      <td>0.47156</td>\n      <td>0.14541</td>\n      <td>NaN</td>\n      <td>left_only</td>\n    </tr>\n    <tr>\n      <th>9</th>\n      <td>Andorra</td>\n      <td>2007</td>\n      <td>0.53180</td>\n      <td>0.51119</td>\n      <td>0.09400</td>\n      <td>NaN</td>\n      <td>left_only</td>\n    </tr>\n  </tbody>\n</table>\n</div>"
     },
     "metadata": {},
     "execution_count": 48
    }
   ],
   "source": [
    "merge2.drop(columns=['_merge'],inplace=True)\n",
    "merge3 = pd.merge(merge2,\n",
    "                  sharepop_tertiary,\n",
    "                  how='left',\n",
    "                  left_on=['Entity','Year'],\n",
    "                  right_on=['Entity','Year'],\n",
    "                  suffixes=('', '_y'),\n",
    "                  indicator=True).fillna(np.nan)\n",
    "\n",
    "merge3.head(10)"
   ]
  },
  {
   "cell_type": "code",
   "execution_count": 49,
   "metadata": {},
   "outputs": [
    {
     "output_type": "execute_result",
     "data": {
      "text/plain": [
       "    Entity  Year  share_gdp_primary  share_gdp_secondary  share_gdp_tertiary  \\\n",
       "0  Albania  2013            2.01439              0.70164             0.77585   \n",
       "1  Algeria  1999            1.90130              2.05297                 NaN   \n",
       "2  Algeria  2000            1.54447              1.67496                 NaN   \n",
       "3  Algeria  2002            1.61838              1.87599                 NaN   \n",
       "4  Algeria  2003            1.64054              1.91257                 NaN   \n",
       "5  Andorra  2002            0.46050              0.27419             0.11678   \n",
       "6  Andorra  2004            0.44866              0.28753             0.07608   \n",
       "7  Andorra  2005            0.38623              0.32995             0.06213   \n",
       "8  Andorra  2006            0.52133              0.47156             0.14541   \n",
       "9  Andorra  2007            0.53180              0.51119             0.09400   \n",
       "\n",
       "   share_pop_tertiary  primary_rate     _merge  \n",
       "0                 NaN     94.522743       both  \n",
       "1                 NaN     82.347382       both  \n",
       "2                 3.4     79.735428       both  \n",
       "3                 NaN     87.855370       both  \n",
       "4                 NaN     89.627739       both  \n",
       "5                 NaN           NaN  left_only  \n",
       "6                 NaN           NaN  left_only  \n",
       "7                 NaN           NaN  left_only  \n",
       "8                 NaN           NaN  left_only  \n",
       "9                 NaN           NaN  left_only  "
      ],
      "text/html": "<div>\n<style scoped>\n    .dataframe tbody tr th:only-of-type {\n        vertical-align: middle;\n    }\n\n    .dataframe tbody tr th {\n        vertical-align: top;\n    }\n\n    .dataframe thead th {\n        text-align: right;\n    }\n</style>\n<table border=\"1\" class=\"dataframe\">\n  <thead>\n    <tr style=\"text-align: right;\">\n      <th></th>\n      <th>Entity</th>\n      <th>Year</th>\n      <th>share_gdp_primary</th>\n      <th>share_gdp_secondary</th>\n      <th>share_gdp_tertiary</th>\n      <th>share_pop_tertiary</th>\n      <th>primary_rate</th>\n      <th>_merge</th>\n    </tr>\n  </thead>\n  <tbody>\n    <tr>\n      <th>0</th>\n      <td>Albania</td>\n      <td>2013</td>\n      <td>2.01439</td>\n      <td>0.70164</td>\n      <td>0.77585</td>\n      <td>NaN</td>\n      <td>94.522743</td>\n      <td>both</td>\n    </tr>\n    <tr>\n      <th>1</th>\n      <td>Algeria</td>\n      <td>1999</td>\n      <td>1.90130</td>\n      <td>2.05297</td>\n      <td>NaN</td>\n      <td>NaN</td>\n      <td>82.347382</td>\n      <td>both</td>\n    </tr>\n    <tr>\n      <th>2</th>\n      <td>Algeria</td>\n      <td>2000</td>\n      <td>1.54447</td>\n      <td>1.67496</td>\n      <td>NaN</td>\n      <td>3.4</td>\n      <td>79.735428</td>\n      <td>both</td>\n    </tr>\n    <tr>\n      <th>3</th>\n      <td>Algeria</td>\n      <td>2002</td>\n      <td>1.61838</td>\n      <td>1.87599</td>\n      <td>NaN</td>\n      <td>NaN</td>\n      <td>87.855370</td>\n      <td>both</td>\n    </tr>\n    <tr>\n      <th>4</th>\n      <td>Algeria</td>\n      <td>2003</td>\n      <td>1.64054</td>\n      <td>1.91257</td>\n      <td>NaN</td>\n      <td>NaN</td>\n      <td>89.627739</td>\n      <td>both</td>\n    </tr>\n    <tr>\n      <th>5</th>\n      <td>Andorra</td>\n      <td>2002</td>\n      <td>0.46050</td>\n      <td>0.27419</td>\n      <td>0.11678</td>\n      <td>NaN</td>\n      <td>NaN</td>\n      <td>left_only</td>\n    </tr>\n    <tr>\n      <th>6</th>\n      <td>Andorra</td>\n      <td>2004</td>\n      <td>0.44866</td>\n      <td>0.28753</td>\n      <td>0.07608</td>\n      <td>NaN</td>\n      <td>NaN</td>\n      <td>left_only</td>\n    </tr>\n    <tr>\n      <th>7</th>\n      <td>Andorra</td>\n      <td>2005</td>\n      <td>0.38623</td>\n      <td>0.32995</td>\n      <td>0.06213</td>\n      <td>NaN</td>\n      <td>NaN</td>\n      <td>left_only</td>\n    </tr>\n    <tr>\n      <th>8</th>\n      <td>Andorra</td>\n      <td>2006</td>\n      <td>0.52133</td>\n      <td>0.47156</td>\n      <td>0.14541</td>\n      <td>NaN</td>\n      <td>NaN</td>\n      <td>left_only</td>\n    </tr>\n    <tr>\n      <th>9</th>\n      <td>Andorra</td>\n      <td>2007</td>\n      <td>0.53180</td>\n      <td>0.51119</td>\n      <td>0.09400</td>\n      <td>NaN</td>\n      <td>NaN</td>\n      <td>left_only</td>\n    </tr>\n  </tbody>\n</table>\n</div>"
     },
     "metadata": {},
     "execution_count": 49
    }
   ],
   "source": [
    "merge3.drop(columns=['_merge'],inplace=True)\n",
    "merge4 = pd.merge(merge3,\n",
    "                  primary_rate,\n",
    "                  how='left',\n",
    "                  left_on=['Entity','Year'],\n",
    "                  right_on=['Entity','Year'],\n",
    "                  suffixes=('', '_y'),\n",
    "                  indicator=True).fillna(np.nan)\n",
    "\n",
    "merge4.head(10)"
   ]
  },
  {
   "cell_type": "code",
   "execution_count": 50,
   "metadata": {},
   "outputs": [
    {
     "output_type": "execute_result",
     "data": {
      "text/plain": [
       "    Entity  Year  share_gdp_primary  share_gdp_secondary  share_gdp_tertiary  \\\n",
       "0  Albania  2013            2.01439              0.70164             0.77585   \n",
       "1  Algeria  1999            1.90130              2.05297                 NaN   \n",
       "2  Algeria  2000            1.54447              1.67496                 NaN   \n",
       "3  Algeria  2002            1.61838              1.87599                 NaN   \n",
       "4  Algeria  2003            1.64054              1.91257                 NaN   \n",
       "5  Andorra  2002            0.46050              0.27419             0.11678   \n",
       "6  Andorra  2004            0.44866              0.28753             0.07608   \n",
       "7  Andorra  2005            0.38623              0.32995             0.06213   \n",
       "8  Andorra  2006            0.52133              0.47156             0.14541   \n",
       "9  Andorra  2007            0.53180              0.51119             0.09400   \n",
       "\n",
       "   share_pop_tertiary  primary_rate  secondary_rate     _merge  \n",
       "0                 NaN     94.522743       93.156128       both  \n",
       "1                 NaN     82.347382       54.926979       both  \n",
       "2                 3.4     79.735428       51.519070       both  \n",
       "3                 NaN     87.855370       60.337181       both  \n",
       "4                 NaN     89.627739       61.132599       both  \n",
       "5                 NaN           NaN             NaN  left_only  \n",
       "6                 NaN           NaN             NaN  left_only  \n",
       "7                 NaN           NaN             NaN  left_only  \n",
       "8                 NaN           NaN             NaN  left_only  \n",
       "9                 NaN           NaN             NaN  left_only  "
      ],
      "text/html": "<div>\n<style scoped>\n    .dataframe tbody tr th:only-of-type {\n        vertical-align: middle;\n    }\n\n    .dataframe tbody tr th {\n        vertical-align: top;\n    }\n\n    .dataframe thead th {\n        text-align: right;\n    }\n</style>\n<table border=\"1\" class=\"dataframe\">\n  <thead>\n    <tr style=\"text-align: right;\">\n      <th></th>\n      <th>Entity</th>\n      <th>Year</th>\n      <th>share_gdp_primary</th>\n      <th>share_gdp_secondary</th>\n      <th>share_gdp_tertiary</th>\n      <th>share_pop_tertiary</th>\n      <th>primary_rate</th>\n      <th>secondary_rate</th>\n      <th>_merge</th>\n    </tr>\n  </thead>\n  <tbody>\n    <tr>\n      <th>0</th>\n      <td>Albania</td>\n      <td>2013</td>\n      <td>2.01439</td>\n      <td>0.70164</td>\n      <td>0.77585</td>\n      <td>NaN</td>\n      <td>94.522743</td>\n      <td>93.156128</td>\n      <td>both</td>\n    </tr>\n    <tr>\n      <th>1</th>\n      <td>Algeria</td>\n      <td>1999</td>\n      <td>1.90130</td>\n      <td>2.05297</td>\n      <td>NaN</td>\n      <td>NaN</td>\n      <td>82.347382</td>\n      <td>54.926979</td>\n      <td>both</td>\n    </tr>\n    <tr>\n      <th>2</th>\n      <td>Algeria</td>\n      <td>2000</td>\n      <td>1.54447</td>\n      <td>1.67496</td>\n      <td>NaN</td>\n      <td>3.4</td>\n      <td>79.735428</td>\n      <td>51.519070</td>\n      <td>both</td>\n    </tr>\n    <tr>\n      <th>3</th>\n      <td>Algeria</td>\n      <td>2002</td>\n      <td>1.61838</td>\n      <td>1.87599</td>\n      <td>NaN</td>\n      <td>NaN</td>\n      <td>87.855370</td>\n      <td>60.337181</td>\n      <td>both</td>\n    </tr>\n    <tr>\n      <th>4</th>\n      <td>Algeria</td>\n      <td>2003</td>\n      <td>1.64054</td>\n      <td>1.91257</td>\n      <td>NaN</td>\n      <td>NaN</td>\n      <td>89.627739</td>\n      <td>61.132599</td>\n      <td>both</td>\n    </tr>\n    <tr>\n      <th>5</th>\n      <td>Andorra</td>\n      <td>2002</td>\n      <td>0.46050</td>\n      <td>0.27419</td>\n      <td>0.11678</td>\n      <td>NaN</td>\n      <td>NaN</td>\n      <td>NaN</td>\n      <td>left_only</td>\n    </tr>\n    <tr>\n      <th>6</th>\n      <td>Andorra</td>\n      <td>2004</td>\n      <td>0.44866</td>\n      <td>0.28753</td>\n      <td>0.07608</td>\n      <td>NaN</td>\n      <td>NaN</td>\n      <td>NaN</td>\n      <td>left_only</td>\n    </tr>\n    <tr>\n      <th>7</th>\n      <td>Andorra</td>\n      <td>2005</td>\n      <td>0.38623</td>\n      <td>0.32995</td>\n      <td>0.06213</td>\n      <td>NaN</td>\n      <td>NaN</td>\n      <td>NaN</td>\n      <td>left_only</td>\n    </tr>\n    <tr>\n      <th>8</th>\n      <td>Andorra</td>\n      <td>2006</td>\n      <td>0.52133</td>\n      <td>0.47156</td>\n      <td>0.14541</td>\n      <td>NaN</td>\n      <td>NaN</td>\n      <td>NaN</td>\n      <td>left_only</td>\n    </tr>\n    <tr>\n      <th>9</th>\n      <td>Andorra</td>\n      <td>2007</td>\n      <td>0.53180</td>\n      <td>0.51119</td>\n      <td>0.09400</td>\n      <td>NaN</td>\n      <td>NaN</td>\n      <td>NaN</td>\n      <td>left_only</td>\n    </tr>\n  </tbody>\n</table>\n</div>"
     },
     "metadata": {},
     "execution_count": 50
    }
   ],
   "source": [
    "merge4.drop(columns=['_merge'],inplace=True)\n",
    "merge5 = pd.merge(merge4,\n",
    "                  secondary_rate,\n",
    "                  how='left',\n",
    "                  left_on=['Entity','Year'],\n",
    "                  right_on=['Entity','Year'],\n",
    "                  suffixes=('', '_y'),\n",
    "                  indicator=True).fillna(np.nan)\n",
    "\n",
    "merge5.head(10)"
   ]
  },
  {
   "cell_type": "code",
   "execution_count": 51,
   "metadata": {},
   "outputs": [],
   "source": [
    "merge5.drop(columns=['_merge'],inplace=True)\n",
    "# save final csv file\n",
    "merge5.to_csv(os.path.join(final_data_dir,'EDUCATION.csv'),index=False)"
   ]
  },
  {
   "source": [
    "## HEALTH TABLE"
   ],
   "cell_type": "markdown",
   "metadata": {}
  },
  {
   "cell_type": "code",
   "execution_count": 53,
   "metadata": {},
   "outputs": [],
   "source": [
    "#import life expectancy\n",
    "life_exp = pd.read_csv(os.path.join(raw_data_dir,'life-expectancy.csv'),header=0) \n",
    "#import mental health as a share of disease burden\n",
    "mental_share = pd.read_csv(os.path.join(raw_data_dir,'mental-and-substance-use-as-share-of-disease.csv'),header=0) \n",
    "#import share of pop with mental health problems\n",
    "mental_pop = pd.read_csv(os.path.join(raw_data_dir,'share-with-mental-and-substance-disorders.csv'),header=0) \n",
    "#import share gdp spent on health\n",
    "gdp_health = pd.read_csv(os.path.join(raw_data_dir,'total-healthcare-expenditure-as-share-of-national-gdp-by-country.csv'),header=0) "
   ]
  },
  {
   "cell_type": "code",
   "execution_count": 54,
   "metadata": {},
   "outputs": [
    {
     "output_type": "execute_result",
     "data": {
      "text/plain": [
       "         Entity  Year  Life expectancy  share_gdp_health     _merge\n",
       "0   Afghanistan  1960           32.446               NaN  left_only\n",
       "1   Afghanistan  1961           32.962               NaN  left_only\n",
       "2   Afghanistan  1962           33.471               NaN  left_only\n",
       "3   Afghanistan  1963           33.971               NaN  left_only\n",
       "4   Afghanistan  1964           34.463               NaN  left_only\n",
       "5   Afghanistan  1965           34.948               NaN  left_only\n",
       "6   Afghanistan  1966           35.430               NaN  left_only\n",
       "7   Afghanistan  1967           35.914               NaN  left_only\n",
       "8   Afghanistan  1968           36.403               NaN  left_only\n",
       "9   Afghanistan  1969           36.900               NaN  left_only\n",
       "10  Afghanistan  1970           37.409               NaN  left_only\n",
       "11  Afghanistan  1971           37.930               NaN  left_only\n",
       "12  Afghanistan  1972           38.461               NaN  left_only\n",
       "13  Afghanistan  1973           39.003               NaN  left_only\n",
       "14  Afghanistan  1974           39.558               NaN  left_only\n",
       "15  Afghanistan  1975           40.128               NaN  left_only\n",
       "16  Afghanistan  1976           40.715               NaN  left_only\n",
       "17  Afghanistan  1977           41.320               NaN  left_only\n",
       "18  Afghanistan  1978           41.944               NaN  left_only\n",
       "19  Afghanistan  1979           42.585               NaN  left_only"
      ],
      "text/html": "<div>\n<style scoped>\n    .dataframe tbody tr th:only-of-type {\n        vertical-align: middle;\n    }\n\n    .dataframe tbody tr th {\n        vertical-align: top;\n    }\n\n    .dataframe thead th {\n        text-align: right;\n    }\n</style>\n<table border=\"1\" class=\"dataframe\">\n  <thead>\n    <tr style=\"text-align: right;\">\n      <th></th>\n      <th>Entity</th>\n      <th>Year</th>\n      <th>Life expectancy</th>\n      <th>share_gdp_health</th>\n      <th>_merge</th>\n    </tr>\n  </thead>\n  <tbody>\n    <tr>\n      <th>0</th>\n      <td>Afghanistan</td>\n      <td>1960</td>\n      <td>32.446</td>\n      <td>NaN</td>\n      <td>left_only</td>\n    </tr>\n    <tr>\n      <th>1</th>\n      <td>Afghanistan</td>\n      <td>1961</td>\n      <td>32.962</td>\n      <td>NaN</td>\n      <td>left_only</td>\n    </tr>\n    <tr>\n      <th>2</th>\n      <td>Afghanistan</td>\n      <td>1962</td>\n      <td>33.471</td>\n      <td>NaN</td>\n      <td>left_only</td>\n    </tr>\n    <tr>\n      <th>3</th>\n      <td>Afghanistan</td>\n      <td>1963</td>\n      <td>33.971</td>\n      <td>NaN</td>\n      <td>left_only</td>\n    </tr>\n    <tr>\n      <th>4</th>\n      <td>Afghanistan</td>\n      <td>1964</td>\n      <td>34.463</td>\n      <td>NaN</td>\n      <td>left_only</td>\n    </tr>\n    <tr>\n      <th>5</th>\n      <td>Afghanistan</td>\n      <td>1965</td>\n      <td>34.948</td>\n      <td>NaN</td>\n      <td>left_only</td>\n    </tr>\n    <tr>\n      <th>6</th>\n      <td>Afghanistan</td>\n      <td>1966</td>\n      <td>35.430</td>\n      <td>NaN</td>\n      <td>left_only</td>\n    </tr>\n    <tr>\n      <th>7</th>\n      <td>Afghanistan</td>\n      <td>1967</td>\n      <td>35.914</td>\n      <td>NaN</td>\n      <td>left_only</td>\n    </tr>\n    <tr>\n      <th>8</th>\n      <td>Afghanistan</td>\n      <td>1968</td>\n      <td>36.403</td>\n      <td>NaN</td>\n      <td>left_only</td>\n    </tr>\n    <tr>\n      <th>9</th>\n      <td>Afghanistan</td>\n      <td>1969</td>\n      <td>36.900</td>\n      <td>NaN</td>\n      <td>left_only</td>\n    </tr>\n    <tr>\n      <th>10</th>\n      <td>Afghanistan</td>\n      <td>1970</td>\n      <td>37.409</td>\n      <td>NaN</td>\n      <td>left_only</td>\n    </tr>\n    <tr>\n      <th>11</th>\n      <td>Afghanistan</td>\n      <td>1971</td>\n      <td>37.930</td>\n      <td>NaN</td>\n      <td>left_only</td>\n    </tr>\n    <tr>\n      <th>12</th>\n      <td>Afghanistan</td>\n      <td>1972</td>\n      <td>38.461</td>\n      <td>NaN</td>\n      <td>left_only</td>\n    </tr>\n    <tr>\n      <th>13</th>\n      <td>Afghanistan</td>\n      <td>1973</td>\n      <td>39.003</td>\n      <td>NaN</td>\n      <td>left_only</td>\n    </tr>\n    <tr>\n      <th>14</th>\n      <td>Afghanistan</td>\n      <td>1974</td>\n      <td>39.558</td>\n      <td>NaN</td>\n      <td>left_only</td>\n    </tr>\n    <tr>\n      <th>15</th>\n      <td>Afghanistan</td>\n      <td>1975</td>\n      <td>40.128</td>\n      <td>NaN</td>\n      <td>left_only</td>\n    </tr>\n    <tr>\n      <th>16</th>\n      <td>Afghanistan</td>\n      <td>1976</td>\n      <td>40.715</td>\n      <td>NaN</td>\n      <td>left_only</td>\n    </tr>\n    <tr>\n      <th>17</th>\n      <td>Afghanistan</td>\n      <td>1977</td>\n      <td>41.320</td>\n      <td>NaN</td>\n      <td>left_only</td>\n    </tr>\n    <tr>\n      <th>18</th>\n      <td>Afghanistan</td>\n      <td>1978</td>\n      <td>41.944</td>\n      <td>NaN</td>\n      <td>left_only</td>\n    </tr>\n    <tr>\n      <th>19</th>\n      <td>Afghanistan</td>\n      <td>1979</td>\n      <td>42.585</td>\n      <td>NaN</td>\n      <td>left_only</td>\n    </tr>\n  </tbody>\n</table>\n</div>"
     },
     "metadata": {},
     "execution_count": 54
    }
   ],
   "source": [
    "life_exp = life_exp[life_exp['Year']>=1960]\n",
    "life_exp =life_exp[life_exp['Entity'].isin(country['Country Name'].unique().tolist())]\n",
    "life_exp.drop(columns=['Code'],inplace=True)\n",
    "life_exp.rename(columns={\"Life Expectancy\": \"life_expectancy\"},inplace=True)\n",
    "\n",
    "gdp_health.drop(columns=['Code'],inplace=True)\n",
    "gdp_health.rename(columns={\"Health expenditure, total (% of GDP)\": \"share_gdp_health\"},inplace=True)\n",
    "\n",
    "mental_share.drop(columns=['Code'],inplace=True)\n",
    "mental_share.rename(columns={\"DALYs (Disability-Adjusted Life Years) - Mental and substance use disorders - Sex: Both - Age: All Ages (Percent)\": \"mental_health_daly\"},inplace=True)\n",
    "\n",
    "mental_pop.drop(columns=['Code'],inplace=True)\n",
    "mental_pop.rename(columns={\"Prevalence - Mental and substance use disorders - Sex: Both - Age: Age-standardized (Percent)\": \"mental_health_share\"},inplace=True)\n",
    "\n",
    "merge1 = pd.merge(life_exp,\n",
    "                  gdp_health,\n",
    "                  how='left',\n",
    "                  left_on=['Entity','Year'],\n",
    "                  right_on=['Entity','Year'],\n",
    "                  suffixes=('', '_y'),\n",
    "                  indicator=True).fillna(np.nan)\n",
    "\n",
    "merge1.head(20)"
   ]
  },
  {
   "cell_type": "code",
   "execution_count": 55,
   "metadata": {},
   "outputs": [
    {
     "output_type": "execute_result",
     "data": {
      "text/plain": [
       "        Entity  Year  Life expectancy  share_gdp_health  mental_health_daly  \\\n",
       "0  Afghanistan  1960           32.446               NaN                 NaN   \n",
       "1  Afghanistan  1961           32.962               NaN                 NaN   \n",
       "2  Afghanistan  1962           33.471               NaN                 NaN   \n",
       "3  Afghanistan  1963           33.971               NaN                 NaN   \n",
       "4  Afghanistan  1964           34.463               NaN                 NaN   \n",
       "5  Afghanistan  1965           34.948               NaN                 NaN   \n",
       "6  Afghanistan  1966           35.430               NaN                 NaN   \n",
       "7  Afghanistan  1967           35.914               NaN                 NaN   \n",
       "8  Afghanistan  1968           36.403               NaN                 NaN   \n",
       "9  Afghanistan  1969           36.900               NaN                 NaN   \n",
       "\n",
       "      _merge  \n",
       "0  left_only  \n",
       "1  left_only  \n",
       "2  left_only  \n",
       "3  left_only  \n",
       "4  left_only  \n",
       "5  left_only  \n",
       "6  left_only  \n",
       "7  left_only  \n",
       "8  left_only  \n",
       "9  left_only  "
      ],
      "text/html": "<div>\n<style scoped>\n    .dataframe tbody tr th:only-of-type {\n        vertical-align: middle;\n    }\n\n    .dataframe tbody tr th {\n        vertical-align: top;\n    }\n\n    .dataframe thead th {\n        text-align: right;\n    }\n</style>\n<table border=\"1\" class=\"dataframe\">\n  <thead>\n    <tr style=\"text-align: right;\">\n      <th></th>\n      <th>Entity</th>\n      <th>Year</th>\n      <th>Life expectancy</th>\n      <th>share_gdp_health</th>\n      <th>mental_health_daly</th>\n      <th>_merge</th>\n    </tr>\n  </thead>\n  <tbody>\n    <tr>\n      <th>0</th>\n      <td>Afghanistan</td>\n      <td>1960</td>\n      <td>32.446</td>\n      <td>NaN</td>\n      <td>NaN</td>\n      <td>left_only</td>\n    </tr>\n    <tr>\n      <th>1</th>\n      <td>Afghanistan</td>\n      <td>1961</td>\n      <td>32.962</td>\n      <td>NaN</td>\n      <td>NaN</td>\n      <td>left_only</td>\n    </tr>\n    <tr>\n      <th>2</th>\n      <td>Afghanistan</td>\n      <td>1962</td>\n      <td>33.471</td>\n      <td>NaN</td>\n      <td>NaN</td>\n      <td>left_only</td>\n    </tr>\n    <tr>\n      <th>3</th>\n      <td>Afghanistan</td>\n      <td>1963</td>\n      <td>33.971</td>\n      <td>NaN</td>\n      <td>NaN</td>\n      <td>left_only</td>\n    </tr>\n    <tr>\n      <th>4</th>\n      <td>Afghanistan</td>\n      <td>1964</td>\n      <td>34.463</td>\n      <td>NaN</td>\n      <td>NaN</td>\n      <td>left_only</td>\n    </tr>\n    <tr>\n      <th>5</th>\n      <td>Afghanistan</td>\n      <td>1965</td>\n      <td>34.948</td>\n      <td>NaN</td>\n      <td>NaN</td>\n      <td>left_only</td>\n    </tr>\n    <tr>\n      <th>6</th>\n      <td>Afghanistan</td>\n      <td>1966</td>\n      <td>35.430</td>\n      <td>NaN</td>\n      <td>NaN</td>\n      <td>left_only</td>\n    </tr>\n    <tr>\n      <th>7</th>\n      <td>Afghanistan</td>\n      <td>1967</td>\n      <td>35.914</td>\n      <td>NaN</td>\n      <td>NaN</td>\n      <td>left_only</td>\n    </tr>\n    <tr>\n      <th>8</th>\n      <td>Afghanistan</td>\n      <td>1968</td>\n      <td>36.403</td>\n      <td>NaN</td>\n      <td>NaN</td>\n      <td>left_only</td>\n    </tr>\n    <tr>\n      <th>9</th>\n      <td>Afghanistan</td>\n      <td>1969</td>\n      <td>36.900</td>\n      <td>NaN</td>\n      <td>NaN</td>\n      <td>left_only</td>\n    </tr>\n  </tbody>\n</table>\n</div>"
     },
     "metadata": {},
     "execution_count": 55
    }
   ],
   "source": [
    "merge1.drop(columns=['_merge'],inplace=True)\n",
    "merge2 = pd.merge(merge1,\n",
    "                  mental_share,\n",
    "                  how='left',\n",
    "                  left_on=['Entity','Year'],\n",
    "                  right_on=['Entity','Year'],\n",
    "                  suffixes=('', '_y'),\n",
    "                  indicator=True).fillna(np.nan)\n",
    "\n",
    "merge2.head(10)"
   ]
  },
  {
   "cell_type": "code",
   "execution_count": 56,
   "metadata": {},
   "outputs": [
    {
     "output_type": "execute_result",
     "data": {
      "text/plain": [
       "         Entity  Year  Life expectancy  share_gdp_health  mental_health_daly  \\\n",
       "0   Afghanistan  1960           32.446               NaN                 NaN   \n",
       "1   Afghanistan  1961           32.962               NaN                 NaN   \n",
       "2   Afghanistan  1962           33.471               NaN                 NaN   \n",
       "3   Afghanistan  1963           33.971               NaN                 NaN   \n",
       "4   Afghanistan  1964           34.463               NaN                 NaN   \n",
       "5   Afghanistan  1965           34.948               NaN                 NaN   \n",
       "6   Afghanistan  1966           35.430               NaN                 NaN   \n",
       "7   Afghanistan  1967           35.914               NaN                 NaN   \n",
       "8   Afghanistan  1968           36.403               NaN                 NaN   \n",
       "9   Afghanistan  1969           36.900               NaN                 NaN   \n",
       "10  Afghanistan  1970           37.409               NaN                 NaN   \n",
       "11  Afghanistan  1971           37.930               NaN                 NaN   \n",
       "12  Afghanistan  1972           38.461               NaN                 NaN   \n",
       "13  Afghanistan  1973           39.003               NaN                 NaN   \n",
       "14  Afghanistan  1974           39.558               NaN                 NaN   \n",
       "15  Afghanistan  1975           40.128               NaN                 NaN   \n",
       "16  Afghanistan  1976           40.715               NaN                 NaN   \n",
       "17  Afghanistan  1977           41.320               NaN                 NaN   \n",
       "18  Afghanistan  1978           41.944               NaN                 NaN   \n",
       "19  Afghanistan  1979           42.585               NaN                 NaN   \n",
       "20  Afghanistan  1980           43.244               NaN                 NaN   \n",
       "21  Afghanistan  1981           43.923               NaN                 NaN   \n",
       "22  Afghanistan  1982           44.617               NaN                 NaN   \n",
       "23  Afghanistan  1983           45.324               NaN                 NaN   \n",
       "24  Afghanistan  1984           46.040               NaN                 NaN   \n",
       "25  Afghanistan  1985           46.761               NaN                 NaN   \n",
       "26  Afghanistan  1986           47.486               NaN                 NaN   \n",
       "27  Afghanistan  1987           48.211               NaN                 NaN   \n",
       "28  Afghanistan  1988           48.930               NaN                 NaN   \n",
       "29  Afghanistan  1989           49.640               NaN                 NaN   \n",
       "30  Afghanistan  1990           50.331               NaN            1.320975   \n",
       "31  Afghanistan  1991           50.999               NaN            1.354445   \n",
       "32  Afghanistan  1992           51.641               NaN            1.506504   \n",
       "33  Afghanistan  1993           52.256               NaN            1.487670   \n",
       "34  Afghanistan  1994           52.842               NaN            1.389687   \n",
       "35  Afghanistan  1995           53.398               NaN            1.397126   \n",
       "36  Afghanistan  1996           53.924               NaN            1.420524   \n",
       "37  Afghanistan  1997           54.424               NaN            1.419136   \n",
       "38  Afghanistan  1998           54.906               NaN            1.386989   \n",
       "39  Afghanistan  1999           55.376               NaN            1.453668   \n",
       "40  Afghanistan  2000           55.841               NaN            1.508461   \n",
       "41  Afghanistan  2001           56.308               NaN            1.551658   \n",
       "42  Afghanistan  2002           56.784          7.763073            1.721417   \n",
       "43  Afghanistan  2003           57.271          8.816053            1.800411   \n",
       "44  Afghanistan  2004           57.772          8.786707            1.881324   \n",
       "45  Afghanistan  2005           58.290          8.068104            1.989248   \n",
       "46  Afghanistan  2006           58.826          7.433972            2.035171   \n",
       "47  Afghanistan  2007           59.375          6.728316            2.146550   \n",
       "48  Afghanistan  2008           59.930          8.328093            2.298615   \n",
       "49  Afghanistan  2009           60.484          9.418971            2.406117   \n",
       "50  Afghanistan  2010           61.028          9.197723            2.539439   \n",
       "51  Afghanistan  2011           61.553          7.871992            2.656310   \n",
       "52  Afghanistan  2012           62.054          8.518913            2.745618   \n",
       "53  Afghanistan  2013           62.525          8.134866            2.852844   \n",
       "54  Afghanistan  2014           62.966          8.182274            2.846602   \n",
       "55  Afghanistan  2015           63.377               NaN            2.836450   \n",
       "56  Afghanistan  2016           63.763               NaN            2.858358   \n",
       "57  Afghanistan  2017           64.130               NaN            3.240075   \n",
       "58  Afghanistan  2018           64.486               NaN                 NaN   \n",
       "59  Afghanistan  2019           64.833               NaN                 NaN   \n",
       "\n",
       "    mental_health_share     _merge  \n",
       "0                   NaN  left_only  \n",
       "1                   NaN  left_only  \n",
       "2                   NaN  left_only  \n",
       "3                   NaN  left_only  \n",
       "4                   NaN  left_only  \n",
       "5                   NaN  left_only  \n",
       "6                   NaN  left_only  \n",
       "7                   NaN  left_only  \n",
       "8                   NaN  left_only  \n",
       "9                   NaN  left_only  \n",
       "10                  NaN  left_only  \n",
       "11                  NaN  left_only  \n",
       "12                  NaN  left_only  \n",
       "13                  NaN  left_only  \n",
       "14                  NaN  left_only  \n",
       "15                  NaN  left_only  \n",
       "16                  NaN  left_only  \n",
       "17                  NaN  left_only  \n",
       "18                  NaN  left_only  \n",
       "19                  NaN  left_only  \n",
       "20                  NaN  left_only  \n",
       "21                  NaN  left_only  \n",
       "22                  NaN  left_only  \n",
       "23                  NaN  left_only  \n",
       "24                  NaN  left_only  \n",
       "25                  NaN  left_only  \n",
       "26                  NaN  left_only  \n",
       "27                  NaN  left_only  \n",
       "28                  NaN  left_only  \n",
       "29                  NaN  left_only  \n",
       "30            17.553463       both  \n",
       "31            17.837032       both  \n",
       "32            18.092542       both  \n",
       "33            18.294931       both  \n",
       "34            18.428908       both  \n",
       "35            18.483440       both  \n",
       "36            18.481194       both  \n",
       "37            18.463648       both  \n",
       "38            18.439805       both  \n",
       "39            18.402616       both  \n",
       "40            18.361336       both  \n",
       "41            18.278065       both  \n",
       "42            18.137951       both  \n",
       "43            17.958849       both  \n",
       "44            17.788825       both  \n",
       "45            17.647911       both  \n",
       "46            17.539914       both  \n",
       "47            17.444318       both  \n",
       "48            17.357110       both  \n",
       "49            17.275369       both  \n",
       "50            17.203450       both  \n",
       "51            17.136300       both  \n",
       "52            17.073037       both  \n",
       "53            17.017708       both  \n",
       "54            16.955169       both  \n",
       "55            16.909515       both  \n",
       "56            16.868402       both  \n",
       "57            16.830857       both  \n",
       "58                  NaN  left_only  \n",
       "59                  NaN  left_only  "
      ],
      "text/html": "<div>\n<style scoped>\n    .dataframe tbody tr th:only-of-type {\n        vertical-align: middle;\n    }\n\n    .dataframe tbody tr th {\n        vertical-align: top;\n    }\n\n    .dataframe thead th {\n        text-align: right;\n    }\n</style>\n<table border=\"1\" class=\"dataframe\">\n  <thead>\n    <tr style=\"text-align: right;\">\n      <th></th>\n      <th>Entity</th>\n      <th>Year</th>\n      <th>Life expectancy</th>\n      <th>share_gdp_health</th>\n      <th>mental_health_daly</th>\n      <th>mental_health_share</th>\n      <th>_merge</th>\n    </tr>\n  </thead>\n  <tbody>\n    <tr>\n      <th>0</th>\n      <td>Afghanistan</td>\n      <td>1960</td>\n      <td>32.446</td>\n      <td>NaN</td>\n      <td>NaN</td>\n      <td>NaN</td>\n      <td>left_only</td>\n    </tr>\n    <tr>\n      <th>1</th>\n      <td>Afghanistan</td>\n      <td>1961</td>\n      <td>32.962</td>\n      <td>NaN</td>\n      <td>NaN</td>\n      <td>NaN</td>\n      <td>left_only</td>\n    </tr>\n    <tr>\n      <th>2</th>\n      <td>Afghanistan</td>\n      <td>1962</td>\n      <td>33.471</td>\n      <td>NaN</td>\n      <td>NaN</td>\n      <td>NaN</td>\n      <td>left_only</td>\n    </tr>\n    <tr>\n      <th>3</th>\n      <td>Afghanistan</td>\n      <td>1963</td>\n      <td>33.971</td>\n      <td>NaN</td>\n      <td>NaN</td>\n      <td>NaN</td>\n      <td>left_only</td>\n    </tr>\n    <tr>\n      <th>4</th>\n      <td>Afghanistan</td>\n      <td>1964</td>\n      <td>34.463</td>\n      <td>NaN</td>\n      <td>NaN</td>\n      <td>NaN</td>\n      <td>left_only</td>\n    </tr>\n    <tr>\n      <th>5</th>\n      <td>Afghanistan</td>\n      <td>1965</td>\n      <td>34.948</td>\n      <td>NaN</td>\n      <td>NaN</td>\n      <td>NaN</td>\n      <td>left_only</td>\n    </tr>\n    <tr>\n      <th>6</th>\n      <td>Afghanistan</td>\n      <td>1966</td>\n      <td>35.430</td>\n      <td>NaN</td>\n      <td>NaN</td>\n      <td>NaN</td>\n      <td>left_only</td>\n    </tr>\n    <tr>\n      <th>7</th>\n      <td>Afghanistan</td>\n      <td>1967</td>\n      <td>35.914</td>\n      <td>NaN</td>\n      <td>NaN</td>\n      <td>NaN</td>\n      <td>left_only</td>\n    </tr>\n    <tr>\n      <th>8</th>\n      <td>Afghanistan</td>\n      <td>1968</td>\n      <td>36.403</td>\n      <td>NaN</td>\n      <td>NaN</td>\n      <td>NaN</td>\n      <td>left_only</td>\n    </tr>\n    <tr>\n      <th>9</th>\n      <td>Afghanistan</td>\n      <td>1969</td>\n      <td>36.900</td>\n      <td>NaN</td>\n      <td>NaN</td>\n      <td>NaN</td>\n      <td>left_only</td>\n    </tr>\n    <tr>\n      <th>10</th>\n      <td>Afghanistan</td>\n      <td>1970</td>\n      <td>37.409</td>\n      <td>NaN</td>\n      <td>NaN</td>\n      <td>NaN</td>\n      <td>left_only</td>\n    </tr>\n    <tr>\n      <th>11</th>\n      <td>Afghanistan</td>\n      <td>1971</td>\n      <td>37.930</td>\n      <td>NaN</td>\n      <td>NaN</td>\n      <td>NaN</td>\n      <td>left_only</td>\n    </tr>\n    <tr>\n      <th>12</th>\n      <td>Afghanistan</td>\n      <td>1972</td>\n      <td>38.461</td>\n      <td>NaN</td>\n      <td>NaN</td>\n      <td>NaN</td>\n      <td>left_only</td>\n    </tr>\n    <tr>\n      <th>13</th>\n      <td>Afghanistan</td>\n      <td>1973</td>\n      <td>39.003</td>\n      <td>NaN</td>\n      <td>NaN</td>\n      <td>NaN</td>\n      <td>left_only</td>\n    </tr>\n    <tr>\n      <th>14</th>\n      <td>Afghanistan</td>\n      <td>1974</td>\n      <td>39.558</td>\n      <td>NaN</td>\n      <td>NaN</td>\n      <td>NaN</td>\n      <td>left_only</td>\n    </tr>\n    <tr>\n      <th>15</th>\n      <td>Afghanistan</td>\n      <td>1975</td>\n      <td>40.128</td>\n      <td>NaN</td>\n      <td>NaN</td>\n      <td>NaN</td>\n      <td>left_only</td>\n    </tr>\n    <tr>\n      <th>16</th>\n      <td>Afghanistan</td>\n      <td>1976</td>\n      <td>40.715</td>\n      <td>NaN</td>\n      <td>NaN</td>\n      <td>NaN</td>\n      <td>left_only</td>\n    </tr>\n    <tr>\n      <th>17</th>\n      <td>Afghanistan</td>\n      <td>1977</td>\n      <td>41.320</td>\n      <td>NaN</td>\n      <td>NaN</td>\n      <td>NaN</td>\n      <td>left_only</td>\n    </tr>\n    <tr>\n      <th>18</th>\n      <td>Afghanistan</td>\n      <td>1978</td>\n      <td>41.944</td>\n      <td>NaN</td>\n      <td>NaN</td>\n      <td>NaN</td>\n      <td>left_only</td>\n    </tr>\n    <tr>\n      <th>19</th>\n      <td>Afghanistan</td>\n      <td>1979</td>\n      <td>42.585</td>\n      <td>NaN</td>\n      <td>NaN</td>\n      <td>NaN</td>\n      <td>left_only</td>\n    </tr>\n    <tr>\n      <th>20</th>\n      <td>Afghanistan</td>\n      <td>1980</td>\n      <td>43.244</td>\n      <td>NaN</td>\n      <td>NaN</td>\n      <td>NaN</td>\n      <td>left_only</td>\n    </tr>\n    <tr>\n      <th>21</th>\n      <td>Afghanistan</td>\n      <td>1981</td>\n      <td>43.923</td>\n      <td>NaN</td>\n      <td>NaN</td>\n      <td>NaN</td>\n      <td>left_only</td>\n    </tr>\n    <tr>\n      <th>22</th>\n      <td>Afghanistan</td>\n      <td>1982</td>\n      <td>44.617</td>\n      <td>NaN</td>\n      <td>NaN</td>\n      <td>NaN</td>\n      <td>left_only</td>\n    </tr>\n    <tr>\n      <th>23</th>\n      <td>Afghanistan</td>\n      <td>1983</td>\n      <td>45.324</td>\n      <td>NaN</td>\n      <td>NaN</td>\n      <td>NaN</td>\n      <td>left_only</td>\n    </tr>\n    <tr>\n      <th>24</th>\n      <td>Afghanistan</td>\n      <td>1984</td>\n      <td>46.040</td>\n      <td>NaN</td>\n      <td>NaN</td>\n      <td>NaN</td>\n      <td>left_only</td>\n    </tr>\n    <tr>\n      <th>25</th>\n      <td>Afghanistan</td>\n      <td>1985</td>\n      <td>46.761</td>\n      <td>NaN</td>\n      <td>NaN</td>\n      <td>NaN</td>\n      <td>left_only</td>\n    </tr>\n    <tr>\n      <th>26</th>\n      <td>Afghanistan</td>\n      <td>1986</td>\n      <td>47.486</td>\n      <td>NaN</td>\n      <td>NaN</td>\n      <td>NaN</td>\n      <td>left_only</td>\n    </tr>\n    <tr>\n      <th>27</th>\n      <td>Afghanistan</td>\n      <td>1987</td>\n      <td>48.211</td>\n      <td>NaN</td>\n      <td>NaN</td>\n      <td>NaN</td>\n      <td>left_only</td>\n    </tr>\n    <tr>\n      <th>28</th>\n      <td>Afghanistan</td>\n      <td>1988</td>\n      <td>48.930</td>\n      <td>NaN</td>\n      <td>NaN</td>\n      <td>NaN</td>\n      <td>left_only</td>\n    </tr>\n    <tr>\n      <th>29</th>\n      <td>Afghanistan</td>\n      <td>1989</td>\n      <td>49.640</td>\n      <td>NaN</td>\n      <td>NaN</td>\n      <td>NaN</td>\n      <td>left_only</td>\n    </tr>\n    <tr>\n      <th>30</th>\n      <td>Afghanistan</td>\n      <td>1990</td>\n      <td>50.331</td>\n      <td>NaN</td>\n      <td>1.320975</td>\n      <td>17.553463</td>\n      <td>both</td>\n    </tr>\n    <tr>\n      <th>31</th>\n      <td>Afghanistan</td>\n      <td>1991</td>\n      <td>50.999</td>\n      <td>NaN</td>\n      <td>1.354445</td>\n      <td>17.837032</td>\n      <td>both</td>\n    </tr>\n    <tr>\n      <th>32</th>\n      <td>Afghanistan</td>\n      <td>1992</td>\n      <td>51.641</td>\n      <td>NaN</td>\n      <td>1.506504</td>\n      <td>18.092542</td>\n      <td>both</td>\n    </tr>\n    <tr>\n      <th>33</th>\n      <td>Afghanistan</td>\n      <td>1993</td>\n      <td>52.256</td>\n      <td>NaN</td>\n      <td>1.487670</td>\n      <td>18.294931</td>\n      <td>both</td>\n    </tr>\n    <tr>\n      <th>34</th>\n      <td>Afghanistan</td>\n      <td>1994</td>\n      <td>52.842</td>\n      <td>NaN</td>\n      <td>1.389687</td>\n      <td>18.428908</td>\n      <td>both</td>\n    </tr>\n    <tr>\n      <th>35</th>\n      <td>Afghanistan</td>\n      <td>1995</td>\n      <td>53.398</td>\n      <td>NaN</td>\n      <td>1.397126</td>\n      <td>18.483440</td>\n      <td>both</td>\n    </tr>\n    <tr>\n      <th>36</th>\n      <td>Afghanistan</td>\n      <td>1996</td>\n      <td>53.924</td>\n      <td>NaN</td>\n      <td>1.420524</td>\n      <td>18.481194</td>\n      <td>both</td>\n    </tr>\n    <tr>\n      <th>37</th>\n      <td>Afghanistan</td>\n      <td>1997</td>\n      <td>54.424</td>\n      <td>NaN</td>\n      <td>1.419136</td>\n      <td>18.463648</td>\n      <td>both</td>\n    </tr>\n    <tr>\n      <th>38</th>\n      <td>Afghanistan</td>\n      <td>1998</td>\n      <td>54.906</td>\n      <td>NaN</td>\n      <td>1.386989</td>\n      <td>18.439805</td>\n      <td>both</td>\n    </tr>\n    <tr>\n      <th>39</th>\n      <td>Afghanistan</td>\n      <td>1999</td>\n      <td>55.376</td>\n      <td>NaN</td>\n      <td>1.453668</td>\n      <td>18.402616</td>\n      <td>both</td>\n    </tr>\n    <tr>\n      <th>40</th>\n      <td>Afghanistan</td>\n      <td>2000</td>\n      <td>55.841</td>\n      <td>NaN</td>\n      <td>1.508461</td>\n      <td>18.361336</td>\n      <td>both</td>\n    </tr>\n    <tr>\n      <th>41</th>\n      <td>Afghanistan</td>\n      <td>2001</td>\n      <td>56.308</td>\n      <td>NaN</td>\n      <td>1.551658</td>\n      <td>18.278065</td>\n      <td>both</td>\n    </tr>\n    <tr>\n      <th>42</th>\n      <td>Afghanistan</td>\n      <td>2002</td>\n      <td>56.784</td>\n      <td>7.763073</td>\n      <td>1.721417</td>\n      <td>18.137951</td>\n      <td>both</td>\n    </tr>\n    <tr>\n      <th>43</th>\n      <td>Afghanistan</td>\n      <td>2003</td>\n      <td>57.271</td>\n      <td>8.816053</td>\n      <td>1.800411</td>\n      <td>17.958849</td>\n      <td>both</td>\n    </tr>\n    <tr>\n      <th>44</th>\n      <td>Afghanistan</td>\n      <td>2004</td>\n      <td>57.772</td>\n      <td>8.786707</td>\n      <td>1.881324</td>\n      <td>17.788825</td>\n      <td>both</td>\n    </tr>\n    <tr>\n      <th>45</th>\n      <td>Afghanistan</td>\n      <td>2005</td>\n      <td>58.290</td>\n      <td>8.068104</td>\n      <td>1.989248</td>\n      <td>17.647911</td>\n      <td>both</td>\n    </tr>\n    <tr>\n      <th>46</th>\n      <td>Afghanistan</td>\n      <td>2006</td>\n      <td>58.826</td>\n      <td>7.433972</td>\n      <td>2.035171</td>\n      <td>17.539914</td>\n      <td>both</td>\n    </tr>\n    <tr>\n      <th>47</th>\n      <td>Afghanistan</td>\n      <td>2007</td>\n      <td>59.375</td>\n      <td>6.728316</td>\n      <td>2.146550</td>\n      <td>17.444318</td>\n      <td>both</td>\n    </tr>\n    <tr>\n      <th>48</th>\n      <td>Afghanistan</td>\n      <td>2008</td>\n      <td>59.930</td>\n      <td>8.328093</td>\n      <td>2.298615</td>\n      <td>17.357110</td>\n      <td>both</td>\n    </tr>\n    <tr>\n      <th>49</th>\n      <td>Afghanistan</td>\n      <td>2009</td>\n      <td>60.484</td>\n      <td>9.418971</td>\n      <td>2.406117</td>\n      <td>17.275369</td>\n      <td>both</td>\n    </tr>\n    <tr>\n      <th>50</th>\n      <td>Afghanistan</td>\n      <td>2010</td>\n      <td>61.028</td>\n      <td>9.197723</td>\n      <td>2.539439</td>\n      <td>17.203450</td>\n      <td>both</td>\n    </tr>\n    <tr>\n      <th>51</th>\n      <td>Afghanistan</td>\n      <td>2011</td>\n      <td>61.553</td>\n      <td>7.871992</td>\n      <td>2.656310</td>\n      <td>17.136300</td>\n      <td>both</td>\n    </tr>\n    <tr>\n      <th>52</th>\n      <td>Afghanistan</td>\n      <td>2012</td>\n      <td>62.054</td>\n      <td>8.518913</td>\n      <td>2.745618</td>\n      <td>17.073037</td>\n      <td>both</td>\n    </tr>\n    <tr>\n      <th>53</th>\n      <td>Afghanistan</td>\n      <td>2013</td>\n      <td>62.525</td>\n      <td>8.134866</td>\n      <td>2.852844</td>\n      <td>17.017708</td>\n      <td>both</td>\n    </tr>\n    <tr>\n      <th>54</th>\n      <td>Afghanistan</td>\n      <td>2014</td>\n      <td>62.966</td>\n      <td>8.182274</td>\n      <td>2.846602</td>\n      <td>16.955169</td>\n      <td>both</td>\n    </tr>\n    <tr>\n      <th>55</th>\n      <td>Afghanistan</td>\n      <td>2015</td>\n      <td>63.377</td>\n      <td>NaN</td>\n      <td>2.836450</td>\n      <td>16.909515</td>\n      <td>both</td>\n    </tr>\n    <tr>\n      <th>56</th>\n      <td>Afghanistan</td>\n      <td>2016</td>\n      <td>63.763</td>\n      <td>NaN</td>\n      <td>2.858358</td>\n      <td>16.868402</td>\n      <td>both</td>\n    </tr>\n    <tr>\n      <th>57</th>\n      <td>Afghanistan</td>\n      <td>2017</td>\n      <td>64.130</td>\n      <td>NaN</td>\n      <td>3.240075</td>\n      <td>16.830857</td>\n      <td>both</td>\n    </tr>\n    <tr>\n      <th>58</th>\n      <td>Afghanistan</td>\n      <td>2018</td>\n      <td>64.486</td>\n      <td>NaN</td>\n      <td>NaN</td>\n      <td>NaN</td>\n      <td>left_only</td>\n    </tr>\n    <tr>\n      <th>59</th>\n      <td>Afghanistan</td>\n      <td>2019</td>\n      <td>64.833</td>\n      <td>NaN</td>\n      <td>NaN</td>\n      <td>NaN</td>\n      <td>left_only</td>\n    </tr>\n  </tbody>\n</table>\n</div>"
     },
     "metadata": {},
     "execution_count": 56
    }
   ],
   "source": [
    "merge2.drop(columns=['_merge'],inplace=True)\n",
    "merge3 = pd.merge(merge2,\n",
    "                  mental_pop,\n",
    "                  how='left',\n",
    "                  left_on=['Entity','Year'],\n",
    "                  right_on=['Entity','Year'],\n",
    "                  suffixes=('', '_y'),\n",
    "                  indicator=True).fillna(np.nan)\n",
    "\n",
    "merge3.head(60)"
   ]
  },
  {
   "cell_type": "code",
   "execution_count": 57,
   "metadata": {},
   "outputs": [],
   "source": [
    "merge3.drop(columns=['_merge'],inplace=True)\n",
    "# save final csv file\n",
    "merge3.to_csv(os.path.join(final_data_dir,'HEALTH.csv'),index=False)"
   ]
  },
  {
   "source": [
    "## SECURITY TABLE"
   ],
   "cell_type": "markdown",
   "metadata": {}
  }
 ]
}